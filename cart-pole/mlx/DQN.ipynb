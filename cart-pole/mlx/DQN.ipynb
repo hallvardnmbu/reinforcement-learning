{
 "cells": [
  {
   "cell_type": "markdown",
   "source": [
    "# Value-based agent in the cart-pole environment using Apple MLX"
   ],
   "metadata": {
    "collapsed": false
   },
   "id": "4dc5f6d081709484"
  },
  {
   "cell_type": "markdown",
   "source": [
    "|        | TYPE             | VALUES | DESCRIPTION                                                                     |\n",
    "|--------|------------------|--------|---------------------------------------------------------------------------------|\n",
    "| Action | ndarray<br/>(1,) | {0, 1} | Direction to push cart.<br/>0: left<br/>1: right                                |\n",
    "| Observation | ndarray<br/>(4,) | float  | 1. Cart position<br/>2. Cart velocity<br/>3. Pole angle<br/>4. Angular velocity |\n",
    "| Reward |  | float | Reward is given for every step taken, including the termination step.<br/>Each step provides a reward of +1 |\n",
    "| Termination &<br/>Truncation |  | boolean | Pole Angle exceeds ± 0.2095 rad<br/>Cart Position exceeds ± 2.4 (i.e., edge of the display)<br/>Episode length is greater than 500 |"
   ],
   "metadata": {
    "collapsed": false
   },
   "id": "5b16567211834cec"
  },
  {
   "cell_type": "code",
   "outputs": [],
   "source": [
    "import time\n",
    "import imageio\n",
    "import mlx.core as mx\n",
    "import gymnasium as gym\n",
    "import mlx.optimizers as optim\n",
    "import matplotlib.pyplot as plt\n",
    "\n",
    "from DQN import DeepQ, Network"
   ],
   "metadata": {
    "collapsed": false
   },
   "id": "b9dfe582289a115a",
   "execution_count": null
  },
  {
   "cell_type": "code",
   "outputs": [],
   "source": [
    "environment = gym.make('CartPole-v1', render_mode=\"rgb_array\")"
   ],
   "metadata": {
    "collapsed": false
   },
   "id": "3fb133ae3e92309f",
   "execution_count": null
  },
  {
   "cell_type": "markdown",
   "source": [
    "### Training"
   ],
   "metadata": {
    "collapsed": false
   },
   "id": "62eb32e25b94bb1c"
  },
  {
   "cell_type": "markdown",
   "source": [
    "#### Parameters"
   ],
   "metadata": {
    "collapsed": false
   },
   "id": "a7932a8419d27cdb"
  },
  {
   "cell_type": "code",
   "outputs": [],
   "source": [
    "GAMES = 2000\n",
    "\n",
    "GAMMA = 0.99\n",
    "\n",
    "EXPLORATION_RATE = 1.0\n",
    "EXPLORATION_DECAY = 0.995\n",
    "EXPLORATION_MIN = 0.01\n",
    "\n",
    "MINIBATCH = 64\n",
    "TRAIN_EVERY = 10\n",
    "\n",
    "MEMORY = 500\n",
    "RESET_Q_EVERY = 250\n",
    "\n",
    "NETWORK = {\"inputs\": 4, \"outputs\": 2, \"nodes\": [30, 15]}\n",
    "OPTIMIZER = {\"optimizer\": optim.RMSprop, \"lr\": 0.0025}"
   ],
   "metadata": {
    "collapsed": false
   },
   "id": "5c44fafc0a8294cb",
   "execution_count": null
  },
  {
   "cell_type": "markdown",
   "source": [
    "#### Initialisation"
   ],
   "metadata": {
    "collapsed": false
   },
   "id": "cf0011b596f6eef4"
  },
  {
   "cell_type": "code",
   "outputs": [],
   "source": [
    "value_agent = DeepQ(\n",
    "    network=NETWORK, optimizer=OPTIMIZER,\n",
    "    gamma=GAMMA, batch_size=MINIBATCH, memory=MEMORY,\n",
    "    exploration_rate=EXPLORATION_RATE, exploration_decay=EXPLORATION_DECAY, \n",
    "    exploration_min=EXPLORATION_MIN\n",
    ")\n",
    "\n",
    "# TARGET NETWORK\n",
    "# --------------------------------------------------------------------------------------------------\n",
    "# The target network is used to calculate the target Q-value for the loss function. It is updated\n",
    "# every `RESET_Q_EVERY` games to the current Q-network. The parameters are then updated in the \n",
    "# same way as here:\n",
    "\n",
    "_value_agent = Network(network=NETWORK)\n",
    "\n",
    "parameters = [(f\"layers.{i}.{name}\", value)\n",
    "              for i, layer in enumerate(value_agent.agent.parameters()[\"layers\"])\n",
    "              for name, value in layer.items()]\n",
    "_value_agent.load_weights(parameters)"
   ],
   "metadata": {
    "collapsed": false
   },
   "id": "76240d09dd13665f",
   "execution_count": null
  },
  {
   "cell_type": "code",
   "outputs": [],
   "source": [
    "checkpoint = GAMES // 10\n",
    "metrics = {\n",
    "    \"steps\": mx.zeros(GAMES),\n",
    "    \"losses\": mx.zeros(GAMES // TRAIN_EVERY),\n",
    "    \"exploration\": mx.zeros(GAMES)\n",
    "}"
   ],
   "metadata": {
    "collapsed": false
   },
   "id": "da9d79c94813b7e7",
   "execution_count": null
  },
  {
   "cell_type": "markdown",
   "source": [
    "#### Training"
   ],
   "metadata": {
    "collapsed": false
   },
   "id": "1cf76698aca85ada"
  },
  {
   "cell_type": "code",
   "outputs": [],
   "source": [
    "start = time.time()\n",
    "for game in range(1, GAMES + 1):\n",
    "    \n",
    "    state = mx.array(environment.reset()[0])\n",
    "    terminated = truncated = False\n",
    "    \n",
    "    # LEARNING FROM GAME\n",
    "    # ----------------------------------------------------------------------------------------------\n",
    "    \n",
    "    steps = 0\n",
    "    while not (terminated or truncated):\n",
    "        steps += 1\n",
    "        \n",
    "        action = value_agent.action(state)\n",
    "        new_state, reward, terminated, truncated, _ = environment.step(action.item())\n",
    "        new_state = mx.array(new_state)\n",
    "        \n",
    "        value_agent.remember(state, action, new_state, mx.array([reward]))\n",
    "        state = new_state\n",
    "    value_agent.memorize(steps)\n",
    "    \n",
    "    if game % TRAIN_EVERY == 0:\n",
    "        loss = value_agent.learn(network=_value_agent)\n",
    "        metrics[\"losses\"][game // TRAIN_EVERY - 1] = loss\n",
    "    \n",
    "    if game % RESET_Q_EVERY == 0:\n",
    "        parameters = [(f\"layers.{i}.{name}\", value)\n",
    "                      for i, layer in enumerate(value_agent.agent.parameters()[\"layers\"])\n",
    "                      for name, value in layer.items()]\n",
    "        _value_agent.load_weights(parameters)\n",
    "\n",
    "    # METRICS\n",
    "    # ----------------------------------------------------------------------------------------------\n",
    "    \n",
    "    metrics[\"steps\"][game-1] = steps\n",
    "    metrics[\"exploration\"][game-1] = value_agent.explore[\"rate\"]\n",
    "    \n",
    "    if game % checkpoint == 0 or game == GAMES:\n",
    "        _mean_steps = metrics[\"steps\"][max(0, game-checkpoint-1):game-1].mean().item()\n",
    "        _mean_loss = (metrics[\"losses\"][max(0, (game-checkpoint-1) \n",
    "                                            // TRAIN_EVERY):game // TRAIN_EVERY].mean().item())\n",
    "        \n",
    "        print(f\"Game {game:>6} {int(game/GAMES * 100):>16} % \\n\"\n",
    "              f\"{'-'*30} \\n\"\n",
    "              f\" > Average steps: {int(_mean_steps):>12} \\n\"\n",
    "              f\" > Average loss: {_mean_loss:>13.4f} \\n \")\n",
    "        \n",
    "print(f\"Total training time: {time.time()-start:.2f} seconds\")"
   ],
   "metadata": {
    "collapsed": false
   },
   "id": "3373d6c10f2a455c",
   "execution_count": null
  },
  {
   "cell_type": "markdown",
   "source": [
    "#### Visualisation"
   ],
   "metadata": {
    "collapsed": false
   },
   "id": "c5e3b0d64c9dd694"
  },
  {
   "cell_type": "markdown",
   "source": [
    "##### Metrics"
   ],
   "metadata": {
    "collapsed": false
   },
   "id": "6c6d06986045c95e"
  },
  {
   "cell_type": "code",
   "outputs": [],
   "source": [
    "def moving_average(data, window_size=50):\n",
    "    \"\"\"Compute moving average with given window size of the data.\"\"\"\n",
    "    half_window = window_size // 2\n",
    "    return [(data[max(0, i-half_window):min(len(data), i+half_window)]).mean().item() \n",
    "            for i in range(len(data))]\n",
    "\n",
    "steps = moving_average(metrics[\"steps\"])\n",
    "losses = moving_average(metrics[\"losses\"])\n",
    "\n",
    "fig, ax = plt.subplots(2, 1, figsize=(12, 8))\n",
    "fig.suptitle(\"Value-based: deep Q-learning agent\")\n",
    "\n",
    "ax[0].axhline(y=500, color=\"gray\", linestyle=\"dotted\", linewidth=1)\n",
    "ax[0].plot(steps, color=\"black\", linewidth=1)\n",
    "ax[0].set_xticks([])\n",
    "ax[0].set_title(\"Average steps per game\")\n",
    "\n",
    "ax[1].plot(mx.linspace(0, GAMES, len(losses)).tolist(), losses, color=\"black\", linewidth=1)\n",
    "ax[1].set_yscale(\"log\")\n",
    "ax[1].set_xlabel(\"Game nr.\")\n",
    "ax[1].set_title(\"Average loss\")\n",
    "\n",
    "ax_2 = ax[1].twinx()\n",
    "ax_2.plot(metrics[\"exploration\"].tolist(), color=\"gray\", linewidth=0.5)\n",
    "ax_2.set_ylabel(\"Exploration rate\")\n",
    "ax_2.yaxis.label.set_color('gray')\n",
    "ax_2.tick_params(axis='y', colors='gray')\n",
    "\n",
    "for i in range(0, GAMES, GAMES // 10):\n",
    "    ax[0].axvline(x=i, color='gray', linewidth=0.5)\n",
    "    ax[1].axvline(x=i, color='gray', linewidth=0.5)\n",
    "\n",
    "plt.savefig(\"../output/mlx-value-cartpole.png\")\n",
    "plt.show()"
   ],
   "metadata": {
    "collapsed": false
   },
   "id": "5350f08edb7f5ec",
   "execution_count": null
  },
  {
   "cell_type": "markdown",
   "source": [
    "##### In action"
   ],
   "metadata": {
    "collapsed": false
   },
   "id": "eac02d321b6495a"
  },
  {
   "cell_type": "code",
   "outputs": [],
   "source": [
    "state = mx.array(environment.reset()[0])\n",
    "\n",
    "images = []\n",
    "terminated = truncated = False\n",
    "while not (terminated or truncated):\n",
    "    actions = value_agent.agent(state)\n",
    "    action = mx.argmax(actions).item()\n",
    "    \n",
    "    state, reward, terminated, truncated, _ = environment.step(action)\n",
    "    state = mx.array(state)\n",
    "\n",
    "    images.append(environment.render())\n",
    "_ = imageio.mimsave('../output/mlx-value-cartpole.gif', images, duration=25)"
   ],
   "metadata": {
    "collapsed": false
   },
   "id": "628747ee45f90aeb",
   "execution_count": null
  },
  {
   "cell_type": "markdown",
   "source": [
    "<img src=\"../output/mlx-value-cartpole.gif\" width=\"1000\" height=\"1000\" />"
   ],
   "metadata": {
    "collapsed": false
   },
   "id": "6c91ca2b6c991bc1"
  },
  {
   "cell_type": "code",
   "outputs": [],
   "source": [
    "environment.close()"
   ],
   "metadata": {
    "collapsed": false
   },
   "id": "16552758137d5032",
   "execution_count": null
  }
 ],
 "metadata": {
  "kernelspec": {
   "display_name": "Python 3",
   "language": "python",
   "name": "python3"
  },
  "language_info": {
   "codemirror_mode": {
    "name": "ipython",
    "version": 2
   },
   "file_extension": ".py",
   "mimetype": "text/x-python",
   "name": "python",
   "nbconvert_exporter": "python",
   "pygments_lexer": "ipython2",
   "version": "2.7.6"
  }
 },
 "nbformat": 4,
 "nbformat_minor": 5
}
