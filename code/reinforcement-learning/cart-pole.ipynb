{
 "cells": [
  {
   "cell_type": "markdown",
   "source": [
    "Reinforcement learning agent in a simple environment"
   ],
   "metadata": {
    "collapsed": false
   },
   "id": "23c03779b2a1a5c0"
  },
  {
   "cell_type": "code",
   "outputs": [],
   "source": [
    "EPISODES = 1000"
   ],
   "metadata": {
    "collapsed": false
   },
   "id": "aafec2fd38c9ab22",
   "execution_count": null
  },
  {
   "cell_type": "markdown",
   "source": [
    "To gain a basic understanding of reinforcement learning, we experiment with a \"simple\" problem. \n",
    "That is, a pole balancing on a cart which can move either to the left or the right."
   ],
   "metadata": {
    "collapsed": false
   },
   "id": "8b30e59127697cf5"
  },
  {
   "cell_type": "markdown",
   "source": [
    "Cart pole environment\n",
    "\n",
    "Actions: ndarray (1,)\n",
    " - {0, 1}: In which direction (0 = left, 1 = right) to push the cart.\n",
    "\n",
    "Observation: ndarray (4,)\n",
    " - \\[cart position, cart velocity, pole angle, pole angular velocity\\]\n",
    " \n",
    "Reward: float\n",
    " - Reward is for every step taken, including the termination step.\n",
    " \n",
    "Termination: bool\n",
    " - Pole Angle is more than ±12°\n",
    " - Cart Position is more than ±2.4 (center of the cart reaches the edge of the display)\n",
    " - Episode length is greater than 500"
   ],
   "metadata": {
    "collapsed": false
   },
   "id": "a227dd4386c39e84"
  },
  {
   "cell_type": "code",
   "outputs": [],
   "source": [
    "import gymnasium as gym\n",
    "import matplotlib.pyplot as plt\n",
    "\n",
    "# Disable plot axes and ticks:\n",
    "plt.rcParams.update({\n",
    "    'axes.spines.top': False, \n",
    "    'axes.spines.right': False, \n",
    "    'axes.spines.bottom': False, \n",
    "    'axes.spines.left': False, \n",
    "    'xtick.bottom': False, \n",
    "    'xtick.labelbottom': False, \n",
    "    'ytick.labelleft': False, \n",
    "    'ytick.left': False\n",
    "})"
   ],
   "metadata": {
    "collapsed": false
   },
   "id": "c69f9f38e669d12c",
   "execution_count": null
  },
  {
   "cell_type": "markdown",
   "source": [
    "Environment"
   ],
   "metadata": {
    "collapsed": false
   },
   "id": "e962668f69b161cf"
  },
  {
   "cell_type": "code",
   "execution_count": null,
   "id": "initial_id",
   "metadata": {
    "collapsed": true
   },
   "outputs": [],
   "source": [
    "environment = gym.make('CartPole-v1',\n",
    "                       render_mode=\"rgb_array\")\n",
    "\n",
    "_ = environment.reset()\n",
    "_ = plt.imshow(environment.render())"
   ]
  },
  {
   "cell_type": "markdown",
   "source": [
    "Agent"
   ],
   "metadata": {
    "collapsed": false
   },
   "id": "c6b879b884f78c2d"
  },
  {
   "cell_type": "code",
   "outputs": [],
   "source": [
    "import torch\n",
    "import torch.nn as nn\n",
    "\n",
    "class Agent(nn.Module):\n",
    "    def __init__(self, inputs=4, actions=1, hidden=False, neurons=64):\n",
    "        \"\"\"\n",
    "        Agent for reinforcement learning.\n",
    "        \n",
    "        Parameters\n",
    "        ----------\n",
    "        inputs : int, optional\n",
    "            Number of inputs.\n",
    "        actions : int, optional\n",
    "            Number of actions.\n",
    "        hidden : int or False, optional\n",
    "            Number of hidden layers.\n",
    "        neurons : int, optional\n",
    "            Number of neurons between layers.\n",
    "        \"\"\"\n",
    "        super(Agent, self).__init__()\n",
    "        self.hidden = hidden\n",
    "        \n",
    "        self.layer_in = nn.Linear(inputs, neurons)\n",
    "        \n",
    "        if self.hidden:\n",
    "            for i in range(self.hidden):\n",
    "                setattr(self, f\"layer_{i+1}\", nn.Linear(neurons, neurons))\n",
    "            \n",
    "        self.layer_out = nn.Linear(neurons, actions)\n",
    "        \n",
    "    def forward(self, x):\n",
    "        \"\"\"\n",
    "        Forward pass.\n",
    "        \n",
    "        Parameters\n",
    "        ----------\n",
    "        x : numpy.ndarray or torch.Tensor\n",
    "            Observation state.\n",
    "            \n",
    "        Returns\n",
    "        -------\n",
    "        output : torch.Tensor\n",
    "            Action probabilities.\n",
    "        \"\"\"\n",
    "        _output = torch.tanh(self.layer_in(x))\n",
    "        \n",
    "        if self.hidden:\n",
    "            for i in range(self.hidden):\n",
    "                _output = torch.tanh(getattr(self, f\"layer_{i+1}\")(_output))\n",
    "            \n",
    "        if self.layer_out.out_features > 1:\n",
    "            output = torch.softmax(self.layer_out(_output), dim=-1)\n",
    "        else:\n",
    "            output = torch.sigmoid(self.layer_out(_output))\n",
    "        \n",
    "        return output"
   ],
   "metadata": {
    "collapsed": false
   },
   "id": "b245eb61c9fd0614",
   "execution_count": null
  },
  {
   "cell_type": "markdown",
   "source": [
    "Training"
   ],
   "metadata": {
    "collapsed": false
   },
   "id": "a7ade8fc0157ed95"
  },
  {
   "cell_type": "code",
   "outputs": [],
   "source": [
    "# agents = {\n",
    "#     \"vanilla\": Agent(),\n",
    "#     \"one_hidden\": Agent(hidden=1),\n",
    "#     \"two_hidden\": Agent(hidden=2),\n",
    "#     \"three_hidden\": Agent(hidden=3),\n",
    "#     \"128_neurons\": Agent(neurons=128),\n",
    "#     \"256_neurons\": Agent(neurons=256),\n",
    "#     \"128_neurons_one_hidden\": Agent(neurons=128, hidden=1),\n",
    "#     \"256_neurons_one_hidden\": Agent(neurons=256, hidden=1),\n",
    "#     \"128_neurons_two_hidden\": Agent(neurons=128, hidden=2),\n",
    "#     \"256_neurons_two_hidden\": Agent(neurons=256, hidden=2),\n",
    "#     \"128_neurons_three_hidden\": Agent(neurons=128, hidden=3),\n",
    "#     \"256_neurons_three_hidden\": Agent(neurons=256, hidden=3)\n",
    "# }\n",
    "agents = {\"test\": Agent()}\n",
    "\n",
    "# Using the binary cross-entropy loss function for rewards of 0 and 1.\n",
    "loss_function = nn.BCELoss()\n",
    "\n",
    "for description, agent in agents.items():\n",
    "    \n",
    "    print(f\"Training agent '{description}'...\")\n",
    "    \n",
    "    optimizer = torch.optim.Adam(agent.parameters())\n",
    "    \n",
    "    for episode in range(EPISODES):\n",
    "        observation, info = environment.reset()\n",
    "        \n",
    "        for step in range(1000):\n",
    "            \n",
    "            observation = torch.tensor(observation, dtype=torch.float32)\n",
    "            \n",
    "            actions = agent(observation)\n",
    "\n",
    "            if agent.layer_out.out_features > 1:\n",
    "                \n",
    "                # If there are multiple actions, we choose the action with the highest probability.\n",
    "                # The index of the highest probability is then regarded as the action.\n",
    "                \n",
    "                action = actions.argmax().item()\n",
    "            else:\n",
    "                \n",
    "                # If there are only two actions, we round the output to the nearest integer.\n",
    "                # The value 0 or 1 is then regarded as the actions.\n",
    "                \n",
    "                action = int(actions.round().item())\n",
    "            \n",
    "            observation, reward, terminated, truncated, _ = environment.step(action)\n",
    "            \n",
    "            loss = loss_function(actions, torch.tensor([reward], dtype=torch.float32))\n",
    "            \n",
    "            optimizer.zero_grad()\n",
    "            loss.backward()\n",
    "            optimizer.step()\n",
    "            \n",
    "            if terminated or truncated:\n",
    "                observation, _ = environment.reset()\n",
    "                \n",
    "    print(f\"Agent '{description}' trained.\")"
   ],
   "metadata": {
    "collapsed": false
   },
   "id": "cb9003cfbc25239e",
   "execution_count": null
  },
  {
   "cell_type": "code",
   "outputs": [],
   "source": [
    "# Use the agent to play the game and save the frames.\n",
    "\n",
    "observation, info = environment.reset()\n",
    "\n",
    "for timestep in range(1000):\n",
    "    \n",
    "    observation = torch.tensor(observation, dtype=torch.float32)\n",
    "    actions = agents['test'](observation)\n",
    "    action = int(actions.round().item())\n",
    "    \n",
    "    print(action)\n",
    "    \n",
    "    observation, reward, terminated, truncated, _ = environment.step(action)\n",
    "    \n",
    "    _ = plt.imshow(environment.render())\n",
    "    plt.savefig(f\"./gif/{timestep}.png\")\n",
    "    \n",
    "    if terminated or truncated:\n",
    "        break"
   ],
   "metadata": {
    "collapsed": false
   },
   "id": "c6ebbde1d8daa55b",
   "execution_count": null
  },
  {
   "cell_type": "code",
   "outputs": [],
   "source": [
    "environment.close()"
   ],
   "metadata": {
    "collapsed": false
   },
   "id": "dbf42b7cc327e299"
  },
  {
   "cell_type": "markdown",
   "source": [
    "Sources\n",
    "\n",
    "https://gymnasium.farama.org/content/basic_usage/\n",
    "\n",
    "https://gymnasium.farama.org/environments/classic_control/cart_pole/\n",
    "\n",
    "https://ieeexplore.ieee.org/document/6313077"
   ],
   "metadata": {
    "collapsed": false
   },
   "id": "bf92ff7a0b0251bd"
  }
 ],
 "metadata": {
  "kernelspec": {
   "display_name": "Python 3",
   "language": "python",
   "name": "python3"
  },
  "language_info": {
   "codemirror_mode": {
    "name": "ipython",
    "version": 2
   },
   "file_extension": ".py",
   "mimetype": "text/x-python",
   "name": "python",
   "nbconvert_exporter": "python",
   "pygments_lexer": "ipython2",
   "version": "2.7.6"
  }
 },
 "nbformat": 4,
 "nbformat_minor": 5
}
