{
 "cells": [
  {
   "cell_type": "markdown",
   "source": [
    "Reinforcement learning agent in a simple environment"
   ],
   "metadata": {
    "collapsed": false
   },
   "id": "23c03779b2a1a5c0"
  },
  {
   "cell_type": "markdown",
   "source": [
    "To gain a basic understanding of reinforcement learning, we experiment with a \"simple\" problem. \n",
    "That is, a pole balancing on a cart which can move either to the left or the right."
   ],
   "metadata": {
    "collapsed": false
   },
   "id": "8b30e59127697cf5"
  },
  {
   "cell_type": "markdown",
   "source": [
    "Cart pole environment\n",
    "\n",
    "Actions: ndarray (1,)\n",
    " - {0, 1}: In which direction (0 = left, 1 = right) to push the cart.\n",
    "\n",
    "Observation: ndarray (4,)\n",
    " - \\[cart position, cart velocity, pole angle, pole angular velocity\\]\n",
    " \n",
    "Reward: float\n",
    " - Reward is for every step taken, including the termination step.\n",
    " \n",
    "Termination: bool\n",
    " - Pole Angle is more than ±12°\n",
    " - Cart Position is more than ±2.4 (center of the cart reaches the edge of the display)\n",
    " - Episode length is greater than 500"
   ],
   "metadata": {
    "collapsed": false
   },
   "id": "a227dd4386c39e84"
  },
  {
   "cell_type": "code",
   "outputs": [],
   "source": [
    "import gymnasium as gym\n",
    "import matplotlib.pyplot as plt\n",
    "\n",
    "plt.rcParams.update({\n",
    "    'axes.spines.top': False, \n",
    "    'axes.spines.right': False, \n",
    "    'axes.spines.bottom': False, \n",
    "    'axes.spines.left': False, \n",
    "    'xtick.bottom': False, \n",
    "    'xtick.labelbottom': False, \n",
    "    'ytick.labelleft': False, \n",
    "    'ytick.left': False\n",
    "})"
   ],
   "metadata": {
    "collapsed": false,
    "ExecuteTime": {
     "end_time": "2024-01-31T11:38:37.176771Z",
     "start_time": "2024-01-31T11:38:36.701125Z"
    }
   },
   "id": "c69f9f38e669d12c",
   "execution_count": 1
  },
  {
   "cell_type": "markdown",
   "source": [
    "Environment"
   ],
   "metadata": {
    "collapsed": false
   },
   "id": "e962668f69b161cf"
  },
  {
   "cell_type": "code",
   "execution_count": 3,
   "id": "initial_id",
   "metadata": {
    "collapsed": true,
    "ExecuteTime": {
     "end_time": "2024-01-31T11:41:55.068114Z",
     "start_time": "2024-01-31T11:41:54.997882Z"
    }
   },
   "outputs": [
    {
     "data": {
      "text/plain": "<Figure size 640x480 with 1 Axes>",
      "image/png": "[encoded data removed]"
     },
     "metadata": {},
     "output_type": "display_data"
    }
   ],
   "source": [
    "environment = gym.make('CartPole-v1',\n",
    "                       render_mode=\"rgb_array\")\n",
    "\n",
    "observation, info = environment.reset()\n",
    "_ = plt.imshow(environment.render())"
   ]
  },
  {
   "cell_type": "markdown",
   "source": [
    "Reward"
   ],
   "metadata": {
    "collapsed": false
   },
   "id": "1f09c47d3691dc48"
  },
  {
   "cell_type": "code",
   "outputs": [],
   "source": [
    "observation"
   ],
   "metadata": {
    "collapsed": false
   },
   "id": "2b989ae34acc62fa",
   "execution_count": null
  },
  {
   "cell_type": "markdown",
   "source": [
    "Agent"
   ],
   "metadata": {
    "collapsed": false
   },
   "id": "c6b879b884f78c2d"
  },
  {
   "cell_type": "code",
   "outputs": [],
   "source": [],
   "metadata": {
    "collapsed": false
   },
   "id": "b245eb61c9fd0614"
  },
  {
   "cell_type": "markdown",
   "source": [
    "Training"
   ],
   "metadata": {
    "collapsed": false
   },
   "id": "a7ade8fc0157ed95"
  },
  {
   "cell_type": "code",
   "outputs": [],
   "source": [],
   "metadata": {
    "collapsed": false
   },
   "id": "cb9003cfbc25239e"
  },
  {
   "cell_type": "markdown",
   "source": [
    "Policy"
   ],
   "metadata": {
    "collapsed": false
   },
   "id": "68459d4bfb04b1f5"
  },
  {
   "cell_type": "code",
   "outputs": [],
   "source": [],
   "metadata": {
    "collapsed": false
   },
   "id": "5023bb4792aa7842"
  },
  {
   "cell_type": "markdown",
   "source": [
    "Sources\n",
    "\n",
    "https://gymnasium.farama.org/content/basic_usage/\n",
    "\n",
    "https://gymnasium.farama.org/environments/classic_control/cart_pole/\n",
    "\n",
    "https://ieeexplore.ieee.org/document/6313077"
   ],
   "metadata": {
    "collapsed": false
   },
   "id": "bf92ff7a0b0251bd"
  }
 ],
 "metadata": {
  "kernelspec": {
   "display_name": "Python 3",
   "language": "python",
   "name": "python3"
  },
  "language_info": {
   "codemirror_mode": {
    "name": "ipython",
    "version": 2
   },
   "file_extension": ".py",
   "mimetype": "text/x-python",
   "name": "python",
   "nbconvert_exporter": "python",
   "pygments_lexer": "ipython2",
   "version": "2.7.6"
  }
 },
 "nbformat": 4,
 "nbformat_minor": 5
}
