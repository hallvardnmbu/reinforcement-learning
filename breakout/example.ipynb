{
 "cells": [
  {
   "cell_type": "markdown",
   "source": [
    "# Example of visualising the agent's training history performance"
   ],
   "metadata": {
    "collapsed": false
   },
   "id": "b3d8465ecb86eca7"
  },
  {
   "cell_type": "markdown",
   "source": [
    "MODEL : Path to the pre-trained model\n",
    "METRICS : Path to the training history, or None"
   ],
   "metadata": {
    "collapsed": false
   },
   "id": "fff872a8189754af"
  },
  {
   "cell_type": "code",
   "outputs": [],
   "source": [
    "MODEL = './results/model.pth'\n",
    "METRICS = None"
   ],
   "metadata": {
    "collapsed": false
   },
   "id": "fea8e7d9fca9baa8",
   "execution_count": null
  },
  {
   "cell_type": "code",
   "outputs": [],
   "source": [
    "import sys\n",
    "import torch\n",
    "import gymnasium as gym\n",
    "import matplotlib.pyplot as plt\n",
    "\n",
    "sys.path.append(\"../\")\n",
    "from help.visualisation.plot import graph                                              # noqa\n",
    "from help.visualisation.movie import movie                                             # noqa"
   ],
   "metadata": {
    "collapsed": false
   },
   "id": "7fb6036582d6bcba",
   "execution_count": null
  },
  {
   "cell_type": "markdown",
   "source": [
    "## Loading the agent and environment"
   ],
   "metadata": {
    "collapsed": false
   },
   "id": "f4ceef526245f794"
  },
  {
   "cell_type": "code",
   "outputs": [],
   "source": [
    "agent = torch.load(MODEL, map_location=torch.device('cpu'))\n",
    "\n",
    "environment = gym.make('ALE/Breakout-v5', render_mode=\"rgb_array\",\n",
    "                       obs_type=\"grayscale\", frameskip=1, repeat_action_probability=0.0)\n",
    "environment.metadata[\"render_fps\"] = 30"
   ],
   "metadata": {
    "collapsed": false
   },
   "id": "545e1bc3efb30329",
   "execution_count": null
  },
  {
   "cell_type": "markdown",
   "source": [
    "## Visualise"
   ],
   "metadata": {
    "collapsed": false
   },
   "id": "e0865980f2160f3d"
  },
  {
   "cell_type": "markdown",
   "source": [
    "### Training history (if specified)"
   ],
   "metadata": {
    "collapsed": false
   },
   "id": "e16710b451bb52bf"
  },
  {
   "cell_type": "code",
   "outputs": [],
   "source": [
    "graph(METRICS, title=\"Breakout training history\", window=20) if METRICS else None\n",
    "plt.show() if METRICS else None"
   ],
   "metadata": {
    "collapsed": false
   },
   "id": "22ce7a0155a13a58",
   "execution_count": null
  },
  {
   "cell_type": "markdown",
   "source": [
    "### In action"
   ],
   "metadata": {
    "collapsed": false
   },
   "id": "7cfa651d1ac64461"
  },
  {
   "cell_type": "code",
   "outputs": [],
   "source": [
    "movie(environment, agent, './results/breakout.mp4', fps=20)"
   ],
   "metadata": {
    "collapsed": false
   },
   "id": "b2ba42f6d9ca3e92",
   "execution_count": null
  }
 ],
 "metadata": {
  "kernelspec": {
   "display_name": "Python 3",
   "language": "python",
   "name": "python3"
  },
  "language_info": {
   "codemirror_mode": {
    "name": "ipython",
    "version": 2
   },
   "file_extension": ".py",
   "mimetype": "text/x-python",
   "name": "python",
   "nbconvert_exporter": "python",
   "pygments_lexer": "ipython2",
   "version": "2.7.6"
  }
 },
 "nbformat": 4,
 "nbformat_minor": 5
}
