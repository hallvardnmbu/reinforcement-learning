{
 "cells": [
  {
   "cell_type": "markdown",
   "id": "3c9f5224bda0a850",
   "metadata": {
    "collapsed": false,
    "jupyter": {
     "outputs_hidden": false
    }
   },
   "source": [
    "# Example of transfer learning vision agent"
   ]
  },
  {
   "cell_type": "code",
   "execution_count": 1,
   "id": "initial_id",
   "metadata": {
    "collapsed": true,
    "jupyter": {
     "outputs_hidden": true
    }
   },
   "outputs": [],
   "source": [
    "import warnings\n",
    "warnings.filterwarnings('ignore')\n",
    "\n",
    "import sys\n",
    "import time\n",
    "import copy\n",
    "\n",
    "import torch\n",
    "import gymnasium as gym\n",
    "from torchvision import models\n",
    "import matplotlib.pyplot as plt\n",
    "\n",
    "from DQN import TransferDeepQ\n",
    "\n",
    "sys.path.append(\"../\")\n",
    "from help.visualisation.plot import plot                                               # noqa\n",
    "from help.visualisation.gif import gif                                                 # noqa"
   ]
  },
  {
   "cell_type": "code",
   "execution_count": 2,
   "id": "eb78c59c224fb651",
   "metadata": {
    "collapsed": false,
    "jupyter": {
     "outputs_hidden": false
    }
   },
   "outputs": [],
   "source": [
    "environment = gym.make('ALE/Tetris-v5', render_mode=\"rgb_array\",\n",
    "                       obs_type=\"rgb\", frameskip=4, repeat_action_probability=0.25)\n",
    "environment.metadata[\"render_fps\"] = 30"
   ]
  },
  {
   "cell_type": "markdown",
   "id": "aaad5b18e1d9e8b8",
   "metadata": {
    "collapsed": false,
    "jupyter": {
     "outputs_hidden": false
    }
   },
   "source": [
    "## Parameters"
   ]
  },
  {
   "cell_type": "markdown",
   "id": "12e5ea5fba499e42",
   "metadata": {
    "collapsed": false,
    "jupyter": {
     "outputs_hidden": false
    }
   },
   "source": [
    "|Parameter|Description|\n",
    "|---------|-----------|\n",
    "| SHAPE | input shape of the network (batch, channels, height, width) |\n",
    "| DISCOUNT | discount rate for rewards |\n",
    "| GAMMA | discount rate for Q-learning |\n",
    "| EXPLORATION_RATE | initial exploration rate |\n",
    "| EXPLORATION_MIN | minimum exploration rate |\n",
    "| EXPLORATION_STEPS | number of games to decay exploration rate from `RATE` to `MIN` |\n",
    "| MINIBATCH | size of the minibatch |\n",
    "| TRAIN_EVERY | train the network every `n` games |\n",
    "| START_TRAINING_AT | start training after n games |\n",
    "| REMEMBER_ALL | only remember games with rewards |\n",
    "| MEMORY | size of the agents internal memory |\n",
    "| RESET_Q_EVERY | update target-network every `n` games |"
   ]
  },
  {
   "cell_type": "code",
   "execution_count": 3,
   "id": "f383835d35e478c8",
   "metadata": {
    "collapsed": false,
    "jupyter": {
     "outputs_hidden": false
    }
   },
   "outputs": [],
   "source": [
    "GAMES = 50\n",
    "SHAPE = (1, 3, 210, 160)\n",
    "\n",
    "DISCOUNT = 0.98\n",
    "GAMMA = 0.99\n",
    "\n",
    "EXPLORATION_RATE = 0.1\n",
    "EXPLORATION_MIN = 0.01\n",
    "EXPLORATION_STEPS = 100\n",
    "\n",
    "MINIBATCH = 32\n",
    "TRAIN_EVERY = 5\n",
    "START_TRAINING_AT = 45\n",
    "\n",
    "REMEMBER_ALL = False\n",
    "MEMORY = 150\n",
    "RESET_Q_EVERY = 100\n",
    "\n",
    "OPTIMIZER = {\n",
    "    \"optimizer\": torch.optim.Adam,\n",
    "    \"lr\": 0.001,\n",
    "    \"hyperparameters\": {}\n",
    "}"
   ]
  },
  {
   "cell_type": "markdown",
   "id": "dc1d9a28cc9d1683",
   "metadata": {
    "collapsed": false,
    "jupyter": {
     "outputs_hidden": false
    }
   },
   "source": [
    "## Pre-trained model"
   ]
  },
  {
   "cell_type": "code",
   "execution_count": 4,
   "id": "43d33757f625e1ca",
   "metadata": {
    "collapsed": false,
    "jupyter": {
     "outputs_hidden": false
    }
   },
   "outputs": [],
   "source": [
    "preprocess = models.ResNet18_Weights.DEFAULT.transforms()\n",
    "network = models.resnet18(weights=models.ResNet18_Weights.DEFAULT, progress=False)"
   ]
  },
  {
   "cell_type": "markdown",
   "id": "ee22e71e85adfd35",
   "metadata": {
    "collapsed": false,
    "jupyter": {
     "outputs_hidden": false
    }
   },
   "source": [
    "## Agent definition"
   ]
  },
  {
   "cell_type": "code",
   "execution_count": 5,
   "id": "ea2d40ac51dd0d3a",
   "metadata": {
    "collapsed": false,
    "jupyter": {
     "outputs_hidden": false
    }
   },
   "outputs": [],
   "source": [
    "value_agent = TransferDeepQ(\n",
    "    transfer={\"network\": network, \"preprocess\": preprocess},\n",
    "    actions=5, optimizer=OPTIMIZER,\n",
    "\n",
    "    batch_size=MINIBATCH,\n",
    "\n",
    "    memory=MEMORY,\n",
    "\n",
    "    discount=DISCOUNT, gamma=GAMMA,\n",
    "\n",
    "    exploration_rate=EXPLORATION_RATE,\n",
    "    exploration_steps=EXPLORATION_STEPS,\n",
    "    exploration_min=EXPLORATION_MIN,\n",
    ")\n",
    "\n",
    "_value_agent = copy.deepcopy(value_agent.network)"
   ]
  },
  {
   "cell_type": "markdown",
   "id": "9ad2a5bb019dbbc",
   "metadata": {
    "collapsed": false,
    "jupyter": {
     "outputs_hidden": false
    }
   },
   "source": [
    "## Training"
   ]
  },
  {
   "cell_type": "code",
   "execution_count": 6,
   "id": "e5ae05701605529e",
   "metadata": {
    "collapsed": false,
    "jupyter": {
     "outputs_hidden": false
    }
   },
   "outputs": [],
   "source": [
    "CHECKPOINT = GAMES // 10\n",
    "METRICS = {\n",
    "    \"steps\": torch.zeros(GAMES),\n",
    "    \"losses\": torch.zeros(GAMES // TRAIN_EVERY),\n",
    "    \"exploration\": torch.zeros(GAMES),\n",
    "    \"rewards\": torch.zeros(GAMES)\n",
    "}"
   ]
  },
  {
   "cell_type": "code",
   "execution_count": 7,
   "id": "acdd4620178ad85c",
   "metadata": {
    "collapsed": false,
    "jupyter": {
     "outputs_hidden": false
    }
   },
   "outputs": [],
   "source": [
    "TRAINING = False\n",
    "\n",
    "start = time.time()\n",
    "for game in range(1, GAMES + 1):\n",
    "\n",
    "    if not TRAINING and game >= START_TRAINING_AT:\n",
    "        print(\"Starting training\")\n",
    "        TRAINING = True\n",
    "\n",
    "    state = torch.tensor(environment.reset()[0], dtype=torch.float32).view(SHAPE)\n",
    "    TERMINATED = TRUNCATED = False\n",
    "\n",
    "    # LEARNING FROM GAME\n",
    "    # ----------------------------------------------------------------------------------------------\n",
    "\n",
    "    STEPS = 0\n",
    "    REWARDS = 0\n",
    "    while not (TERMINATED or TRUNCATED):\n",
    "        action = value_agent.action(state)\n",
    "\n",
    "        new_state, reward, TERMINATED, TRUNCATED, _ = environment.step(action.item())\n",
    "\n",
    "        new_state = torch.tensor(new_state, dtype=torch.float32).view(SHAPE)\n",
    "\n",
    "        value_agent.remember(state, action, torch.tensor([reward]))\n",
    "\n",
    "        state = new_state\n",
    "\n",
    "        STEPS += 1\n",
    "        REWARDS += reward\n",
    "\n",
    "    if REMEMBER_ALL or REWARDS > 0:\n",
    "        value_agent.memorize(state, STEPS)\n",
    "        print(f\" Memorized {game} \"\n",
    "              f\"Memory: {len(value_agent.memory['memory']) * 100 / MEMORY} % \"\n",
    "              f\"Rewards: {REWARDS}\")\n",
    "    else:\n",
    "        value_agent.memory[\"game\"].clear()\n",
    "\n",
    "    if (game % TRAIN_EVERY == 0\n",
    "            and len(value_agent.memory[\"memory\"]) > 0\n",
    "            and TRAINING):\n",
    "\n",
    "        loss = value_agent.learn(network=_value_agent)\n",
    "        METRICS[\"losses\"][game // TRAIN_EVERY - 1] = loss\n",
    "\n",
    "    if game % RESET_Q_EVERY == 0 and TRAINING:\n",
    "        print(\" Resetting target-network\")\n",
    "\n",
    "        _value_agent.load_state_dict(value_agent.network.state_dict())\n",
    "\n",
    "    # METRICS\n",
    "    # ----------------------------------------------------------------------------------------------\n",
    "\n",
    "    METRICS[\"steps\"][game - 1] = STEPS\n",
    "    METRICS[\"exploration\"][game - 1] = value_agent.parameter[\"rate\"]\n",
    "    METRICS[\"rewards\"][game - 1] = REWARDS\n",
    "\n",
    "    if game % CHECKPOINT == 0 or game == GAMES:\n",
    "        _MEAN_STEPS = METRICS[\"steps\"][max(0, game - CHECKPOINT - 1):game - 1].mean()\n",
    "        _TOTAL_REWARDS = METRICS[\"rewards\"][max(0, game - CHECKPOINT - 1):game - 1].sum()\n",
    "\n",
    "        if TRAINING:\n",
    "            _MEAN_LOSS = METRICS[\"losses\"][max(0, (game - CHECKPOINT - 1)\n",
    "                                               // TRAIN_EVERY):game // TRAIN_EVERY].mean()\n",
    "            _MEAN_LOSS = f\"{_MEAN_LOSS:.4f}\"\n",
    "        else:\n",
    "            _MEAN_LOSS = \"-\"\n",
    "\n",
    "        print(f\"Game {game} ({int(game * 100 / GAMES)} %)\")\n",
    "        print(\" > Average steps:\", int(_MEAN_STEPS))\n",
    "        print(\" > Average loss: \", _MEAN_LOSS)\n",
    "        print(\" > Rewards:      \", int(_TOTAL_REWARDS))\n",
    "\n",
    "print(f\"Total training time: {0} seconds\".format(round(time.time() - start, 2)))"
   ]
  },
  {
   "cell_type": "markdown",
   "id": "b797a47edac97763",
   "metadata": {
    "collapsed": false,
    "jupyter": {
     "outputs_hidden": false
    }
   },
   "source": [
    "#### Visualisation"
   ]
  },
  {
   "cell_type": "code",
   "execution_count": 8,
   "id": "b792163e1a753dcf",
   "metadata": {
    "collapsed": false,
    "jupyter": {
     "outputs_hidden": false
    }
   },
   "outputs": [],
   "source": [
    "plot(METRICS, \"ResNet18\", window=50)\n",
    "plt.show()"
   ]
  },
  {
   "cell_type": "markdown",
   "id": "9b96f3ea2730aaed",
   "metadata": {
    "collapsed": false,
    "jupyter": {
     "outputs_hidden": false
    }
   },
   "source": [
    "##### In action"
   ]
  },
  {
   "cell_type": "code",
   "execution_count": 9,
   "id": "1c5e268e2ee7c5c9",
   "metadata": {
    "collapsed": false,
    "jupyter": {
     "outputs_hidden": false
    }
   },
   "outputs": [],
   "source": [
    "gif(environment, value_agent, './dqn-resnet-tetris.gif')"
   ]
  },
  {
   "cell_type": "markdown",
   "id": "bc49fae09e808426",
   "metadata": {
    "collapsed": false,
    "jupyter": {
     "outputs_hidden": false
    }
   },
   "source": [
    "<img src=\"./dqn-resnet-tetris.gif\" width=\"1000\" height=\"1000\" />"
   ]
  },
  {
   "cell_type": "code",
   "execution_count": 10,
   "id": "d7804874d89a6c41",
   "metadata": {
    "collapsed": false,
    "jupyter": {
     "outputs_hidden": false
    }
   },
   "outputs": [],
   "source": [
    "environment.close()"
   ]
  }
 ],
 "metadata": {
  "kernelspec": {
   "display_name": "Python 3 (ipykernel)",
   "language": "python",
   "name": "python3"
  },
  "language_info": {
   "codemirror_mode": {
    "name": "ipython",
    "version": 3
   },
   "file_extension": ".py",
   "mimetype": "text/x-python",
   "name": "python",
   "nbconvert_exporter": "python",
   "pygments_lexer": "ipython3",
   "version": "3.12.5"
  }
 },
 "nbformat": 4,
 "nbformat_minor": 5
}
