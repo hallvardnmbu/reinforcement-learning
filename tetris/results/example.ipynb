{
 "cells": [
  {
   "cell_type": "markdown",
   "source": [
    "# Example of visualising the agent's training history performance"
   ],
   "metadata": {
    "collapsed": false
   },
   "id": "b3d8465ecb86eca7"
  },
  {
   "cell_type": "markdown",
   "source": [
    "`WEIGHTS` : Path to the pre-trained weights\n",
    "`METRICS` : Path to the training history, or None"
   ],
   "metadata": {
    "collapsed": false
   },
   "id": "b121a81b3f4442c0"
  },
  {
   "cell_type": "code",
   "outputs": [],
   "source": [
    "WEIGHTS = './output/weights-25000.pth'\n",
    "METRICS = './output/metrics.csv'"
   ],
   "metadata": {
    "collapsed": false
   },
   "id": "fea8e7d9fca9baa8",
   "execution_count": null
  },
  {
   "cell_type": "code",
   "outputs": [],
   "source": [
    "import sys\n",
    "import torch\n",
    "import gymnasium as gym\n",
    "import matplotlib.pyplot as plt\n",
    "\n",
    "sys.path.append(\"../\")\n",
    "from DQN import VisionDeepQ                                                                 # noqa\n",
    "\n",
    "sys.path.append(\"../../\")\n",
    "from help.visualisation.plot import graph                                                   # noqa\n",
    "from help.visualisation.gif import gif                                                      # noqa"
   ],
   "metadata": {
    "collapsed": false
   },
   "id": "7fb6036582d6bcba",
   "execution_count": null
  },
  {
   "cell_type": "markdown",
   "source": [
    "## Parameters"
   ],
   "metadata": {
    "collapsed": false
   },
   "id": "4dddd56883444fab"
  },
  {
   "cell_type": "code",
   "outputs": [],
   "source": [
    "network = {\n",
    "    \"input_channels\": 4, \"outputs\": 5,\n",
    "    \"channels\": [128, 64],\n",
    "    \"kernels\": [2, 2],\n",
    "    \"padding\": [\"valid\", \"valid\"],\n",
    "    \"strides\": [2, 1],\n",
    "    \"nodes\": [128],\n",
    "}\n",
    "optimizer = {\"optimizer\": torch.optim.RMSprop, \"lr\": 0.0025}\n",
    "skip = 3"
   ],
   "metadata": {
    "collapsed": false
   },
   "id": "16867687f37ddbca",
   "execution_count": null
  },
  {
   "cell_type": "markdown",
   "source": [
    "## Setup"
   ],
   "metadata": {
    "collapsed": false
   },
   "id": "f4ceef526245f794"
  },
  {
   "cell_type": "markdown",
   "source": [
    "# TODO\n",
    "\n",
    "# UPDATE LATEX + README TO CORRESPOND TO TETRIS IMAGE\n",
    "\n",
    "# MENTION REWARD ALGORITHM "
   ],
   "metadata": {
    "collapsed": false
   },
   "id": "643c4d60e3b36466"
  },
  {
   "cell_type": "code",
   "outputs": [],
   "source": [
    "value_agent = VisionDeepQ(\n",
    "    network=network, optimizer=optimizer,\n",
    "    exploration_rate=0.001,\n",
    ")\n",
    "\n",
    "weights = torch.load(WEIGHTS, map_location=torch.device('cpu'))\n",
    "value_agent.load_state_dict(weights)\n",
    "\n",
    "environment = gym.make('ALE/Tetris-v5', render_mode=\"rgb_array\",\n",
    "                       obs_type=\"grayscale\", frameskip=1, repeat_action_probability=0.0)\n",
    "environment.metadata[\"render_fps\"] = 30"
   ],
   "metadata": {
    "collapsed": false
   },
   "id": "545e1bc3efb30329",
   "execution_count": null
  },
  {
   "cell_type": "markdown",
   "source": [
    "## Visualise"
   ],
   "metadata": {
    "collapsed": false
   },
   "id": "e0865980f2160f3d"
  },
  {
   "cell_type": "markdown",
   "source": [
    "### Plotting the metrics from the csv-file created during training."
   ],
   "metadata": {
    "collapsed": false
   },
   "id": "e16710b451bb52bf"
  },
  {
   "cell_type": "code",
   "outputs": [],
   "source": [
    "graph(METRICS, title=\"Tetris (RAM)\", window=200) if METRICS else None\n",
    "plt.savefig('./metrics.png') if METRICS else None\n",
    "plt.show() if METRICS else None"
   ],
   "metadata": {
    "collapsed": false
   },
   "id": "22ce7a0155a13a58",
   "execution_count": null
  },
  {
   "cell_type": "markdown",
   "source": [
    "### Creating and saving a gif of the agent in action. The gif will be saved to the given path."
   ],
   "metadata": {
    "collapsed": false
   },
   "id": "7cfa651d1ac64461"
  },
  {
   "cell_type": "code",
   "outputs": [],
   "source": [
    "gif(environment, value_agent, '../tetris.gif', skip, 40)"
   ],
   "metadata": {
    "collapsed": false
   },
   "id": "b2ba42f6d9ca3e92",
   "execution_count": null
  }
 ],
 "metadata": {
  "kernelspec": {
   "display_name": "Python 3",
   "language": "python",
   "name": "python3"
  },
  "language_info": {
   "codemirror_mode": {
    "name": "ipython",
    "version": 2
   },
   "file_extension": ".py",
   "mimetype": "text/x-python",
   "name": "python",
   "nbconvert_exporter": "python",
   "pygments_lexer": "ipython2",
   "version": "2.7.6"
  }
 },
 "nbformat": 4,
 "nbformat_minor": 5
}
