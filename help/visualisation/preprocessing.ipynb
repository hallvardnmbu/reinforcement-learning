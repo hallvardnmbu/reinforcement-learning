{
 "cells": [
  {
   "cell_type": "markdown",
   "source": [
    "# Notebook visualising the before-after of the preprocessing of Breakout and Enduro"
   ],
   "metadata": {
    "collapsed": false
   },
   "id": "e16538d375e6f6f6"
  },
  {
   "cell_type": "code",
   "outputs": [],
   "source": [
    "import torch\n",
    "import gymnasium as gym\n",
    "import matplotlib.pyplot as plt\n",
    "\n",
    "import sys\n",
    "sys.path.append(\"../../\")"
   ],
   "metadata": {
    "collapsed": false,
    "ExecuteTime": {
     "end_time": "2024-03-15T11:05:37.472481Z",
     "start_time": "2024-03-15T11:05:36.373871Z"
    }
   },
   "id": "72b8372a542795e4",
   "execution_count": 1
  },
  {
   "cell_type": "markdown",
   "source": [
    "# Tetris"
   ],
   "metadata": {
    "collapsed": false
   },
   "id": "2bc5682216ed3b13"
  },
  {
   "cell_type": "code",
   "outputs": [
    {
     "name": "stderr",
     "output_type": "stream",
     "text": [
      "A.L.E: Arcade Learning Environment (version 0.8.1+53f58b7)\n",
      "[Powered by Stella]\n",
      "/Users/Mac/anaconda3/envs/spesialpensum/lib/python3.10/site-packages/gymnasium/utils/passive_env_checker.py:335: UserWarning: \u001B[33mWARN: No render fps was declared in the environment (env.metadata['render_fps'] is None or not defined), rendering may occur at inconsistent fps.\u001B[0m\n",
      "  logger.warn(\n"
     ]
    },
    {
     "data": {
      "text/plain": "<Figure size 640x480 with 2 Axes>",
      "image/png": "[encoded data removed]"
     },
     "metadata": {},
     "output_type": "display_data"
    }
   ],
   "source": [
    "from tetris.DQN import VisionDeepQ as TetrisQ\n",
    "\n",
    "agent = TetrisQ(\n",
    "    network={\n",
    "        \"input_channels\": 4, \"outputs\": 5,\n",
    "        \"channels\": [128, 64],\n",
    "        \"kernels\": [2, 2],\n",
    "        \"padding\": [\"valid\", \"valid\"],\n",
    "        \"strides\": [2, 1],\n",
    "        \"nodes\": [128],\n",
    "    },\n",
    "    optimizer={\n",
    "        \"optimizer\": torch.optim.RMSprop,\n",
    "        \"lr\": 0.0001,\n",
    "        \"hyperparameters\": {}\n",
    "    },\n",
    "    shape={\n",
    "        \"original\": (1, 1, 210, 160),\n",
    "        \"height\": slice(27, 203),\n",
    "        \"width\": slice(22, 64)\n",
    "    }\n",
    ")\n",
    "skip = 3\n",
    "\n",
    "environment = gym.make('ALE/Tetris-v5', \n",
    "                       render_mode=\"rgb_array\", obs_type=\"grayscale\", \n",
    "                       frameskip=1, repeat_action_probability=0.0)\n",
    "\n",
    "game = 0\n",
    "done = False\n",
    "initial = agent.preprocess(environment.reset()[0]).view((1, 1, *agent.shape[\"reshape\"][2:]))\n",
    "states = torch.cat([initial] * agent.shape[\"reshape\"][1], dim=1)\n",
    "pair = {\n",
    "    \"original\": environment.render(),\n",
    "    \"processed\": states[0,0]\n",
    "}\n",
    "while not done:\n",
    "    game += 1\n",
    "    _, states, _, done = agent.observe(environment, states, skip)\n",
    "\n",
    "    if game == 180:\n",
    "        pair = {\n",
    "            \"original\": environment.render(),\n",
    "            \"processed\": states[0,0]\n",
    "        }\n",
    "        \n",
    "fig, axs = plt.subplots(1, 2)\n",
    "\n",
    "axs[0].imshow(pair[\"original\"])\n",
    "axs[0].set_title(\"Original\")\n",
    "axs[0].axis(\"off\")\n",
    "axs[1].imshow(pair[\"processed\"], cmap=\"binary\")\n",
    "axs[1].set_title(\"Processed\")\n",
    "axs[1].axis(\"off\")\n",
    "\n",
    "fig.tight_layout()\n",
    "fig.subplots_adjust(top=0.5)\n",
    "plt.savefig(\"tetris.png\")\n",
    "plt.show()"
   ],
   "metadata": {
    "collapsed": false,
    "ExecuteTime": {
     "end_time": "2024-03-15T11:05:38.998178Z",
     "start_time": "2024-03-15T11:05:37.473652Z"
    }
   },
   "id": "9c0684d624889951",
   "execution_count": 2
  },
  {
   "cell_type": "markdown",
   "source": [
    "# Breakout"
   ],
   "metadata": {
    "collapsed": false
   },
   "id": "73d52bc6c1b7ee44"
  },
  {
   "cell_type": "code",
   "execution_count": 3,
   "id": "initial_id",
   "metadata": {
    "collapsed": true,
    "ExecuteTime": {
     "end_time": "2024-03-15T11:05:39.501067Z",
     "start_time": "2024-03-15T11:05:38.999263Z"
    }
   },
   "outputs": [
    {
     "name": "stderr",
     "output_type": "stream",
     "text": [
      "/Users/Mac/anaconda3/envs/spesialpensum/lib/python3.10/site-packages/gymnasium/utils/passive_env_checker.py:335: UserWarning: \u001B[33mWARN: No render fps was declared in the environment (env.metadata['render_fps'] is None or not defined), rendering may occur at inconsistent fps.\u001B[0m\n",
      "  logger.warn(\n"
     ]
    },
    {
     "data": {
      "text/plain": "<Figure size 640x480 with 2 Axes>",
      "image/png": "[encoded data removed]"
     },
     "metadata": {},
     "output_type": "display_data"
    }
   ],
   "source": [
    "from breakout.DQN import VisionDeepQ as BreakoutQ\n",
    "\n",
    "agent = BreakoutQ(\n",
    "    network={\n",
    "        \"input_channels\": 1, \"outputs\": 4,\n",
    "        \"channels\": [32, 64, 64],\n",
    "        \"kernels\": [8, 4, 3],\n",
    "        \"padding\": [\"valid\", \"valid\", \"valid\"],\n",
    "        \"strides\": [4, 2, 1],\n",
    "        \"nodes\": [512],\n",
    "    }, \n",
    "    optimizer={\n",
    "        \"optimizer\": torch.optim.Adam,\n",
    "        \"lr\": 1e-3\n",
    "    }, \n",
    "    shape={\n",
    "        \"original\": (1, 1, 210, 160),\n",
    "        \"height\": slice(31, -17),\n",
    "        \"width\": slice(7, -7),\n",
    "    }\n",
    ")\n",
    "skip = 4\n",
    "\n",
    "environment = gym.make('ALE/Breakout-v5', \n",
    "                       render_mode=\"rgb_array\", obs_type=\"grayscale\", \n",
    "                       frameskip=1, repeat_action_probability=0.0)\n",
    "\n",
    "game = 0\n",
    "done = False\n",
    "states = torch.cat([agent.preprocess(environment.reset()[0])] * agent.shape[\"reshape\"][1], dim=1)\n",
    "pair = {\n",
    "    \"original\": environment.render(),\n",
    "    \"processed\": states[0,0]\n",
    "}\n",
    "while not done:\n",
    "    game += 1\n",
    "    _, states, _, done = agent.observe(environment, states, skip)\n",
    "\n",
    "    if game == 10:\n",
    "        pair = {\n",
    "            \"original\": environment.render(),\n",
    "            \"processed\": states[0,0]\n",
    "        }\n",
    "        \n",
    "fig, axs = plt.subplots(1, 2)\n",
    "\n",
    "axs[0].imshow(pair[\"original\"])\n",
    "axs[0].set_title(\"Original\")\n",
    "axs[0].axis(\"off\")\n",
    "axs[1].imshow(pair[\"processed\"], cmap=\"binary\")\n",
    "axs[1].set_title(\"Processed\")\n",
    "axs[1].axis(\"off\")\n",
    "\n",
    "fig.tight_layout()\n",
    "fig.subplots_adjust(top=0.5)\n",
    "plt.savefig(\"breakout.png\")\n",
    "plt.show()"
   ]
  },
  {
   "cell_type": "markdown",
   "source": [
    "# Enduro"
   ],
   "metadata": {
    "collapsed": false
   },
   "id": "2b9389186014c403"
  },
  {
   "cell_type": "code",
   "outputs": [
    {
     "data": {
      "text/plain": "<Figure size 640x480 with 2 Axes>",
      "image/png": "[encoded data removed]"
     },
     "metadata": {},
     "output_type": "display_data"
    }
   ],
   "source": [
    "from enduro.DQN import VisionDeepQ as EnduroQ\n",
    "\n",
    "agent = EnduroQ(\n",
    "    network={\n",
    "        \"input_channels\": 1, \"outputs\": 9,\n",
    "        \"channels\": [32, 64, 64],\n",
    "        \"kernels\": [8, 4, 3],\n",
    "        \"padding\": [\"valid\", \"valid\", \"valid\"],\n",
    "        \"strides\": [4, 2, 1],\n",
    "        \"nodes\": [512],\n",
    "    },\n",
    "    optimizer={\n",
    "        \"optimizer\": torch.optim.RMSprop,\n",
    "        \"lr\": 0.0001\n",
    "    },\n",
    "    shape={\n",
    "        \"original\": (1, 1, 210, 160),\n",
    "        \"height\": slice(51, 155),\n",
    "        \"width\": slice(8, 160)\n",
    "    }\n",
    ")\n",
    "skip = 6\n",
    "\n",
    "environment = gym.make('ALE/Enduro-v5', \n",
    "                       render_mode=\"rgb_array\",  obs_type=\"grayscale\", \n",
    "                       frameskip=1, repeat_action_probability=0.0)\n",
    "\n",
    "\n",
    "game = 0\n",
    "done = False\n",
    "states = torch.cat([agent.preprocess(environment.reset()[0])] * agent.shape[\"reshape\"][1], dim=1)\n",
    "pair = {\n",
    "    \"original\": environment.render(),\n",
    "    \"processed\": states[0,0]\n",
    "}\n",
    "while not done:\n",
    "    game += 1\n",
    "    _, states, _, done = agent.observe(environment, states, skip)\n",
    "\n",
    "    if game == 50:\n",
    "        pair = {\n",
    "            \"original\": environment.render(),\n",
    "            \"processed\": states[0,0]\n",
    "        }\n",
    "        \n",
    "fig, axs = plt.subplots(1, 2)\n",
    "\n",
    "axs[0].imshow(pair[\"original\"])\n",
    "axs[0].set_title(\"Original\")\n",
    "axs[0].axis(\"off\")\n",
    "axs[1].imshow(pair[\"processed\"], cmap=\"binary\")\n",
    "axs[1].set_title(\"Processed\")\n",
    "axs[1].axis(\"off\")\n",
    "\n",
    "fig.tight_layout()\n",
    "fig.subplots_adjust(top=0.5)\n",
    "plt.savefig(\"enduro.png\")\n",
    "plt.show()"
   ],
   "metadata": {
    "collapsed": false,
    "ExecuteTime": {
     "end_time": "2024-03-15T11:05:42.575981Z",
     "start_time": "2024-03-15T11:05:39.501930Z"
    }
   },
   "id": "189fdf10ff360a61",
   "execution_count": 4
  }
 ],
 "metadata": {
  "kernelspec": {
   "display_name": "Python 3",
   "language": "python",
   "name": "python3"
  },
  "language_info": {
   "codemirror_mode": {
    "name": "ipython",
    "version": 2
   },
   "file_extension": ".py",
   "mimetype": "text/x-python",
   "name": "python",
   "nbconvert_exporter": "python",
   "pygments_lexer": "ipython2",
   "version": "2.7.6"
  }
 },
 "nbformat": 4,
 "nbformat_minor": 5
}
