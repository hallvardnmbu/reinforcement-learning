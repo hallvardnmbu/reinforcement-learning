{
 "cells": [
  {
   "cell_type": "markdown",
   "source": [
    "# Value-based Agent using PyTorch"
   ],
   "metadata": {
    "collapsed": false
   },
   "id": "53c89e80d06ac9e1"
  },
  {
   "cell_type": "code",
   "execution_count": 1,
   "id": "initial_id",
   "metadata": {
    "collapsed": true,
    "ExecuteTime": {
     "end_time": "2024-02-08T15:37:06.509561Z",
     "start_time": "2024-02-08T15:37:05.523992Z"
    }
   },
   "outputs": [],
   "source": [
    "import copy\n",
    "import time\n",
    "import torch\n",
    "import imageio\n",
    "import gymnasium as gym\n",
    "import matplotlib.pyplot as plt\n",
    "\n",
    "from agents import ValueDeepQAgent"
   ]
  },
  {
   "cell_type": "markdown",
   "source": [
    "## Cart-pole environment"
   ],
   "metadata": {
    "collapsed": false
   },
   "id": "970db53c864ab740"
  },
  {
   "cell_type": "markdown",
   "source": [
    "|        | TYPE             | VALUES | DESCRIPTION                                                                     |\n",
    "|--------|------------------|--------|---------------------------------------------------------------------------------|\n",
    "| Action | ndarray<br/>(1,) | {0, 1} | Direction to push cart.<br/>0: left<br/>1: right                                |\n",
    "| Observation | ndarray<br/>(4,) | float  | 1. Cart position<br/>2. Cart velocity<br/>3. Pole angle<br/>4. Angular velocity |\n",
    "| Reward |  | float | Reward is given for every step taken, including the termination step.<br/>Each step provides a reward of +1 |\n",
    "| Termination &<br/>Truncation |  | boolean | Pole Angle exceeds ± 0.2095 rad<br/>Cart Position exceeds ± 2.4 (i.e., edge of the display)<br/>Episode length is greater than 500 |"
   ],
   "metadata": {
    "collapsed": false
   },
   "id": "811d6d17402feb84"
  },
  {
   "cell_type": "code",
   "outputs": [],
   "source": [
    "environment = gym.make('CartPole-v1', render_mode=\"rgb_array\")"
   ],
   "metadata": {
    "collapsed": false,
    "ExecuteTime": {
     "end_time": "2024-02-08T15:37:06.517550Z",
     "start_time": "2024-02-08T15:37:06.510014Z"
    }
   },
   "id": "82fb48c186edca6",
   "execution_count": 2
  },
  {
   "cell_type": "markdown",
   "source": [
    "### Training"
   ],
   "metadata": {
    "collapsed": false
   },
   "id": "502492d920829821"
  },
  {
   "cell_type": "code",
   "outputs": [],
   "source": [
    "GAMES = 10000\n",
    "\n",
    "INPUTS = 4\n",
    "OUTPUTS = 2\n",
    "NODES = [15, 30]\n",
    "\n",
    "ALPHA = 0.95\n",
    "EXPLORATION_RATE = 1.0\n",
    "EXPLORATION_DECAY = 0.999\n",
    "EXPLORATION_MIN = 0.01\n",
    "OPTIMIZER = {\"optim\": torch.optim.RMSprop, \"lr\": 0.00025}\n",
    "\n",
    "RESET_Q = 250"
   ],
   "metadata": {
    "collapsed": false,
    "ExecuteTime": {
     "end_time": "2024-02-08T15:37:06.517993Z",
     "start_time": "2024-02-08T15:37:06.516062Z"
    }
   },
   "id": "2476ac8633268c19",
   "execution_count": 3
  },
  {
   "cell_type": "code",
   "outputs": [],
   "source": [
    "value_agent = ValueDeepQAgent(\n",
    "    network={\"inputs\": INPUTS, \"outputs\": OUTPUTS, \"nodes\": NODES},\n",
    "    optimizer=OPTIMIZER,\n",
    "    alpha=ALPHA,\n",
    "    exploration_rate=EXPLORATION_RATE, exploration_decay=EXPLORATION_DECAY, exploration_min=EXPLORATION_MIN\n",
    ")\n",
    "\n",
    "_value_agent = copy.deepcopy(value_agent)"
   ],
   "metadata": {
    "collapsed": false,
    "ExecuteTime": {
     "end_time": "2024-02-08T15:37:06.863464Z",
     "start_time": "2024-02-08T15:37:06.518654Z"
    }
   },
   "id": "4efdbf0dbc4e327f",
   "execution_count": 4
  },
  {
   "cell_type": "code",
   "outputs": [],
   "source": [
    "checkpoint = GAMES // 10\n",
    "metrics = {\"steps\": torch.zeros(GAMES), \"losses\": torch.zeros(GAMES)}"
   ],
   "metadata": {
    "collapsed": false,
    "ExecuteTime": {
     "end_time": "2024-02-08T15:37:06.868063Z",
     "start_time": "2024-02-08T15:37:06.864225Z"
    }
   },
   "id": "3e9591009b6a7d65",
   "execution_count": 5
  },
  {
   "cell_type": "code",
   "outputs": [
    {
     "name": "stdout",
     "output_type": "stream",
     "text": [
      "Game   1000               10 % \n",
      "------------------------------ \n",
      " > Average steps:           15 \n",
      " > Average loss:        0.1625 \n",
      " \n",
      "Game   2000               20 % \n",
      "------------------------------ \n",
      " > Average steps:           10 \n",
      " > Average loss:        0.2079 \n",
      " \n",
      "Game   3000               30 % \n",
      "------------------------------ \n",
      " > Average steps:            9 \n",
      " > Average loss:        0.3552 \n",
      " \n",
      "Game   4000               40 % \n",
      "------------------------------ \n",
      " > Average steps:            9 \n",
      " > Average loss:        0.5298 \n",
      " \n",
      "Game   5000               50 % \n",
      "------------------------------ \n",
      " > Average steps:            9 \n",
      " > Average loss:        0.8675 \n",
      " \n",
      "Game   6000               60 % \n",
      "------------------------------ \n",
      " > Average steps:            9 \n",
      " > Average loss:        1.2638 \n",
      " \n",
      "Game   7000               70 % \n",
      "------------------------------ \n",
      " > Average steps:            9 \n",
      " > Average loss:        1.6762 \n",
      " \n",
      "Game   8000               80 % \n",
      "------------------------------ \n",
      " > Average steps:            9 \n",
      " > Average loss:        2.0726 \n",
      " \n",
      "Game   9000               90 % \n",
      "------------------------------ \n",
      " > Average steps:            9 \n",
      " > Average loss:        2.4906 \n",
      " \n",
      "Game  10000              100 % \n",
      "------------------------------ \n",
      " > Average steps:            9 \n",
      " > Average loss:        2.9059 \n",
      " \n",
      "Total training time: 32.39 seconds\n"
     ]
    }
   ],
   "source": [
    "start = time.time()\n",
    "for game in range(1, GAMES + 1):\n",
    "    \n",
    "    state = torch.tensor(environment.reset()[0], dtype=torch.float32).unsqueeze(0)  # noqa\n",
    "    terminated = truncated = False\n",
    "    \n",
    "    # LEARNING FROM GAME\n",
    "    # --------------------------------------------------\n",
    "    \n",
    "    steps = 0\n",
    "    while not (terminated or truncated):\n",
    "        steps += 1\n",
    "        action = value_agent.action(state)\n",
    "        new_state, reward, terminated, truncated, _ = environment.step(action.item())\n",
    "        new_state = torch.tensor(new_state, dtype=torch.float32).unsqueeze(0)\n",
    "\n",
    "        value_agent.memorize(state, action, new_state, torch.tensor([reward]))\n",
    "        state = new_state\n",
    "    \n",
    "    loss = value_agent.learn(network=_value_agent)\n",
    "    \n",
    "    if game % RESET_Q == 0:\n",
    "        _value_agent = copy.deepcopy(value_agent)\n",
    "\n",
    "    # METRICS\n",
    "    # --------------------------------------------------\n",
    "    \n",
    "    metrics[\"steps\"][game-1] = steps\n",
    "    metrics[\"losses\"][game-1] = loss\n",
    "    \n",
    "    if game % checkpoint == 0 or game == GAMES:\n",
    "\n",
    "        _mean_steps = metrics[\"steps\"][max(0, game-checkpoint-1):game-1].mean()\n",
    "        _mean_loss = metrics[\"losses\"][max(0, game-checkpoint-1):game-1].mean()\n",
    "        \n",
    "        print(f\"Game {game:>6} {int(game/GAMES * 100):>16} % \\n\"\n",
    "              f\"{'-'*30} \\n\"\n",
    "              f\" > Average steps: {int(_mean_steps):>12} \\n\"\n",
    "              f\" > Average loss: {_mean_loss:>13.4f} \\n \")\n",
    "        \n",
    "print(f\"Total training time: {time.time()-start:.2f} seconds\")"
   ],
   "metadata": {
    "collapsed": false,
    "ExecuteTime": {
     "end_time": "2024-02-08T15:37:39.312682Z",
     "start_time": "2024-02-08T15:37:06.915951Z"
    }
   },
   "id": "b4abfe2d67240d1f",
   "execution_count": 6
  },
  {
   "cell_type": "markdown",
   "source": [
    "#### Visualisation"
   ],
   "metadata": {
    "collapsed": false
   },
   "id": "4e6dd43949968ed9"
  },
  {
   "cell_type": "code",
   "outputs": [
    {
     "data": {
      "text/plain": "<Figure size 1200x800 with 2 Axes>",
      "image/png": "[encoded data removed]"
     },
     "metadata": {},
     "output_type": "display_data"
    }
   ],
   "source": [
    "def moving_average(data, window_size=50):\n",
    "    \"\"\"Compute moving average with given window size of the data.\"\"\"\n",
    "    half_window = window_size // 2\n",
    "    return [(data[max(0, i-half_window):min(GAMES, i+half_window)]).mean() \n",
    "            for i in range(GAMES)]\n",
    "\n",
    "steps = moving_average(metrics[\"steps\"])\n",
    "losses = moving_average(metrics[\"losses\"])\n",
    "\n",
    "fig, ax = plt.subplots(2, 1, figsize=(12, 8))\n",
    "\n",
    "ax[0].axhline(y=500, color=\"red\", linestyle=\"dotted\", linewidth=1)\n",
    "ax[0].plot(steps, color=\"black\", linewidth=1)\n",
    "ax[0].set_xticks([])\n",
    "ax[0].set_title(\"Average steps per game\")\n",
    "\n",
    "ax[1].axhline(y=0, color=\"red\", linestyle=\"dotted\", linewidth=1)\n",
    "ax[1].plot(losses, color=\"black\", linewidth=1)\n",
    "ax[1].set_xlabel(\"Game nr.\")\n",
    "ax[1].set_title(\"Average loss\")\n",
    "\n",
    "for i in range(0, GAMES, 1000):\n",
    "    ax[0].axvline(x=i, color='gray', linewidth=0.5)\n",
    "    ax[1].axvline(x=i, color='gray', linewidth=0.5)\n",
    "\n",
    "plt.show()"
   ],
   "metadata": {
    "collapsed": false,
    "ExecuteTime": {
     "end_time": "2024-02-08T15:37:39.518179Z",
     "start_time": "2024-02-08T15:37:39.309783Z"
    }
   },
   "id": "510380cc5f3c5685",
   "execution_count": 7
  },
  {
   "cell_type": "markdown",
   "source": [
    "##### In action"
   ],
   "metadata": {
    "collapsed": false
   },
   "id": "96a3a9859771c84"
  },
  {
   "cell_type": "code",
   "outputs": [],
   "source": [
    "state = torch.tensor(environment.reset()[0], dtype=torch.float32)\n",
    "\n",
    "images = []\n",
    "terminated = truncated = False\n",
    "while not (terminated or truncated):\n",
    "    action = torch.argmax(value_agent(state)).item()\n",
    "    \n",
    "    state, reward, terminated, truncated, _ = environment.step(action)\n",
    "    state = torch.tensor(state, dtype=torch.float32)\n",
    "\n",
    "    images.append(environment.render())\n",
    "_ = imageio.mimsave('./a-cart-pole.gif', images, duration=25)"
   ],
   "metadata": {
    "collapsed": false,
    "ExecuteTime": {
     "end_time": "2024-02-08T15:37:39.912601Z",
     "start_time": "2024-02-08T15:37:39.516383Z"
    }
   },
   "id": "4183f64c47eb5090",
   "execution_count": 8
  },
  {
   "cell_type": "markdown",
   "source": [
    "<img src=\"./a-cart-pole.gif\" width=\"400\" height=\"400\" />"
   ],
   "metadata": {
    "collapsed": false
   },
   "id": "a9f592c07276b7f2"
  },
  {
   "cell_type": "code",
   "outputs": [],
   "source": [
    "environment.close()"
   ],
   "metadata": {
    "collapsed": false,
    "ExecuteTime": {
     "end_time": "2024-02-08T15:37:39.999820Z",
     "start_time": "2024-02-08T15:37:39.909366Z"
    }
   },
   "id": "2f63ff4b67fe2c7",
   "execution_count": 9
  },
  {
   "cell_type": "markdown",
   "source": [
    "## (Atari) Breakout environment"
   ],
   "metadata": {
    "collapsed": false
   },
   "id": "b91f6c96ad960f00"
  },
  {
   "cell_type": "markdown",
   "source": [
    "| | TYPE  | VALUES       | DESCRIPTION |\n",
    "|--------|------------------|--------------|-------------|\n",
    "| Action | ndarray<br/>(1,) | {0, 1, 2, 3} | 0: noop<br/>1: fire<br/>2: right<br/> 3: left |\n",
    "| Observation | ndarray<br/>(210,160) | int          | Grayscale image of screen |\n",
    "| Reward |   | int          | Reward depends on brick colour<br/>Red: 7<br/>Orange: 7<br/>Yellow: 4<br/>Green: 4<br/>Aqua: 1<br/>Blue: 1 |\n",
    "| Termination |   | bool         | Timer: score as many points within the given time |"
   ],
   "metadata": {
    "collapsed": false
   },
   "id": "ff07d4d86ec5324e"
  },
  {
   "cell_type": "code",
   "outputs": [],
   "source": [],
   "metadata": {
    "collapsed": false,
    "ExecuteTime": {
     "end_time": "2024-02-08T15:37:40.012363Z",
     "start_time": "2024-02-08T15:37:39.999946Z"
    }
   },
   "id": "76a7f9665735d95a",
   "execution_count": 9
  }
 ],
 "metadata": {
  "kernelspec": {
   "display_name": "Python 3",
   "language": "python",
   "name": "python3"
  },
  "language_info": {
   "codemirror_mode": {
    "name": "ipython",
    "version": 2
   },
   "file_extension": ".py",
   "mimetype": "text/x-python",
   "name": "python",
   "nbconvert_exporter": "python",
   "pygments_lexer": "ipython2",
   "version": "2.7.6"
  }
 },
 "nbformat": 4,
 "nbformat_minor": 5
}
