{
 "cells": [
  {
   "cell_type": "markdown",
   "source": [
    "# Value-based agent in the tetris environment using PyTorch"
   ],
   "metadata": {
    "collapsed": false
   },
   "id": "53c89e80d06ac9e1"
  },
  {
   "cell_type": "markdown",
   "source": [
    "|        | TYPE                   | VALUES          | DESCRIPTION                                                                                                |\n",
    "|--------|------------------------|-----------------|------------------------------------------------------------------------------------------------------------|\n",
    "| Action Space | ndarray<br/>(1,) | {0, 1, 2, 3, 4} | Action to manipulate the current tile.<br/>0: No action<br/>1: Rotate<br/>2: Right<br/>3: Left<br/>4: Down |\n",
    "| Observation Space | ndarray<br/>(128,) | <0, 255> | The game screen. (RAM version.)   |\n",
    "| Reward |  | float | Reward given when a row is filled.<br/>Single: 1<br/>Double: 3<br/>Triple: 8<br/>Quadruple: 18       |\n",
    "| Termination |  | boolean | The game ends when the pieces stack up to the top of the playing field.                                    |"
   ],
   "metadata": {
    "collapsed": false
   },
   "id": "a6703acaf6e4cdb1"
  },
  {
   "cell_type": "code",
   "execution_count": null,
   "id": "initial_id",
   "metadata": {
    "collapsed": true
   },
   "outputs": [],
   "source": [
    "import copy\n",
    "import time\n",
    "import torch\n",
    "from tqdm import tqdm\n",
    "import gymnasium as gym\n",
    "\n",
    "from DQN import DeepQ\n",
    "from utilities import visualisation"
   ]
  },
  {
   "cell_type": "code",
   "outputs": [],
   "source": [
    "environment = gym.make('ALE/Tetris-ram-v5', render_mode=\"rgb_array\", \n",
    "                       obs_type=\"ram\", frameskip=1, repeat_action_probability=0.0)\n",
    "environment.metadata[\"render_fps\"] = 30"
   ],
   "metadata": {
    "collapsed": false
   },
   "id": "82fb48c186edca6",
   "execution_count": null
  },
  {
   "cell_type": "markdown",
   "source": [
    "### Training"
   ],
   "metadata": {
    "collapsed": false
   },
   "id": "502492d920829821"
  },
  {
   "cell_type": "markdown",
   "source": [
    "#### Parameters"
   ],
   "metadata": {
    "collapsed": false
   },
   "id": "a9b6e0d012e49d21"
  },
  {
   "cell_type": "markdown",
   "source": [
    "|Parameter|Description|\n",
    "|---------|-----------|\n",
    "| SKIP | number of frames to skip between each saved frame |\n",
    "| SHAPE | how to reshape the `original` image |\n",
    "| DISCOUNT | discount rate for rewards |\n",
    "| GAMMA | discount rate for Q-learning |\n",
    "| GRADIENTS | clamp the gradients between these values (or None for no clamping) |\n",
    "| PUNISHMENT | punishment for losing |\n",
    "| INCENTIVE | incentive for rewards |\n",
    "| EXPLORATION_RATE | initial exploration rate |\n",
    "| EXPLORATION_MIN | minimum exploration rate |\n",
    "| EXPLORATION_STEPS | number of games to decay exploration rate from `RATE` to `MIN` |\n",
    "| MINIBATCH | size of the minibatch |\n",
    "| TRAIN_EVERY | train the network every n games |\n",
    "| START_TRAINING_AT | start training after n games |\n",
    "| REMEMBER | only remember games with rewards, and this fraction of the games without |\n",
    "| MEMORY | size of the agents internal memory |\n",
    "| RESET_Q_EVERY | update target-network every n games |"
   ],
   "metadata": {
    "collapsed": false
   },
   "id": "a00d73219a196ae3"
  },
  {
   "cell_type": "code",
   "outputs": [],
   "source": [
    "GAMES = 25000\n",
    "SKIP = 4\n",
    "CHECKPOINT = 5000\n",
    "\n",
    "DISCOUNT = 0.99\n",
    "GAMMA = 0.99\n",
    "GRADIENTS = (-1, 1)\n",
    "\n",
    "PUNISHMENT = -1\n",
    "INCENTIVE = 1\n",
    "\n",
    "MINIBATCH = 64\n",
    "TRAIN_EVERY = 4\n",
    "START_TRAINING_AT = 1000\n",
    "\n",
    "EXPLORATION_RATE = 1.0\n",
    "EXPLORATION_MIN = 0.001\n",
    "EXPLORATION_STEPS = 10000 // TRAIN_EVERY\n",
    "\n",
    "REMEMBER = 0.005\n",
    "MEMORY = 500\n",
    "RESET_Q_EVERY = TRAIN_EVERY * 50\n",
    "\n",
    "NETWORK = {\"inputs\": 128, \"outputs\": 5, \"nodes\": [512, 256]}\n",
    "OPTIMIZER = {\"optimizer\": torch.optim.RMSprop, \"lr\": 0.0025}"
   ],
   "metadata": {
    "collapsed": false
   },
   "id": "2476ac8633268c19",
   "execution_count": null
  },
  {
   "cell_type": "markdown",
   "source": [
    "#### Initialisation"
   ],
   "metadata": {
    "collapsed": false
   },
   "id": "63982ba7ddfbf951"
  },
  {
   "cell_type": "code",
   "outputs": [],
   "source": [
    "value_agent = DeepQ(\n",
    "    network=NETWORK, optimizer=OPTIMIZER,\n",
    "\n",
    "    batch_size=MINIBATCH, memory=MEMORY,\n",
    "\n",
    "    discount=DISCOUNT, gamma=GAMMA,\n",
    "    punishment=PUNISHMENT, incentive=INCENTIVE,\n",
    "\n",
    "    exploration_rate=EXPLORATION_RATE,\n",
    "    exploration_steps=EXPLORATION_STEPS,\n",
    "    exploration_min=EXPLORATION_MIN,\n",
    ")\n",
    "\n",
    "_value_agent = copy.deepcopy(value_agent)"
   ],
   "metadata": {
    "collapsed": false
   },
   "id": "4efdbf0dbc4e327f",
   "execution_count": null
  },
  {
   "cell_type": "markdown",
   "source": [
    "#### Training"
   ],
   "metadata": {
    "collapsed": false
   },
   "id": "ae53ad294423428a"
  },
  {
   "cell_type": "code",
   "outputs": [],
   "source": [
    "start = time.time()\n",
    "for game in tqdm(range(1, GAMES + 1), \n",
    "                 desc=\"Game\", ncols=50, bar_format='%s{l_bar}{bar}|' % '\\033[30m'):\n",
    "    \n",
    "    state = value_agent.preprocess(environment.reset()[0])\n",
    "\n",
    "    DONE = False\n",
    "    STEPS = REWARDS = 0\n",
    "    while not DONE:\n",
    "        action, new_state, rewards, DONE = value_agent.observe(environment, state, SKIP)\n",
    "        value_agent.remember(state, action, rewards)\n",
    "\n",
    "        state = new_state\n",
    "        REWARDS += rewards.item()\n",
    "        STEPS += 1\n",
    "\n",
    "    value_agent.memorize(state, STEPS) if REWARDS > 0 else None\n",
    "    value_agent.memory[\"game\"].clear()\n",
    "\n",
    "    loss = value_agent.learn(network=_value_agent, clamp=GRADIENTS) \\\n",
    "        if (game % TRAIN_EVERY == 0 \n",
    "            and len(value_agent.memory[\"memory\"]) > 0 \n",
    "            and game >= START_TRAINING_AT) \\\n",
    "        else None\n",
    "\n",
    "    _value_agent.load_state_dict(value_agent.state_dict()) if game % RESET_Q_EVERY == 0 else None\n",
    "\n",
    "print(f\"Total training time: {round(time.time() - start, 2)} seconds\")"
   ],
   "metadata": {
    "collapsed": false
   },
   "id": "b4abfe2d67240d1f",
   "execution_count": null
  },
  {
   "cell_type": "markdown",
   "source": [
    "#### Visualisation"
   ],
   "metadata": {
    "collapsed": false
   },
   "id": "4e6dd43949968ed9"
  },
  {
   "cell_type": "markdown",
   "source": [
    "##### In action"
   ],
   "metadata": {
    "collapsed": false
   },
   "id": "96a3a9859771c84"
  },
  {
   "cell_type": "code",
   "outputs": [],
   "source": [
    "visualisation.gif(environment, value_agent, './dqn-breakout.gif', SKIP)"
   ],
   "metadata": {
    "collapsed": false
   },
   "id": "4183f64c47eb5090",
   "execution_count": null
  },
  {
   "cell_type": "markdown",
   "source": [
    "<img src=\"./dqn-breakout.gif\" width=\"1000\" height=\"1000\" />"
   ],
   "metadata": {
    "collapsed": false
   },
   "id": "a9f592c07276b7f2"
  },
  {
   "cell_type": "code",
   "outputs": [],
   "source": [
    "environment.close()"
   ],
   "metadata": {
    "collapsed": false
   },
   "id": "2f63ff4b67fe2c7",
   "execution_count": null
  }
 ],
 "metadata": {
  "kernelspec": {
   "display_name": "Python 3",
   "language": "python",
   "name": "python3"
  },
  "language_info": {
   "codemirror_mode": {
    "name": "ipython",
    "version": 2
   },
   "file_extension": ".py",
   "mimetype": "text/x-python",
   "name": "python",
   "nbconvert_exporter": "python",
   "pygments_lexer": "ipython2",
   "version": "2.7.6"
  }
 },
 "nbformat": 4,
 "nbformat_minor": 5
}
