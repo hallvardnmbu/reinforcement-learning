{
 "cells": [
  {
   "cell_type": "markdown",
   "source": [
    "# Policy-based vision agent using PyTorch"
   ],
   "metadata": {
    "collapsed": false
   },
   "id": "53c89e80d06ac9e1"
  },
  {
   "cell_type": "code",
   "execution_count": 1,
   "id": "initial_id",
   "metadata": {
    "collapsed": true,
    "ExecuteTime": {
     "end_time": "2024-02-16T15:12:26.372583Z",
     "start_time": "2024-02-16T15:12:25.216595Z"
    }
   },
   "outputs": [],
   "source": [
    "import copy\n",
    "import time\n",
    "import torch\n",
    "import imageio\n",
    "import gymnasium as gym\n",
    "import matplotlib.pyplot as plt\n",
    "\n",
    "from agents.torch_policy_vision import VisionPolicyGradient"
   ]
  },
  {
   "cell_type": "markdown",
   "source": [
    "## Tetris environment"
   ],
   "metadata": {
    "collapsed": false
   },
   "id": "970db53c864ab740"
  },
  {
   "cell_type": "markdown",
   "source": [
    "|        | TYPE                   | VALUES          | DESCRIPTION                                                                                                |\n",
    "|--------|------------------------|-----------------|------------------------------------------------------------------------------------------------------------|\n",
    "| Action Space | ndarray<br/>(1,) | {0, 1, 2, 3, 4} | Action to manipulate the current tile.<br/>0: No action<br/>1: Rotate<br/>2: Right<br/>3: Left<br/>4: Down |\n",
    "| Observation Space | ndarray<br/>(210,160,) | <0, 255> | The game screen.                                                                                           |\n",
    "| Reward |  | float | Reward given when a row is filled.<br/>Single: 50<br/>Double: 150<br/>Triple: 400<br/>Quadruple: 900       |\n",
    "| Termination |  | boolean | The game ends when the pieces stack up to the top of the playing field.                                    |"
   ],
   "metadata": {
    "collapsed": false
   },
   "id": "811d6d17402feb84"
  },
  {
   "cell_type": "code",
   "outputs": [
    {
     "name": "stderr",
     "output_type": "stream",
     "text": [
      "A.L.E: Arcade Learning Environment (version 0.8.1+53f58b7)\n",
      "[Powered by Stella]\n"
     ]
    }
   ],
   "source": [
    "environment = gym.make('ALE/Tetris-v5', render_mode=\"rgb_array\", obs_type=\"grayscale\")"
   ],
   "metadata": {
    "collapsed": false,
    "ExecuteTime": {
     "end_time": "2024-02-16T15:12:26.425650Z",
     "start_time": "2024-02-16T15:12:26.373545Z"
    }
   },
   "id": "735bf3cd0bf82429",
   "execution_count": 2
  },
  {
   "cell_type": "markdown",
   "source": [
    "### Training"
   ],
   "metadata": {
    "collapsed": false
   },
   "id": "502492d920829821"
  },
  {
   "cell_type": "code",
   "outputs": [],
   "source": [
    "GAMES = 50\n",
    "\n",
    "NETWORK = {\"input_channels\": 1, \"outputs\": 5, \n",
    "           \"channels\": [4, 8],\n",
    "           \"kernels\": [(3, 3), (3, 3), (5, 5)]\n",
    "           }\n",
    "OPTIMIZER = {\"optim\": torch.optim.RMSprop, \"lr\": 0.00025}"
   ],
   "metadata": {
    "collapsed": false,
    "ExecuteTime": {
     "end_time": "2024-02-16T15:12:26.425987Z",
     "start_time": "2024-02-16T15:12:26.423905Z"
    }
   },
   "id": "2476ac8633268c19",
   "execution_count": 3
  },
  {
   "cell_type": "code",
   "outputs": [],
   "source": [
    "policy_agent = VisionPolicyGradient(\n",
    "    network=NETWORK, optimizer=OPTIMIZER\n",
    ")\n",
    "_policy_agent = copy.deepcopy(policy_agent)"
   ],
   "metadata": {
    "collapsed": false,
    "ExecuteTime": {
     "end_time": "2024-02-16T15:12:26.829197Z",
     "start_time": "2024-02-16T15:12:26.426980Z"
    }
   },
   "id": "4efdbf0dbc4e327f",
   "execution_count": 4
  },
  {
   "cell_type": "code",
   "outputs": [],
   "source": [
    "checkpoint = GAMES // 10\n",
    "metrics = {metric: torch.zeros(GAMES) for metric in [\"steps\", \"gradients\"]}"
   ],
   "metadata": {
    "collapsed": false,
    "ExecuteTime": {
     "end_time": "2024-02-16T15:12:26.836248Z",
     "start_time": "2024-02-16T15:12:26.829631Z"
    }
   },
   "id": "3e9591009b6a7d65",
   "execution_count": 5
  },
  {
   "cell_type": "code",
   "outputs": [
    {
     "name": "stdout",
     "output_type": "stream",
     "text": [
      "Game      5               10 % \n",
      "------------------------------ \n",
      " > Average steps:          265 \n",
      " > Average gradients:   0.0000 \n",
      " \n",
      "Game     10               20 % \n",
      "------------------------------ \n",
      " > Average steps:          301 \n",
      " > Average gradients:   0.0000 \n",
      " \n",
      "Game     15               30 % \n",
      "------------------------------ \n",
      " > Average steps:          277 \n",
      " > Average gradients:   0.0000 \n",
      " \n"
     ]
    },
    {
     "name": "stderr",
     "output_type": "stream",
     "text": [
      "\n",
      "KeyboardInterrupt\n",
      "\n"
     ]
    }
   ],
   "source": [
    "start = time.time()\n",
    "for game in range(1, GAMES + 1):\n",
    "    \n",
    "    state = torch.tensor(environment.reset()[0], dtype=torch.float32).unsqueeze(0)  # noqa\n",
    "    terminated = truncated = False\n",
    "    \n",
    "    # LEARNING FROM GAME\n",
    "    # --------------------------------------------------\n",
    "    \n",
    "    steps = 0\n",
    "    while not (terminated or truncated):\n",
    "        steps += 1\n",
    "        action, logarithm = policy_agent.action(state)\n",
    "        state, reward, terminated, truncated, _ = environment.step(action)\n",
    "        state = torch.tensor(state, dtype=torch.float32).unsqueeze(0)\n",
    "        policy_agent.memorize(logarithm, reward)\n",
    "    gradient = policy_agent.learn()\n",
    "    \n",
    "    # METRICS\n",
    "    # --------------------------------------------------\n",
    "    \n",
    "    metrics[\"steps\"][game-1] = steps\n",
    "    metrics[\"gradients\"][game-1] = gradient\n",
    "    \n",
    "    if game % checkpoint == 0 or game == GAMES:\n",
    "\n",
    "        _mean_steps = metrics[\"steps\"][max(0, game-checkpoint-1):game-1].mean()\n",
    "        _mean_gradient = metrics[\"gradients\"][max(0, game-checkpoint-1):game-1].mean()\n",
    "        \n",
    "        print(f\"Game {game:>6} {int(game/GAMES * 100):>16} % \\n\"\n",
    "              f\"{'-'*30} \\n\"\n",
    "              f\" > Average steps: {int(_mean_steps):>12} \\n\"\n",
    "              f\" > Average gradients: {_mean_gradient:>8.4f} \\n \")\n",
    "        \n",
    "print(f\"Total training time: {time.time()-start:.2f} seconds\")"
   ],
   "metadata": {
    "collapsed": false,
    "ExecuteTime": {
     "end_time": "2024-02-16T15:12:47.770730Z",
     "start_time": "2024-02-16T15:12:26.843433Z"
    }
   },
   "id": "b4abfe2d67240d1f",
   "execution_count": 6
  },
  {
   "cell_type": "markdown",
   "source": [
    "#### Visualisation"
   ],
   "metadata": {
    "collapsed": false
   },
   "id": "4e6dd43949968ed9"
  },
  {
   "cell_type": "code",
   "outputs": [],
   "source": [
    "def moving_average(data, window_size=50):\n",
    "    \"\"\"Compute moving average with given window size of the data.\"\"\"\n",
    "    half_window = window_size // 2\n",
    "    return [(data[max(0, i-half_window):min(GAMES, i+half_window)]).mean() \n",
    "            for i in range(GAMES)]\n",
    "\n",
    "steps = moving_average(metrics[\"steps\"])\n",
    "gradients = moving_average(metrics[\"gradients\"])\n",
    "\n",
    "fig, ax = plt.subplots(2, 1, figsize=(12, 8))\n",
    "fig.suptitle(\"Policy-based vision gradient agent\")\n",
    "\n",
    "ax[0].axhline(y=500, color=\"red\", linestyle=\"dotted\", linewidth=1)\n",
    "ax[0].plot(steps, color=\"black\", linewidth=1)\n",
    "ax[0].set_xticks([])\n",
    "ax[0].set_title(\"Average steps per game\")\n",
    "\n",
    "ax[1].axhline(y=0, color=\"red\", linestyle=\"dotted\", linewidth=1)\n",
    "ax[1].plot(gradients, color=\"black\", linewidth=1)\n",
    "ax[1].set_xlabel(\"Game nr.\")\n",
    "ax[1].set_title(\"Average gradients\")\n",
    "\n",
    "for i in range(0, GAMES, GAMES // 10):\n",
    "    ax[0].axvline(x=i, color='gray', linewidth=0.5)\n",
    "    ax[1].axvline(x=i, color='gray', linewidth=0.5)\n",
    "\n",
    "plt.savefig(\"./static/images/torch-pbg-tetris.png\")\n",
    "plt.show()"
   ],
   "metadata": {
    "collapsed": false,
    "ExecuteTime": {
     "start_time": "2024-02-16T15:12:47.759531Z"
    }
   },
   "id": "510380cc5f3c5685",
   "execution_count": null
  },
  {
   "cell_type": "markdown",
   "source": [
    "##### In action"
   ],
   "metadata": {
    "collapsed": false
   },
   "id": "96a3a9859771c84"
  },
  {
   "cell_type": "code",
   "outputs": [],
   "source": [
    "state = torch.tensor(environment.reset()[0], dtype=torch.float32).unsqueeze(0)\n",
    "\n",
    "images = []\n",
    "terminated = truncated = False\n",
    "while not (terminated or truncated):\n",
    "    actions = torch.softmax(policy_agent(state), dim=-1)\n",
    "    action = torch.argmax(actions).item()\n",
    "    \n",
    "    state, reward, terminated, truncated, _ = environment.step(action)\n",
    "    state = torch.tensor(state, dtype=torch.float32).unsqueeze(0)\n",
    "\n",
    "    images.append(environment.render())\n",
    "_ = imageio.mimsave('./static/images/torch-pbg-tetris.gif', images, duration=25)"
   ],
   "metadata": {
    "collapsed": false,
    "ExecuteTime": {
     "start_time": "2024-02-16T15:12:47.760499Z"
    }
   },
   "id": "4183f64c47eb5090",
   "execution_count": null
  },
  {
   "cell_type": "markdown",
   "source": [
    "<img src=\"./static/images/torch-pbg-tetris.gif\" width=\"1000\" height=\"1000\" />"
   ],
   "metadata": {
    "collapsed": false
   },
   "id": "a9f592c07276b7f2"
  },
  {
   "cell_type": "code",
   "outputs": [],
   "source": [
    "environment.close()"
   ],
   "metadata": {
    "collapsed": false,
    "ExecuteTime": {
     "start_time": "2024-02-16T15:12:47.761468Z"
    }
   },
   "id": "2f63ff4b67fe2c7",
   "execution_count": null
  }
 ],
 "metadata": {
  "kernelspec": {
   "display_name": "Python 3",
   "language": "python",
   "name": "python3"
  },
  "language_info": {
   "codemirror_mode": {
    "name": "ipython",
    "version": 2
   },
   "file_extension": ".py",
   "mimetype": "text/x-python",
   "name": "python",
   "nbconvert_exporter": "python",
   "pygments_lexer": "ipython2",
   "version": "2.7.6"
  }
 },
 "nbformat": 4,
 "nbformat_minor": 5
}
