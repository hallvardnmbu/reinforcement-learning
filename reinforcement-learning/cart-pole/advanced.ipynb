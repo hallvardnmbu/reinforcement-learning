{
 "cells": [
  {
   "cell_type": "markdown",
   "source": [
    "Reinforcement learning agent in the Cart Pole environment\n",
    "==="
   ],
   "metadata": {
    "collapsed": false
   },
   "id": "23c03779b2a1a5c0"
  },
  {
   "cell_type": "markdown",
   "source": [
    "Environment description\n",
    "---\n",
    "\n",
    "Actions: ndarray (1,)\n",
    " - {0, 1}: In which direction (0 = left, 1 = right) to push the cart.\n",
    "\n",
    "Observation: ndarray (4,)\n",
    " - \\[cart position, cart velocity, pole angle, pole angular velocity\\]\n",
    " \n",
    "Reward: float\n",
    " - Reward is for every step taken, including the termination step.\n",
    " \n",
    "Termination and truncation: bool\n",
    " - Pole Angle is more than ±12°\n",
    " - Cart Position is more than ±2.4 (center of the cart reaches the edge of the display)\n",
    " - Episode length is greater than 500"
   ],
   "metadata": {
    "collapsed": false
   },
   "id": "a227dd4386c39e84"
  },
  {
   "cell_type": "code",
   "outputs": [],
   "source": [
    "import gymnasium as gym\n",
    "import matplotlib.pyplot as plt\n",
    "\n",
    "# Disable plot axes and ticks:\n",
    "plt.rcParams.update({\n",
    "    'axes.spines.top': False, \n",
    "    'axes.spines.right': False, \n",
    "    'axes.spines.bottom': False, \n",
    "    'axes.spines.left': False, \n",
    "    'xtick.bottom': False, \n",
    "    'xtick.labelbottom': False, \n",
    "    'ytick.labelleft': False, \n",
    "    'ytick.left': False\n",
    "})"
   ],
   "metadata": {
    "collapsed": false,
    "ExecuteTime": {
     "end_time": "2024-02-01T15:28:00.198232Z",
     "start_time": "2024-02-01T15:27:59.748297Z"
    }
   },
   "id": "c69f9f38e669d12c",
   "execution_count": 1
  },
  {
   "cell_type": "markdown",
   "source": [
    "Environment"
   ],
   "metadata": {
    "collapsed": false
   },
   "id": "e962668f69b161cf"
  },
  {
   "cell_type": "code",
   "execution_count": 2,
   "id": "initial_id",
   "metadata": {
    "collapsed": true,
    "ExecuteTime": {
     "end_time": "2024-02-01T15:28:00.770207Z",
     "start_time": "2024-02-01T15:28:00.199575Z"
    }
   },
   "outputs": [
    {
     "data": {
      "text/plain": "<Figure size 640x480 with 1 Axes>",
      "image/png": "[encoded data removed]"
     },
     "metadata": {},
     "output_type": "display_data"
    }
   ],
   "source": [
    "environment = gym.make('CartPole-v1', render_mode=\"rgb_array\")\n",
    "\n",
    "_ = environment.reset()\n",
    "_ = plt.imshow(environment.render())"
   ]
  },
  {
   "cell_type": "markdown",
   "source": [
    "Agent"
   ],
   "metadata": {
    "collapsed": false
   },
   "id": "c6b879b884f78c2d"
  },
  {
   "cell_type": "code",
   "outputs": [],
   "source": [
    "import torch\n",
    "import torch.nn as nn\n",
    "\n",
    "class Agent(nn.Module):\n",
    "    def __init__(self, inputs=4, actions=2, hidden=False, neurons=64):\n",
    "        \"\"\"\n",
    "        Agent for reinforcement learning.\n",
    "        \n",
    "        Parameters\n",
    "        ----------\n",
    "        inputs : int, optional\n",
    "            Number of inputs.\n",
    "        actions : int, optional\n",
    "            Number of actions.\n",
    "        hidden : int or False, optional\n",
    "            Number of hidden layers.\n",
    "        neurons : int, optional\n",
    "            Number of neurons between layers.\n",
    "        \"\"\"\n",
    "        super(Agent, self).__init__()\n",
    "        self.hidden = hidden\n",
    "        \n",
    "        self.layer_in = nn.Linear(inputs, neurons)\n",
    "        \n",
    "        if self.hidden:\n",
    "            for i in range(self.hidden):\n",
    "                setattr(self, f\"layer_{i+1}\", nn.Linear(neurons, neurons))\n",
    "            \n",
    "        self.layer_out = nn.Linear(neurons, actions)\n",
    "        \n",
    "    def forward(self, x):\n",
    "        \"\"\"\n",
    "        Forward pass.\n",
    "        \n",
    "        Parameters\n",
    "        ----------\n",
    "        x : numpy.ndarray or torch.Tensor\n",
    "            Observation state.\n",
    "            \n",
    "        Returns\n",
    "        -------\n",
    "        output : torch.Tensor\n",
    "            Action probabilities.\n",
    "        \"\"\"\n",
    "        _output = torch.relu(self.layer_in(x))\n",
    "        \n",
    "        if self.hidden:\n",
    "            for i in range(self.hidden):\n",
    "                _output = torch.relu(getattr(self, f\"layer_{i+1}\")(_output))\n",
    "            \n",
    "        if self.layer_out.out_features > 1:\n",
    "            output = torch.log_softmax(self.layer_out(_output), dim=-1)\n",
    "        else:\n",
    "            output = torch.sigmoid(self.layer_out(_output))\n",
    "        \n",
    "        return output"
   ],
   "metadata": {
    "collapsed": false,
    "ExecuteTime": {
     "end_time": "2024-02-01T15:28:01.671662Z",
     "start_time": "2024-02-01T15:28:00.771636Z"
    }
   },
   "id": "b245eb61c9fd0614",
   "execution_count": 3
  },
  {
   "cell_type": "markdown",
   "source": [
    "Additions\n",
    "\n",
    "Asking GitHub Copilot Chat: \"Are there any additional steps I can take to speed up training?\"\n",
    "\n",
    "It answered that experience replay is a good idea – and gave me the following code. I also \n",
    "implemented a loss function using the memory and Q-learning."
   ],
   "metadata": {
    "collapsed": false
   },
   "id": "26d27b964d990e8c"
  },
  {
   "cell_type": "code",
   "outputs": [],
   "source": [
    "import random\n",
    "from collections import deque\n",
    "\n",
    "class ReplayMemory:\n",
    "    def __init__(self, capacity):\n",
    "        self.memory = deque(maxlen=capacity)\n",
    "\n",
    "    def push(self, transition):\n",
    "        self.memory.append(transition)\n",
    "\n",
    "    def sample(self, batch_size):\n",
    "        return random.sample(self.memory, batch_size)\n",
    "\n",
    "    def __len__(self):\n",
    "        return len(self.memory)"
   ],
   "metadata": {
    "collapsed": false,
    "ExecuteTime": {
     "end_time": "2024-02-01T15:28:01.671851Z",
     "start_time": "2024-02-01T15:28:01.658906Z"
    }
   },
   "id": "626eae4d14c4c7bf",
   "execution_count": 4
  },
  {
   "cell_type": "markdown",
   "source": [
    "Training"
   ],
   "metadata": {
    "collapsed": false
   },
   "id": "a7ade8fc0157ed95"
  },
  {
   "cell_type": "code",
   "outputs": [
    {
     "name": "stdout",
     "output_type": "stream",
     "text": [
      "Training agent '2-hidden-128-neurons'...\n",
      "Agent '2-hidden-128-neurons' trained.\n"
     ]
    }
   ],
   "source": [
    "EPISODES = 1000\n",
    "BATCH_SIZE = 64\n",
    "DISCOUNT = 0.95\n",
    "\n",
    "agents = {\"2-hidden-128-neurons\": Agent(inputs=4, actions=2, hidden=2, neurons=128)}\n",
    "\n",
    "loss_function = nn.MSELoss()\n",
    "memory = ReplayMemory(10000)\n",
    "\n",
    "for description, agent in agents.items():\n",
    "    \n",
    "    print(f\"Training agent '{description}'...\")\n",
    "    \n",
    "    optimizer = torch.optim.RMSprop(agent.parameters(), \n",
    "                                    lr=0.00025, eps=0.01)\n",
    "    \n",
    "    for episode in range(EPISODES):\n",
    "        \n",
    "        observation, info = environment.reset()\n",
    "        observation = torch.tensor(observation, dtype=torch.float32)\n",
    "        \n",
    "        for step in range(1000):\n",
    "            \n",
    "            actions = agent(observation)\n",
    "\n",
    "            if agent.layer_out.out_features > 1:\n",
    "                action = actions.argmax().item()\n",
    "            else:\n",
    "                action = int(actions.round().item())\n",
    "            \n",
    "            next_observation, reward, terminated, truncated, _ = environment.step(action)\n",
    "            next_observation = torch.tensor(next_observation, dtype=torch.float32)\n",
    "            finished = terminated or truncated\n",
    "            \n",
    "            memory.push((observation, action, reward, next_observation, finished))\n",
    "            observation = next_observation\n",
    "            \n",
    "            if len(memory) < BATCH_SIZE:\n",
    "                continue\n",
    "                \n",
    "            # Sample a batch of transitions\n",
    "            transitions = memory.sample(BATCH_SIZE)\n",
    "            \n",
    "            # Unpack transitions\n",
    "            state_batch, action_batch, reward_batch, next_state_batch, done_batch = zip(*transitions)\n",
    "            \n",
    "            # Convert to tensors\n",
    "            state_batch = torch.stack(state_batch)\n",
    "            action_batch = torch.tensor(action_batch, dtype=torch.long)\n",
    "            reward_batch = torch.tensor(reward_batch, dtype=torch.int)\n",
    "            next_state_batch = torch.stack(next_state_batch)\n",
    "            done_batch = torch.tensor(done_batch, dtype=torch.bool)\n",
    "            \n",
    "            # Compute Q-values for the current and next states as well as the expected Q-values\n",
    "            state_action_values = agent(state_batch).gather(1, action_batch.unsqueeze(-1)).squeeze(-1)\n",
    "            next_state_values = agent(next_state_batch).max(1)[0].detach()\n",
    "            expected_state_action_values = reward_batch + (next_state_values * DISCOUNT * \n",
    "                                                           ~done_batch)\n",
    "            \n",
    "            # Compute the loss\n",
    "            loss = loss_function(state_action_values, expected_state_action_values)\n",
    "            \n",
    "            # Backpropagate the loss and update the weights\n",
    "            optimizer.zero_grad()\n",
    "            loss.backward()\n",
    "            optimizer.step()\n",
    "\n",
    "            if finished:\n",
    "                observation, _ = environment.reset()\n",
    "                observation = torch.tensor(observation, dtype=torch.float32)\n",
    "                \n",
    "    print(f\"Agent '{description}' trained.\")"
   ],
   "metadata": {
    "collapsed": false,
    "ExecuteTime": {
     "end_time": "2024-02-01T15:59:29.243521Z",
     "start_time": "2024-02-01T15:49:50.288921Z"
    }
   },
   "id": "cb9003cfbc25239e",
   "execution_count": 19
  },
  {
   "cell_type": "code",
   "outputs": [
    {
     "name": "stdout",
     "output_type": "stream",
     "text": [
      "1\n",
      "1\n",
      "1\n",
      "1\n",
      "1\n",
      "1\n",
      "1\n",
      "1\n",
      "1\n"
     ]
    },
    {
     "data": {
      "text/plain": "<Figure size 640x480 with 1 Axes>",
      "image/png": "[encoded data removed]"
     },
     "metadata": {},
     "output_type": "display_data"
    }
   ],
   "source": [
    "# Use the agent to play the game and save the frames.\n",
    "\n",
    "observation, info = environment.reset()\n",
    "\n",
    "for timestep in range(1000):\n",
    "    \n",
    "    observation = torch.tensor(observation, dtype=torch.float32)\n",
    "    actions = agents['2-hidden-128-neurons'](observation)\n",
    "    action = actions.argmax().item()\n",
    "    \n",
    "    print(action)\n",
    "    \n",
    "    observation, reward, terminated, truncated, _ = environment.step(action)\n",
    "    \n",
    "    _ = plt.imshow(environment.render())\n",
    "    plt.savefig(f\"./images/cart-pole/{timestep}.png\")\n",
    "    \n",
    "    if terminated or truncated:\n",
    "        break"
   ],
   "metadata": {
    "collapsed": false,
    "ExecuteTime": {
     "end_time": "2024-02-01T16:00:33.715474Z",
     "start_time": "2024-02-01T16:00:32.690078Z"
    }
   },
   "id": "c6ebbde1d8daa55b",
   "execution_count": 22
  },
  {
   "cell_type": "code",
   "outputs": [],
   "source": [
    "environment.close()"
   ],
   "metadata": {
    "collapsed": false
   },
   "id": "dbf42b7cc327e299"
  },
  {
   "cell_type": "markdown",
   "source": [
    "Sources\n",
    "\n",
    "https://gymnasium.farama.org/content/basic_usage/\n",
    "\n",
    "https://gymnasium.farama.org/environments/classic_control/cart_pole/\n",
    "\n",
    "https://ieeexplore.ieee.org/document/6313077"
   ],
   "metadata": {
    "collapsed": false
   },
   "id": "bf92ff7a0b0251bd"
  }
 ],
 "metadata": {
  "kernelspec": {
   "display_name": "Python 3",
   "language": "python",
   "name": "python3"
  },
  "language_info": {
   "codemirror_mode": {
    "name": "ipython",
    "version": 2
   },
   "file_extension": ".py",
   "mimetype": "text/x-python",
   "name": "python",
   "nbconvert_exporter": "python",
   "pygments_lexer": "ipython2",
   "version": "2.7.6"
  }
 },
 "nbformat": 4,
 "nbformat_minor": 5
}
