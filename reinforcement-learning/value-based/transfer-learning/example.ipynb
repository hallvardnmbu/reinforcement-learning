{
 "cells": [
  {
   "cell_type": "markdown",
   "source": [
    "# Example of transfer learning vision agent"
   ],
   "metadata": {
    "collapsed": false
   },
   "id": "3c9f5224bda0a850"
  },
  {
   "cell_type": "code",
   "execution_count": null,
   "id": "initial_id",
   "metadata": {
    "collapsed": true
   },
   "outputs": [],
   "source": [
    "import warnings\n",
    "warnings.filterwarnings('ignore')\n",
    "\n",
    "import time\n",
    "import copy\n",
    "\n",
    "import torch\n",
    "import imageio\n",
    "import gymnasium as gym\n",
    "from torchvision import models\n",
    "import matplotlib.pyplot as plt\n",
    "\n",
    "from agent import TransferDeepQ"
   ]
  },
  {
   "cell_type": "code",
   "outputs": [],
   "source": [
    "environment = gym.make('ALE/Tetris-v5', render_mode=\"rgb_array\",\n",
    "                       obs_type=\"rgb\", frameskip=4, repeat_action_probability=0.25)\n",
    "environment.metadata[\"render_fps\"] = 30"
   ],
   "metadata": {
    "collapsed": false
   },
   "id": "eb78c59c224fb651",
   "execution_count": null
  },
  {
   "cell_type": "markdown",
   "source": [
    "## Parameters"
   ],
   "metadata": {
    "collapsed": false
   },
   "id": "aaad5b18e1d9e8b8"
  },
  {
   "cell_type": "markdown",
   "source": [
    "|Parameter|Description|\n",
    "|---------|-----------|\n",
    "| SHAPE | input shape of the network (batch, channels, height, width) |\n",
    "| DISCOUNT | discount rate for rewards |\n",
    "| GAMMA | discount rate for Q-learning |\n",
    "| EXPLORATION_RATE | initial exploration rate |\n",
    "| EXPLORATION_MIN | minimum exploration rate |\n",
    "| EXPLORATION_STEPS | number of games to decay exploration rate from `RATE` to `MIN` |\n",
    "| MINIBATCH | size of the minibatch |\n",
    "| TRAIN_EVERY | train the network every `n` games |\n",
    "| START_TRAINING_AT | start training after n games |\n",
    "| REMEMBER_ALL | only remember games with rewards |\n",
    "| MEMORY | size of the agents internal memory |\n",
    "| RESET_Q_EVERY | update target-network every `n` games |"
   ],
   "metadata": {
    "collapsed": false
   },
   "id": "12e5ea5fba499e42"
  },
  {
   "cell_type": "code",
   "outputs": [],
   "source": [
    "GAMES = 50\n",
    "SHAPE = (1, 3, 210, 160)\n",
    "\n",
    "DISCOUNT = 0.98\n",
    "GAMMA = 0.99\n",
    "\n",
    "EXPLORATION_RATE = 0.1\n",
    "EXPLORATION_MIN = 0.01\n",
    "EXPLORATION_STEPS = 100\n",
    "\n",
    "MINIBATCH = 32\n",
    "TRAIN_EVERY = 5\n",
    "START_TRAINING_AT = 45\n",
    "\n",
    "REMEMBER_ALL = False\n",
    "MEMORY = 150\n",
    "RESET_Q_EVERY = 100\n",
    "\n",
    "OPTIMIZER = {\n",
    "    \"optimizer\": torch.optim.Adam,\n",
    "    \"lr\": 0.001,\n",
    "    \"hyperparameters\": {}\n",
    "}"
   ],
   "metadata": {
    "collapsed": false
   },
   "id": "f383835d35e478c8",
   "execution_count": null
  },
  {
   "cell_type": "markdown",
   "source": [
    "## Pre-trained model"
   ],
   "metadata": {
    "collapsed": false
   },
   "id": "dc1d9a28cc9d1683"
  },
  {
   "cell_type": "code",
   "outputs": [],
   "source": [
    "preprocess = models.ResNet18_Weights.DEFAULT.transforms()\n",
    "network = models.resnet18(weights=models.ResNet18_Weights.DEFAULT, progress=False)"
   ],
   "metadata": {
    "collapsed": false
   },
   "id": "43d33757f625e1ca",
   "execution_count": null
  },
  {
   "cell_type": "markdown",
   "source": [
    "## Agent definition"
   ],
   "metadata": {
    "collapsed": false
   },
   "id": "ee22e71e85adfd35"
  },
  {
   "cell_type": "code",
   "outputs": [],
   "source": [
    "value_agent = TransferDeepQ(\n",
    "    transfer={\"network\": network, \"preprocess\": preprocess},\n",
    "    actions=5, optimizer=OPTIMIZER,\n",
    "\n",
    "    batch_size=MINIBATCH,\n",
    "\n",
    "    other={\n",
    "        \"discount\": DISCOUNT, \"gamma\": GAMMA,\n",
    "\n",
    "        \"memory\": MEMORY,\n",
    "\n",
    "        \"exploration_rate\": EXPLORATION_RATE,\n",
    "        \"exploration_steps\": EXPLORATION_STEPS,\n",
    "        \"exploration_min\": EXPLORATION_MIN\n",
    "    }\n",
    ")\n",
    "\n",
    "_value_agent = copy.deepcopy(value_agent.network)"
   ],
   "metadata": {
    "collapsed": false
   },
   "id": "ea2d40ac51dd0d3a",
   "execution_count": null
  },
  {
   "cell_type": "markdown",
   "source": [
    "## Training"
   ],
   "metadata": {
    "collapsed": false
   },
   "id": "9ad2a5bb019dbbc"
  },
  {
   "cell_type": "code",
   "outputs": [],
   "source": [
    "CHECKPOINT = GAMES // 10\n",
    "METRICS = {\n",
    "    \"steps\": torch.zeros(GAMES),\n",
    "    \"losses\": torch.zeros(GAMES // TRAIN_EVERY),\n",
    "    \"exploration\": torch.zeros(GAMES),\n",
    "    \"rewards\": torch.zeros(GAMES)\n",
    "}"
   ],
   "metadata": {
    "collapsed": false
   },
   "id": "e5ae05701605529e",
   "execution_count": null
  },
  {
   "cell_type": "code",
   "outputs": [],
   "source": [
    "TRAINING = False\n",
    "\n",
    "start = time.time()\n",
    "for game in range(1, GAMES + 1):\n",
    "\n",
    "    if not TRAINING and game >= START_TRAINING_AT:\n",
    "        print(\"Starting training\")\n",
    "        TRAINING = True\n",
    "\n",
    "    state = torch.tensor(environment.reset()[0], dtype=torch.float32).view(SHAPE)\n",
    "    TERMINATED = TRUNCATED = False\n",
    "\n",
    "    # LEARNING FROM GAME\n",
    "    # ----------------------------------------------------------------------------------------------\n",
    "\n",
    "    STEPS = 0\n",
    "    REWARDS = 0\n",
    "    while not (TERMINATED or TRUNCATED):\n",
    "        action = value_agent.action(state)\n",
    "\n",
    "        new_state, reward, TERMINATED, TRUNCATED, _ = environment.step(action.item())\n",
    "\n",
    "        new_state = torch.tensor(new_state, dtype=torch.float32).view(SHAPE)\n",
    "\n",
    "        value_agent.remember(state, action, torch.tensor([reward]))\n",
    "\n",
    "        state = new_state\n",
    "\n",
    "        STEPS += 1\n",
    "        REWARDS += reward\n",
    "\n",
    "    if REMEMBER_ALL or REWARDS > 0:\n",
    "        value_agent.memorize(state, STEPS)\n",
    "        print(f\" Memorized {game} \"\n",
    "              f\"Memory: {len(value_agent.memory['memory']) * 100 / MEMORY} % \"\n",
    "              f\"Rewards: {REWARDS}\")\n",
    "    else:\n",
    "        value_agent.memory[\"game\"].clear()\n",
    "\n",
    "    if (game % TRAIN_EVERY == 0\n",
    "            and len(value_agent.memory[\"memory\"]) > 0\n",
    "            and TRAINING):\n",
    "\n",
    "        loss = value_agent.learn(network=_value_agent)\n",
    "        METRICS[\"losses\"][game // TRAIN_EVERY - 1] = loss\n",
    "\n",
    "    if game % RESET_Q_EVERY == 0 and TRAINING:\n",
    "        print(\" Resetting target-network\")\n",
    "\n",
    "        _value_agent.load_state_dict(value_agent.network.state_dict())\n",
    "\n",
    "    # METRICS\n",
    "    # ----------------------------------------------------------------------------------------------\n",
    "\n",
    "    METRICS[\"steps\"][game - 1] = STEPS\n",
    "    METRICS[\"exploration\"][game - 1] = value_agent.parameter[\"rate\"]\n",
    "    METRICS[\"rewards\"][game - 1] = REWARDS\n",
    "\n",
    "    if game % CHECKPOINT == 0 or game == GAMES:\n",
    "        _MEAN_STEPS = METRICS[\"steps\"][max(0, game - CHECKPOINT - 1):game - 1].mean()\n",
    "        _TOTAL_REWARDS = METRICS[\"rewards\"][max(0, game - CHECKPOINT - 1):game - 1].sum()\n",
    "\n",
    "        if TRAINING:\n",
    "            _MEAN_LOSS = METRICS[\"losses\"][max(0, (game - CHECKPOINT - 1)\n",
    "                                               // TRAIN_EVERY):game // TRAIN_EVERY].mean()\n",
    "            _MEAN_LOSS = f\"{_MEAN_LOSS:.4f}\"\n",
    "        else:\n",
    "            _MEAN_LOSS = \"-\"\n",
    "\n",
    "        print(f\"Game {game} ({int(game * 100 / GAMES)} %)\")\n",
    "        print(\" > Average steps:\", int(_MEAN_STEPS))\n",
    "        print(\" > Average loss: \", _MEAN_LOSS)\n",
    "        print(\" > Rewards:      \", int(_TOTAL_REWARDS))\n",
    "\n",
    "print(f\"Total training time: {0} seconds\".format(round(time.time() - start, 2)))"
   ],
   "metadata": {
    "collapsed": false
   },
   "id": "acdd4620178ad85c",
   "execution_count": null
  },
  {
   "cell_type": "code",
   "outputs": [],
   "source": [
    "def moving_average(data, window_size=50):\n",
    "    \"\"\"Compute moving average with given window size of the data.\"\"\"\n",
    "    half_window = window_size // 2\n",
    "    return [(data[max(0, i - half_window):min(len(data), i + half_window)]).mean()\n",
    "            for i in range(len(data))]\n",
    "\n",
    "\n",
    "STEPS = moving_average(METRICS[\"steps\"])\n",
    "LOSSES = moving_average(METRICS[\"losses\"])\n",
    "REWARDS = [val.item() if val > 0 else torch.nan for val in METRICS[\"rewards\"]]\n",
    "\n",
    "fig, ax = plt.subplots(3, 1, figsize=(12, 8))\n",
    "fig.suptitle(\"Value-based: vision deep Q-learning agent\")\n",
    "\n",
    "ax[0].plot(STEPS, color=\"black\", linewidth=1)\n",
    "ax[0].set_xticks([])\n",
    "ax[0].set_title(\"Average steps per game\")\n",
    "\n",
    "ax[1].plot(torch.linspace(0, GAMES, len(LOSSES)), LOSSES, color=\"black\", linewidth=1)\n",
    "ax[1].set_yscale(\"log\") if any(loss > 0 for loss in LOSSES) else None\n",
    "ax[1].set_xticks([])\n",
    "ax[1].set_title(\"Average loss\")\n",
    "\n",
    "ax_2 = ax[1].twinx()\n",
    "ax_2.plot(METRICS[\"exploration\"], color=\"gray\", linewidth=0.5)\n",
    "ax_2.set_ylabel(\"Exploration rate\")\n",
    "ax_2.yaxis.label.set_color('gray')\n",
    "ax_2.set_ylim(-0.1, 1.1)\n",
    "ax_2.tick_params(axis='y', colors='gray')\n",
    "\n",
    "ax[2].scatter(range(len(REWARDS)), REWARDS, color=\"black\", s=15, marker=\"*\")\n",
    "ticks = list(set(reward for reward in REWARDS if not torch.isnan(torch.tensor(reward))))\n",
    "ax[2].set_yticks(ticks) if ticks else None\n",
    "ax[2].set_xlim(ax[1].get_xlim())\n",
    "ax[2].set_xlabel(\"Game nr.\")\n",
    "ax[2].set_title(\"Rewards per game\")\n",
    "\n",
    "for i in range(0, GAMES, GAMES // 10):\n",
    "    ax[0].axvline(x=i, color='gray', linewidth=0.5)\n",
    "    ax[1].axvline(x=i, color='gray', linewidth=0.5)\n",
    "    ax[2].axvline(x=i, color='gray', linewidth=0.5)\n",
    "\n",
    "ax[0].axvline(x=START_TRAINING_AT, color='black', linewidth=1)\n",
    "ax[1].axvline(x=START_TRAINING_AT, color='black', linewidth=1)\n",
    "ax[2].axvline(x=START_TRAINING_AT, color='black', linewidth=1)\n",
    "\n",
    "plt.savefig(\"../output/transfer-example.png\")"
   ],
   "metadata": {
    "collapsed": false
   },
   "id": "988f95ff7db20bdc",
   "execution_count": null
  },
  {
   "cell_type": "code",
   "outputs": [],
   "source": [
    "state = torch.tensor(environment.reset()[0], dtype=torch.float32).view(SHAPE)\n",
    "\n",
    "images = []\n",
    "TERMINATED = TRUNCATED = False\n",
    "while not (TERMINATED or TRUNCATED):\n",
    "    action = value_agent.action(state).item()\n",
    "\n",
    "    state, reward, TERMINATED, TRUNCATED, _ = environment.step(action)\n",
    "    state = torch.tensor(state, dtype=torch.float32).view(SHAPE)\n",
    "\n",
    "    images.append(environment.render())\n",
    "_ = imageio.mimsave('../output/transfer-example.gif', images, duration=50)"
   ],
   "metadata": {
    "collapsed": false
   },
   "id": "5d5ca09372bb028a",
   "execution_count": null
  }
 ],
 "metadata": {
  "kernelspec": {
   "display_name": "Python 3",
   "language": "python",
   "name": "python3"
  },
  "language_info": {
   "codemirror_mode": {
    "name": "ipython",
    "version": 2
   },
   "file_extension": ".py",
   "mimetype": "text/x-python",
   "name": "python",
   "nbconvert_exporter": "python",
   "pygments_lexer": "ipython2",
   "version": "2.7.6"
  }
 },
 "nbformat": 4,
 "nbformat_minor": 5
}
