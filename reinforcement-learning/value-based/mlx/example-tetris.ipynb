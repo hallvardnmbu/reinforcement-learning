{
 "cells": [
  {
   "cell_type": "markdown",
   "source": [
    "# Value-based vision agent in the tetris environment using Apple MLX"
   ],
   "metadata": {
    "collapsed": false
   },
   "id": "53c89e80d06ac9e1"
  },
  {
   "cell_type": "markdown",
   "source": [
    "|        | TYPE                   | VALUES          | DESCRIPTION                                                                                                |\n",
    "|--------|------------------------|-----------------|------------------------------------------------------------------------------------------------------------|\n",
    "| Action Space | ndarray<br/>(1,) | {0, 1, 2, 3, 4} | Action to manipulate the current tile.<br/>0: No action<br/>1: Rotate<br/>2: Right<br/>3: Left<br/>4: Down |\n",
    "| Observation Space | ndarray<br/>(210,160) | <0, 255> | The game screen. |\n",
    "| Reward |  | float | Reward given when a row is filled.<br/>Single: 1<br/>Double: 3<br/>Triple: 8<br/>Quadruple: 18       |\n",
    "| Termination |  | boolean | The game ends when the pieces stack up to the top of the playing field.                                    |"
   ],
   "metadata": {
    "collapsed": false
   },
   "id": "a6703acaf6e4cdb1"
  },
  {
   "cell_type": "code",
   "execution_count": null,
   "id": "initial_id",
   "metadata": {
    "collapsed": true
   },
   "outputs": [],
   "source": [
    "import time\n",
    "import imageio\n",
    "import mlx.core as mx\n",
    "import gymnasium as gym\n",
    "import mlx.optimizers as optim\n",
    "import matplotlib.pyplot as plt\n",
    "\n",
    "from agent_image import VisionDeepQ, Network"
   ]
  },
  {
   "cell_type": "code",
   "outputs": [],
   "source": [
    "environment = gym.make('ALE/Tetris-v5', render_mode=\"rgb_array\", \n",
    "                       obs_type=\"grayscale\", frameskip=4, repeat_action_probability=0.25)"
   ],
   "metadata": {
    "collapsed": false
   },
   "id": "82fb48c186edca6",
   "execution_count": null
  },
  {
   "cell_type": "markdown",
   "source": [
    "### Training"
   ],
   "metadata": {
    "collapsed": false
   },
   "id": "502492d920829821"
  },
  {
   "cell_type": "markdown",
   "source": [
    "#### Parameters"
   ],
   "metadata": {
    "collapsed": false
   },
   "id": "a9b6e0d012e49d21"
  },
  {
   "cell_type": "code",
   "outputs": [],
   "source": [
    "GAMES = 10000\n",
    "\n",
    "DISCOUNT = 0.99                                             # Discount rate for rewards\n",
    "GAMMA = 0.95                                                # Discount rate for Q-learning\n",
    "\n",
    "EXPLORATION_RATE = 1.0                                      # Initial exploration rate\n",
    "EXPLORATION_DECAY = 0.995                                   # Decay rate every game (rate *= decay)\n",
    "EXPLORATION_MIN = 0.01                                      # Minimum exploration rate\n",
    "\n",
    "MINIBATCH = 64                                              # Size of the minibatch\n",
    "TRAIN_EVERY = 10                                            # Train the network every n games\n",
    "START_TRAINING_AT = 500                                     # Start training after n games\n",
    "\n",
    "REMEMBER_ALL = False                                        # Only remember games with rewards\n",
    "MEMORY = 1500                                               # Size of the agents internal memory\n",
    "RESET_Q_EVERY = 250                                         # Update target-network every n games\n",
    "\n",
    "NETWORK = {\n",
    "    \"input_channels\": 1, \"outputs\": 5, \n",
    "    \"channels\": [32, 64, 64],\n",
    "    \"kernels\": [8, 4, 3],\n",
    "    \"strides\": [4, 2, 1],\n",
    "    \"nodes\": [64]\n",
    "}\n",
    "OPTIMIZER = {\n",
    "    \"optimizer\": optim.RMSprop, \n",
    "    \"lr\": 0.0025, \n",
    "    \"hyperparameters\": {}\n",
    "}"
   ],
   "metadata": {
    "collapsed": false
   },
   "id": "2476ac8633268c19",
   "execution_count": null
  },
  {
   "cell_type": "markdown",
   "source": [
    "#### Initialisation"
   ],
   "metadata": {
    "collapsed": false
   },
   "id": "63982ba7ddfbf951"
  },
  {
   "cell_type": "code",
   "outputs": [],
   "source": [
    "value_agent = VisionDeepQ(\n",
    "    network=NETWORK, optimizer=OPTIMIZER,\n",
    "    \n",
    "    discount=DISCOUNT, gamma=GAMMA, \n",
    "    \n",
    "    batch_size=MINIBATCH, memory=MEMORY,\n",
    "    \n",
    "    exploration_rate=EXPLORATION_RATE, exploration_decay=EXPLORATION_DECAY, \n",
    "    exploration_min=EXPLORATION_MIN\n",
    ")\n",
    "\n",
    "# TARGET NETWORK\n",
    "# --------------------------------------------------------------------------------------------------\n",
    "# The target network is used to calculate the target Q-value for the loss function. It is updated\n",
    "# every `RESET_Q_EVERY` games to the current Q-network. The parameters are then updated in the \n",
    "# same way as here:\n",
    "\n",
    "_value_agent = Network(network=NETWORK)\n",
    "\n",
    "parameters = [(f\"layers.{i}.{name}\", value)\n",
    "              for i, layer in enumerate(value_agent.agent.parameters()[\"layers\"])\n",
    "              for name, value in layer.items()]\n",
    "_value_agent.load_weights(parameters)"
   ],
   "metadata": {
    "collapsed": false
   },
   "id": "4efdbf0dbc4e327f",
   "execution_count": null
  },
  {
   "cell_type": "code",
   "outputs": [],
   "source": [
    "checkpoint = GAMES // 10\n",
    "metrics = {\n",
    "    \"steps\": mx.zeros(GAMES),\n",
    "    \"losses\": mx.zeros(GAMES // TRAIN_EVERY),\n",
    "    \"exploration\": mx.zeros(GAMES),\n",
    "    \"rewards\": mx.zeros(GAMES)\n",
    "}"
   ],
   "metadata": {
    "collapsed": false
   },
   "id": "3e9591009b6a7d65",
   "execution_count": null
  },
  {
   "cell_type": "markdown",
   "source": [
    "#### Training"
   ],
   "metadata": {
    "collapsed": false
   },
   "id": "ae53ad294423428a"
  },
  {
   "cell_type": "code",
   "outputs": [],
   "source": [
    "start = time.time()\n",
    "for game in range(1, GAMES + 1):\n",
    "    \n",
    "    state = mx.array(environment.reset()[0]).reshape((1, 210, 160, 1))\n",
    "    terminated = truncated = False\n",
    "    \n",
    "    # LEARNING FROM GAME\n",
    "    # ----------------------------------------------------------------------------------------------\n",
    "    \n",
    "    steps = 0\n",
    "    rewards = 0\n",
    "    while not (terminated or truncated):\n",
    "        action = value_agent.action(state)\n",
    "        \n",
    "        new_state, reward, terminated, truncated, _ = environment.step(action.item())\n",
    "        new_state = mx.array(new_state).reshape((1, 210, 160, 1))\n",
    "        \n",
    "        value_agent.remember(state, action, new_state, mx.array([reward]))\n",
    "        state = new_state\n",
    "        \n",
    "        steps += 1\n",
    "        rewards += reward\n",
    "        \n",
    "    if REMEMBER_ALL or rewards > 0:\n",
    "        value_agent.memorize(steps)\n",
    "    else:\n",
    "        value_agent.memory[\"game\"] = []\n",
    "\n",
    "    if (game % TRAIN_EVERY == 0 \n",
    "            and len(value_agent.memory[\"memory\"]) > 0 \n",
    "            and game >= START_TRAINING_AT):\n",
    "        \n",
    "        loss = value_agent.learn(network=_value_agent)\n",
    "        metrics[\"losses\"][game // TRAIN_EVERY - 1] = loss\n",
    "    \n",
    "    if game % RESET_Q_EVERY == 0 and game > START_TRAINING_AT:\n",
    "        parameters = [(f\"layers.{i}.{name}\", value)\n",
    "                      for i, layer in enumerate(value_agent.agent.parameters()[\"layers\"])\n",
    "                      for name, value in layer.items()]\n",
    "        _value_agent.load_weights(parameters)\n",
    "\n",
    "    # METRICS\n",
    "    # ----------------------------------------------------------------------------------------------\n",
    "    \n",
    "    metrics[\"steps\"][game-1] = steps\n",
    "    metrics[\"exploration\"][game-1] = value_agent.parameter[\"rate\"]\n",
    "    metrics[\"rewards\"][game-1] = rewards\n",
    "    \n",
    "    if game % checkpoint == 0 or game == GAMES:\n",
    "        _mean_steps = metrics[\"steps\"][max(0, game-checkpoint-1):game-1].mean().item()\n",
    "        _total_rewards = metrics[\"rewards\"][max(0, game-checkpoint-1):game-1].sum().item()\n",
    "        \n",
    "        if game >= START_TRAINING_AT:\n",
    "            _mean_loss = metrics[\"losses\"][max(0, (game-checkpoint-1) \n",
    "                                       // TRAIN_EVERY):game // TRAIN_EVERY].mean()\n",
    "            _mean_loss = f\"{_mean_loss.item():.4f}\" if not mx.isnan(_mean_loss) else \"-\"\n",
    "        else:\n",
    "            _mean_loss = \"-\"\n",
    "        \n",
    "        print(f\"Game {game:>6} {int(game/GAMES * 100):>16} % \\n\"\n",
    "              f\"{'-'*30} \\n\"\n",
    "              f\" > Average steps: {int(_mean_steps):>12} \\n\"\n",
    "              f\" > Average loss: {_mean_loss:>13} \\n\"\n",
    "              f\" > Rewards: {int(_total_rewards):>18} \\n \")\n",
    "        \n",
    "print(f\"Total training time: {time.time()-start:.2f} seconds\")"
   ],
   "metadata": {
    "collapsed": false
   },
   "id": "b4abfe2d67240d1f",
   "execution_count": null
  },
  {
   "cell_type": "markdown",
   "source": [
    "#### Visualisation"
   ],
   "metadata": {
    "collapsed": false
   },
   "id": "4e6dd43949968ed9"
  },
  {
   "cell_type": "markdown",
   "source": [
    "##### Metrics"
   ],
   "metadata": {
    "collapsed": false
   },
   "id": "24bf08f31372cdc3"
  },
  {
   "cell_type": "code",
   "outputs": [],
   "source": [
    "def moving_average(data, window_size=50):\n",
    "    \"\"\"Compute moving average with given window size of the data.\"\"\"\n",
    "    half_window = window_size // 2\n",
    "    return [(data[max(0, i-half_window):min(len(data), i+half_window)]).mean().item() \n",
    "            for i in range(len(data))]\n",
    "\n",
    "steps = moving_average(metrics[\"steps\"])\n",
    "losses = moving_average(metrics[\"losses\"])\n",
    "rewards = [val.item() if val > 0 else mx.nan for val in metrics[\"rewards\"]]\n",
    "\n",
    "fig, ax = plt.subplots(3, 1, figsize=(12, 8))\n",
    "fig.suptitle(\"Value-based: vision deep Q-learning agent\")\n",
    "\n",
    "ax[0].plot(steps, color=\"black\", linewidth=1)\n",
    "ax[0].set_xticks([])\n",
    "ax[0].set_title(\"Average steps per game\")\n",
    "\n",
    "ax[1].plot(mx.linspace(0, GAMES, len(losses)).tolist(), losses, color=\"black\", linewidth=1)\n",
    "ax[1].set_yscale(\"log\") if any(loss > 0 for loss in losses) else None\n",
    "ax[1].set_xticks([])\n",
    "ax[1].set_title(\"Average loss\")\n",
    "\n",
    "ax_2 = ax[1].twinx()\n",
    "ax_2.plot(metrics[\"exploration\"].tolist(), color=\"gray\", linewidth=0.5)\n",
    "ax_2.set_ylabel(\"Exploration rate\")\n",
    "ax_2.yaxis.label.set_color('gray')\n",
    "ax_2.set_ylim(-0.1, 1.1)\n",
    "ax_2.tick_params(axis='y', colors='gray')\n",
    "\n",
    "ax[2].scatter(range(len(rewards)), rewards, color=\"black\", s=15, marker=\"*\")\n",
    "ticks = set(reward for reward in rewards if not mx.isnan(mx.array(reward)))\n",
    "ax[2].set_yticks(ticks) if ticks else None\n",
    "ax[2].set_xlim(ax[1].get_xlim())\n",
    "ax[2].set_xlabel(\"Game nr.\")\n",
    "ax[2].set_title(\"Rewards per game\")\n",
    "\n",
    "for i in range(0, GAMES, GAMES // 10):\n",
    "    ax[0].axvline(x=i, color='gray', linewidth=0.5)\n",
    "    ax[1].axvline(x=i, color='gray', linewidth=0.5)\n",
    "    ax[2].axvline(x=i, color='gray', linewidth=0.5)\n",
    "\n",
    "plt.savefig(\"../output/mlx-value-vision-tetris.png\")\n",
    "plt.show()"
   ],
   "metadata": {
    "collapsed": false
   },
   "id": "510380cc5f3c5685",
   "execution_count": null
  },
  {
   "cell_type": "markdown",
   "source": [
    "##### In action"
   ],
   "metadata": {
    "collapsed": false
   },
   "id": "96a3a9859771c84"
  },
  {
   "cell_type": "code",
   "outputs": [],
   "source": [
    "state = mx.array(environment.reset()[0]).reshape((1, 210, 160, 1))\n",
    "\n",
    "images = []\n",
    "terminated = truncated = False\n",
    "while not (terminated or truncated):\n",
    "    action = mx.argmax(value_agent(state)).item()\n",
    "    \n",
    "    state, reward, terminated, truncated, _ = environment.step(action)\n",
    "    state = mx.array(state).reshape((1, 210, 160, 1))\n",
    "\n",
    "    images.append(environment.render())\n",
    "_ = imageio.mimsave('../output/mlx-value-vision-tetris.gif', images, duration=25)"
   ],
   "metadata": {
    "collapsed": false
   },
   "id": "4183f64c47eb5090",
   "execution_count": null
  },
  {
   "cell_type": "markdown",
   "source": [
    "<img src=\"../output/mlx-value-vision-tetris.gif\" width=\"1000\" height=\"1000\" />"
   ],
   "metadata": {
    "collapsed": false
   },
   "id": "a9f592c07276b7f2"
  },
  {
   "cell_type": "code",
   "outputs": [],
   "source": [
    "environment.close()"
   ],
   "metadata": {
    "collapsed": false
   },
   "id": "2f63ff4b67fe2c7",
   "execution_count": null
  }
 ],
 "metadata": {
  "kernelspec": {
   "display_name": "Python 3",
   "language": "python",
   "name": "python3"
  },
  "language_info": {
   "codemirror_mode": {
    "name": "ipython",
    "version": 2
   },
   "file_extension": ".py",
   "mimetype": "text/x-python",
   "name": "python",
   "nbconvert_exporter": "python",
   "pygments_lexer": "ipython2",
   "version": "2.7.6"
  }
 },
 "nbformat": 4,
 "nbformat_minor": 5
}
