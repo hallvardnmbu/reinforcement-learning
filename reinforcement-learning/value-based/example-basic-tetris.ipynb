{
 "cells": [
  {
   "cell_type": "markdown",
   "source": [
    "# Value-based agent in the tetris environment using PyTorch"
   ],
   "metadata": {
    "collapsed": false
   },
   "id": "53c89e80d06ac9e1"
  },
  {
   "cell_type": "markdown",
   "source": [
    "|        | TYPE                   | VALUES          | DESCRIPTION                                                                                                |\n",
    "|--------|------------------------|-----------------|------------------------------------------------------------------------------------------------------------|\n",
    "| Action Space | ndarray<br/>(1,) | {0, 1, 2, 3, 4} | Action to manipulate the current tile.<br/>0: No action<br/>1: Rotate<br/>2: Right<br/>3: Left<br/>4: Down |\n",
    "| Observation Space | ndarray<br/>(128,) | <0, 255> | The game screen. (RAM version.)   |\n",
    "| Reward |  | float | Reward given when a row is filled.<br/>Single: 1<br/>Double: 3<br/>Triple: 8<br/>Quadruple: 18       |\n",
    "| Termination |  | boolean | The game ends when the pieces stack up to the top of the playing field.                                    |"
   ],
   "metadata": {
    "collapsed": false
   },
   "id": "a6703acaf6e4cdb1"
  },
  {
   "cell_type": "code",
   "execution_count": null,
   "id": "initial_id",
   "metadata": {
    "collapsed": true
   },
   "outputs": [],
   "source": [
    "import sys\n",
    "import copy\n",
    "import time\n",
    "import torch\n",
    "from tqdm import tqdm\n",
    "import gymnasium as gym\n",
    "import matplotlib.pyplot as plt\n",
    "\n",
    "sys.path.append(\"../\")\n",
    "\n",
    "from agent_basic_continuous import DeepQ\n",
    "from _helpers.plotting import visualise_dict  # noqa\n",
    "from _helpers.gif import gif  # noqa"
   ]
  },
  {
   "cell_type": "code",
   "outputs": [],
   "source": [
    "environment = gym.make('ALE/Tetris-ram-v5', render_mode=\"rgb_array\", \n",
    "                       obs_type=\"ram\", frameskip=4, repeat_action_probability=0.25)"
   ],
   "metadata": {
    "collapsed": false
   },
   "id": "82fb48c186edca6",
   "execution_count": null
  },
  {
   "cell_type": "markdown",
   "source": [
    "### Training"
   ],
   "metadata": {
    "collapsed": false
   },
   "id": "502492d920829821"
  },
  {
   "cell_type": "markdown",
   "source": [
    "#### Parameters"
   ],
   "metadata": {
    "collapsed": false
   },
   "id": "a9b6e0d012e49d21"
  },
  {
   "cell_type": "code",
   "outputs": [],
   "source": [
    "GAMES = 1000\n",
    "\n",
    "GAMMA = 0.99\n",
    "\n",
    "EXPLORATION_RATE = 1.0\n",
    "EXPLORATION_DECAY = 0.995\n",
    "EXPLORATION_MIN = 0.01\n",
    "\n",
    "MINIBATCH = 64\n",
    "TRAIN_EVERY = 10\n",
    "\n",
    "MEMORY = 1500\n",
    "RESET_Q_EVERY = 250\n",
    "\n",
    "NETWORK = {\"inputs\": 128, \"outputs\": 5, \"nodes\": [64, 32]}\n",
    "OPTIMIZER = {\"optimizer\": torch.optim.RMSprop, \"lr\": 0.0025}"
   ],
   "metadata": {
    "collapsed": false
   },
   "id": "2476ac8633268c19",
   "execution_count": null
  },
  {
   "cell_type": "markdown",
   "source": [
    "#### Initialisation"
   ],
   "metadata": {
    "collapsed": false
   },
   "id": "63982ba7ddfbf951"
  },
  {
   "cell_type": "code",
   "outputs": [],
   "source": [
    "value_agent = DeepQ(\n",
    "    network=NETWORK, optimizer=OPTIMIZER,\n",
    "    gamma=GAMMA, batch_size=MINIBATCH, memory=MEMORY,\n",
    "    exploration_rate=EXPLORATION_RATE, exploration_decay=EXPLORATION_DECAY, exploration_min=EXPLORATION_MIN\n",
    ")\n",
    "\n",
    "_value_agent = copy.deepcopy(value_agent)"
   ],
   "metadata": {
    "collapsed": false
   },
   "id": "4efdbf0dbc4e327f",
   "execution_count": null
  },
  {
   "cell_type": "code",
   "outputs": [],
   "source": [
    "checkpoint = GAMES // 10\n",
    "metrics = {\n",
    "    \"steps\": torch.zeros(GAMES),\n",
    "    \"losses\": torch.zeros(GAMES // TRAIN_EVERY),\n",
    "    \"exploration\": torch.zeros(GAMES),\n",
    "    \"rewards\": torch.zeros(GAMES)\n",
    "}"
   ],
   "metadata": {
    "collapsed": false
   },
   "id": "3e9591009b6a7d65",
   "execution_count": null
  },
  {
   "cell_type": "markdown",
   "source": [
    "#### Training"
   ],
   "metadata": {
    "collapsed": false
   },
   "id": "ae53ad294423428a"
  },
  {
   "cell_type": "code",
   "outputs": [],
   "source": [
    "start = time.time()\n",
    "for game in tqdm(range(1, GAMES + 1), \n",
    "                 desc=\"Game\", ncols=50, bar_format='%s{l_bar}{bar}|' % '\\033[30m'):\n",
    "    \n",
    "    state = torch.tensor(environment.reset()[0], dtype=torch.float32).view(-1)\n",
    "    terminated = truncated = False\n",
    "    \n",
    "    # LEARNING FROM GAME\n",
    "    # ----------------------------------------------------------------------------------------------\n",
    "    \n",
    "    steps = 0\n",
    "    rewards = 0\n",
    "    while not (terminated or truncated):\n",
    "        action = value_agent.action(state)\n",
    "        \n",
    "        new_state, reward, terminated, truncated, _ = environment.step(action.item())\n",
    "        new_state = torch.tensor(new_state, dtype=torch.float32).view(-1)\n",
    "        \n",
    "        value_agent.remember(state, action, new_state, torch.tensor([reward]))\n",
    "        state = new_state\n",
    "        \n",
    "        steps += 1\n",
    "        rewards += reward\n",
    "    value_agent.memorize(steps)\n",
    "\n",
    "    if game % TRAIN_EVERY == 0:\n",
    "        loss = value_agent.learn(network=_value_agent)\n",
    "        metrics[\"losses\"][game // TRAIN_EVERY - 1] = loss\n",
    "    \n",
    "    if game % RESET_Q_EVERY == 0:\n",
    "        _value_agent.load_state_dict(value_agent.state_dict())\n",
    "\n",
    "    # METRICS\n",
    "    # ----------------------------------------------------------------------------------------------\n",
    "    \n",
    "    metrics[\"steps\"][game-1] = steps\n",
    "    metrics[\"exploration\"][game-1] = value_agent.explore[\"rate\"]\n",
    "    metrics[\"rewards\"][game-1] = rewards\n",
    "    \n",
    "    if game % checkpoint == 0 or game == GAMES:\n",
    "        _mean_steps = metrics[\"steps\"][max(0, game-checkpoint-1):game-1].mean()\n",
    "        _mean_loss = metrics[\"losses\"][max(0, (game-checkpoint-1) \n",
    "                                           // TRAIN_EVERY):game // TRAIN_EVERY].mean()\n",
    "        _total_rewards = metrics[\"rewards\"][max(0, game-checkpoint-1):game-1].sum()\n",
    "        \n",
    "        print(f\"Game {game:>6} {int(game/GAMES * 100):>16} % \\n\"\n",
    "              f\"{'-'*30} \\n\"\n",
    "              f\" > Average steps: {int(_mean_steps):>12} \\n\"\n",
    "              f\" > Average loss: {_mean_loss:>13.4f} \\n\"\n",
    "              f\" > Total rewards: {int(_total_rewards):>12} \\n \")\n",
    "        \n",
    "print(f\"Total training time: {time.time()-start:.2f} seconds\")"
   ],
   "metadata": {
    "collapsed": false
   },
   "id": "b4abfe2d67240d1f",
   "execution_count": null
  },
  {
   "cell_type": "markdown",
   "source": [
    "#### Visualisation"
   ],
   "metadata": {
    "collapsed": false
   },
   "id": "4e6dd43949968ed9"
  },
  {
   "cell_type": "markdown",
   "source": [
    "##### Metrics"
   ],
   "metadata": {
    "collapsed": false
   },
   "id": "24bf08f31372cdc3"
  },
  {
   "cell_type": "code",
   "outputs": [],
   "source": [
    "visualise_dict(metrics, title=\"Value-based: deep Q-learning agent\")\n",
    "plt.savefig(\"./output/value-elaborate-tetris.png\")\n",
    "plt.show()"
   ],
   "metadata": {
    "collapsed": false
   },
   "id": "510380cc5f3c5685",
   "execution_count": null
  },
  {
   "cell_type": "markdown",
   "source": [
    "##### In action"
   ],
   "metadata": {
    "collapsed": false
   },
   "id": "96a3a9859771c84"
  },
  {
   "cell_type": "code",
   "outputs": [],
   "source": [
    "gif(environment, value_agent, \"./output/value-elaborate-tetris.gif\")"
   ],
   "metadata": {
    "collapsed": false
   },
   "id": "4183f64c47eb5090",
   "execution_count": null
  },
  {
   "cell_type": "markdown",
   "source": [
    "<img src=\"./output/value-elaborate-tetris.gif\" width=\"1000\" height=\"1000\" />"
   ],
   "metadata": {
    "collapsed": false
   },
   "id": "a9f592c07276b7f2"
  },
  {
   "cell_type": "code",
   "outputs": [],
   "source": [
    "environment.close()"
   ],
   "metadata": {
    "collapsed": false
   },
   "id": "2f63ff4b67fe2c7",
   "execution_count": null
  }
 ],
 "metadata": {
  "kernelspec": {
   "display_name": "Python 3",
   "language": "python",
   "name": "python3"
  },
  "language_info": {
   "codemirror_mode": {
    "name": "ipython",
    "version": 2
   },
   "file_extension": ".py",
   "mimetype": "text/x-python",
   "name": "python",
   "nbconvert_exporter": "python",
   "pygments_lexer": "ipython2",
   "version": "2.7.6"
  }
 },
 "nbformat": 4,
 "nbformat_minor": 5
}
