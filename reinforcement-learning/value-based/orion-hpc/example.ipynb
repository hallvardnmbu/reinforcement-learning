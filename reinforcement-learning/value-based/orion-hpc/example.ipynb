{
 "cells": [
  {
   "cell_type": "markdown",
   "source": [
    "# Visualise the pre-trained agent in action\n",
    "\n",
    "Modify the path to the weights and run the notebook."
   ],
   "metadata": {
    "collapsed": false
   },
   "id": "b3d8465ecb86eca7"
  },
  {
   "cell_type": "code",
   "outputs": [],
   "source": [
    "WEIGHTS = './weights/weights-40000'  # NB: without '.pth'\n",
    "METRICS = None # './src/output/metrics.csv'"
   ],
   "metadata": {
    "collapsed": false,
    "ExecuteTime": {
     "end_time": "2024-03-08T07:51:13.672397Z",
     "start_time": "2024-03-08T07:51:13.668666Z"
    }
   },
   "id": "fea8e7d9fca9baa8",
   "execution_count": 1
  },
  {
   "cell_type": "code",
   "outputs": [],
   "source": [
    "import sys\n",
    "import torch\n",
    "import gymnasium as gym\n",
    "import matplotlib.pyplot as plt\n",
    "\n",
    "sys.path.append('../../')\n",
    "\n",
    "from src.agent import VisionDeepQ\n",
    "from _helpers.plotting import visualise_csv  # noqa\n",
    "from _helpers.gif import gif_stack  # noqa"
   ],
   "metadata": {
    "collapsed": false,
    "ExecuteTime": {
     "end_time": "2024-03-08T07:51:17.554709Z",
     "start_time": "2024-03-08T07:51:13.683822Z"
    }
   },
   "id": "7fb6036582d6bcba",
   "execution_count": 2
  },
  {
   "cell_type": "markdown",
   "source": [
    "## Parameters"
   ],
   "metadata": {
    "collapsed": false
   },
   "id": "4dddd56883444fab"
  },
  {
   "cell_type": "code",
   "outputs": [],
   "source": [
    "network = {\n",
    "    \"input_channels\": 4, \"outputs\": 5,\n",
    "    \"channels\": [64, 32],\n",
    "    \"kernels\": [3, 5],\n",
    "    \"padding\": [\"same\", \"same\"],\n",
    "    \"strides\": [],\n",
    "    \"nodes\": [],\n",
    "}\n",
    "optimizer = {\n",
    "    \"optimizer\": torch.optim.Adam,\n",
    "    \"lr\": 0.001,\n",
    "    \"hyperparameters\": {}\n",
    "}\n",
    "shape = {\n",
    "    \"original\": (1, 1, 210, 160),\n",
    "\n",
    "    \"height\": slice(27, 203),\n",
    "    \"width\": slice(22, 64),\n",
    "    \"max_pooling\": 2,\n",
    "}\n",
    "skip = 4"
   ],
   "metadata": {
    "collapsed": false,
    "ExecuteTime": {
     "end_time": "2024-03-08T07:51:17.560607Z",
     "start_time": "2024-03-08T07:51:17.556884Z"
    }
   },
   "id": "16867687f37ddbca",
   "execution_count": 3
  },
  {
   "cell_type": "markdown",
   "source": [
    "## Setup"
   ],
   "metadata": {
    "collapsed": false
   },
   "id": "f4ceef526245f794"
  },
  {
   "cell_type": "code",
   "outputs": [],
   "source": [
    "value_agent = VisionDeepQ(\n",
    "    network=network, optimizer=optimizer, shape=shape,\n",
    "    exploration_rate=1.0,\n",
    ")\n",
    "\n",
    "weights = torch.load(f'{WEIGHTS}.pth', map_location=torch.device('cpu'))\n",
    "value_agent.load_state_dict(weights)\n",
    "\n",
    "environment = gym.make('ALE/Tetris-v5', render_mode=\"rgb_array\",\n",
    "                       obs_type=\"grayscale\", frameskip=1, repeat_action_probability=0.0)\n",
    "environment.metadata[\"render_fps\"] = 30"
   ],
   "metadata": {
    "collapsed": false,
    "ExecuteTime": {
     "end_time": "2024-03-08T08:28:28.994313Z",
     "start_time": "2024-03-08T08:28:28.887534Z"
    }
   },
   "id": "545e1bc3efb30329",
   "execution_count": 68
  },
  {
   "cell_type": "markdown",
   "source": [
    "## Visualise"
   ],
   "metadata": {
    "collapsed": false
   },
   "id": "e0865980f2160f3d"
  },
  {
   "cell_type": "markdown",
   "source": [
    "Plotting the metrics from the csv-file created during training."
   ],
   "metadata": {
    "collapsed": false
   },
   "id": "e16710b451bb52bf"
  },
  {
   "cell_type": "code",
   "outputs": [],
   "source": [
    "visualise_csv(METRICS, title=\"Training Metrics\") if METRICS else None\n",
    "plt.show() if METRICS else None"
   ],
   "metadata": {
    "collapsed": false,
    "ExecuteTime": {
     "end_time": "2024-03-08T07:51:18.276258Z",
     "start_time": "2024-03-08T07:51:18.274556Z"
    }
   },
   "id": "22ce7a0155a13a58",
   "execution_count": 5
  },
  {
   "cell_type": "markdown",
   "source": [
    "Creating and saving a gif of the agent in action. The gif will be saved to the given path."
   ],
   "metadata": {
    "collapsed": false
   },
   "id": "7cfa651d1ac64461"
  },
  {
   "cell_type": "code",
   "outputs": [],
   "source": [
    "gif_stack(environment, value_agent, f'./{WEIGHTS}.gif', skip)"
   ],
   "metadata": {
    "collapsed": false,
    "ExecuteTime": {
     "end_time": "2024-03-08T07:51:31.835579Z",
     "start_time": "2024-03-08T07:51:18.277077Z"
    }
   },
   "id": "b2ba42f6d9ca3e92",
   "execution_count": 6
  }
 ],
 "metadata": {
  "kernelspec": {
   "display_name": "Python 3",
   "language": "python",
   "name": "python3"
  },
  "language_info": {
   "codemirror_mode": {
    "name": "ipython",
    "version": 2
   },
   "file_extension": ".py",
   "mimetype": "text/x-python",
   "name": "python",
   "nbconvert_exporter": "python",
   "pygments_lexer": "ipython2",
   "version": "2.7.6"
  }
 },
 "nbformat": 4,
 "nbformat_minor": 5
}
