{
 "cells": [
  {
   "cell_type": "markdown",
   "source": [
    "# Visualise the pre-trained agent in action\n",
    "\n",
    "Modify the path to the weights and run the notebook."
   ],
   "metadata": {
    "collapsed": false
   },
   "id": "b3d8465ecb86eca7"
  },
  {
   "cell_type": "code",
   "outputs": [],
   "source": [
    "WEIGHTS = './weights/weights-20000'  # NB: without '.pth'"
   ],
   "metadata": {
    "collapsed": false,
    "ExecuteTime": {
     "end_time": "2024-03-06T18:38:58.891309Z",
     "start_time": "2024-03-06T18:38:58.866508Z"
    }
   },
   "id": "e285c80c5e2766a4",
   "execution_count": 1
  },
  {
   "cell_type": "code",
   "execution_count": 2,
   "id": "initial_id",
   "metadata": {
    "collapsed": true,
    "ExecuteTime": {
     "end_time": "2024-03-06T18:39:01.620789Z",
     "start_time": "2024-03-06T18:38:58.892703Z"
    }
   },
   "outputs": [],
   "source": [
    "import torch\n",
    "import imageio\n",
    "import gymnasium as gym\n",
    "\n",
    "from upload.agent import VisionDeepQ"
   ]
  },
  {
   "cell_type": "code",
   "outputs": [],
   "source": [
    "network = {\n",
    "    \"input_channels\": 1, \"outputs\": 5,\n",
    "    \"channels\": [32, 32],\n",
    "    \"kernels\": [3, 5],\n",
    "    \"padding\": [\"same\", \"same\"]\n",
    "}\n",
    "optimizer = {\n",
    "    \"optimizer\": torch.optim.Adam,\n",
    "    \"lr\": 0.001,\n",
    "    \"hyperparameters\": {}\n",
    "}\n",
    "reshape = (1, 1, 203-27, 64-22)"
   ],
   "metadata": {
    "collapsed": false,
    "ExecuteTime": {
     "end_time": "2024-03-06T18:39:01.624564Z",
     "start_time": "2024-03-06T18:39:01.621730Z"
    }
   },
   "id": "16867687f37ddbca",
   "execution_count": 3
  },
  {
   "cell_type": "code",
   "outputs": [
    {
     "data": {
      "text/plain": "<All keys matched successfully>"
     },
     "execution_count": 4,
     "metadata": {},
     "output_type": "execute_result"
    }
   ],
   "source": [
    "value_agent = VisionDeepQ(\n",
    "    network=network, optimizer=optimizer, shape=reshape,\n",
    ")\n",
    "\n",
    "weights = torch.load(f'{WEIGHTS}.pth', map_location=torch.device('cpu'))\n",
    "value_agent.load_state_dict(weights)"
   ],
   "metadata": {
    "collapsed": false,
    "ExecuteTime": {
     "end_time": "2024-03-06T18:39:02.170342Z",
     "start_time": "2024-03-06T18:39:01.625463Z"
    }
   },
   "id": "545e1bc3efb30329",
   "execution_count": 4
  },
  {
   "cell_type": "code",
   "outputs": [
    {
     "name": "stderr",
     "output_type": "stream",
     "text": [
      "A.L.E: Arcade Learning Environment (version 0.8.1+53f58b7)\n",
      "[Powered by Stella]\n"
     ]
    }
   ],
   "source": [
    "environment = gym.make('ALE/Tetris-v5', render_mode=\"rgb_array\",\n",
    "                       obs_type=\"grayscale\", frameskip=4, repeat_action_probability=0.25)\n",
    "environment.metadata[\"render_fps\"] = 30"
   ],
   "metadata": {
    "collapsed": false,
    "ExecuteTime": {
     "end_time": "2024-03-06T18:39:02.230439Z",
     "start_time": "2024-03-06T18:39:02.172046Z"
    }
   },
   "id": "d7a46dd5b36d0c4a",
   "execution_count": 5
  },
  {
   "cell_type": "code",
   "outputs": [],
   "source": [
    "state = value_agent.preprocess(environment.reset()[0], (1, 1, 210, 160))\n",
    "\n",
    "images = []\n",
    "TERMINATED = TRUNCATED = False\n",
    "while not (TERMINATED or TRUNCATED):\n",
    "    action = value_agent(state).argmax(1).item()\n",
    "\n",
    "    state, reward, TERMINATED, TRUNCATED, _ = environment.step(action)\n",
    "    state = value_agent.preprocess(state, (1, 1, 210, 160))\n",
    "\n",
    "    images.append(environment.render())\n",
    "_ = imageio.mimsave(f'./{WEIGHTS}.gif', images, duration=25)"
   ],
   "metadata": {
    "collapsed": false,
    "ExecuteTime": {
     "end_time": "2024-03-06T18:39:15.138388Z",
     "start_time": "2024-03-06T18:39:02.231833Z"
    }
   },
   "id": "b2ba42f6d9ca3e92",
   "execution_count": 6
  }
 ],
 "metadata": {
  "kernelspec": {
   "display_name": "Python 3",
   "language": "python",
   "name": "python3"
  },
  "language_info": {
   "codemirror_mode": {
    "name": "ipython",
    "version": 2
   },
   "file_extension": ".py",
   "mimetype": "text/x-python",
   "name": "python",
   "nbconvert_exporter": "python",
   "pygments_lexer": "ipython2",
   "version": "2.7.6"
  }
 },
 "nbformat": 4,
 "nbformat_minor": 5
}
