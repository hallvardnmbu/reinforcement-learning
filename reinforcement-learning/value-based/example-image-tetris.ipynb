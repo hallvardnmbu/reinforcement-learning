{
 "cells": [
  {
   "cell_type": "markdown",
   "source": [
    "# Value-based vision agent in the tetris environment using PyTorch"
   ],
   "metadata": {
    "collapsed": false
   },
   "id": "53c89e80d06ac9e1"
  },
  {
   "cell_type": "markdown",
   "source": [
    "|        | TYPE                   | VALUES          | DESCRIPTION                                                                                                |\n",
    "|--------|------------------------|-----------------|------------------------------------------------------------------------------------------------------------|\n",
    "| Action Space | ndarray<br/>(1,) | {0, 1, 2, 3, 4} | Action to manipulate the current tile.<br/>0: No action<br/>1: Rotate<br/>2: Right<br/>3: Left<br/>4: Down |\n",
    "| Observation Space | ndarray<br/>(210,160) | <0, 255> | The game screen. |\n",
    "| Reward |  | float | Reward given when a row is filled.<br/>Single: 1<br/>Double: 3<br/>Triple: 8<br/>Quadruple: 18       |\n",
    "| Termination |  | boolean | The game ends when the pieces stack up to the top of the playing field.                                    |"
   ],
   "metadata": {
    "collapsed": false
   },
   "id": "a6703acaf6e4cdb1"
  },
  {
   "cell_type": "code",
   "execution_count": null,
   "id": "initial_id",
   "metadata": {
    "collapsed": true
   },
   "outputs": [],
   "source": [
    "import sys\n",
    "import copy\n",
    "import time\n",
    "import torch\n",
    "import imageio\n",
    "from tqdm import tqdm\n",
    "import gymnasium as gym\n",
    "\n",
    "sys.path.append(\"../\")\n",
    "\n",
    "from agent_image import VisionDeepQ\n",
    "from _helpers.plotting import visualise_csv  # noqa\n",
    "from _helpers.gif import gif_stack  # noqa"
   ]
  },
  {
   "cell_type": "code",
   "outputs": [],
   "source": [
    "environment = gym.make('ALE/Tetris-v5', render_mode=\"rgb_array\", \n",
    "                       obs_type=\"grayscale\", frameskip=1, repeat_action_probability=0.0)\n",
    "environment.metadata[\"render_fps\"] = 30"
   ],
   "metadata": {
    "collapsed": false
   },
   "id": "82fb48c186edca6",
   "execution_count": null
  },
  {
   "cell_type": "markdown",
   "source": [
    "### Training"
   ],
   "metadata": {
    "collapsed": false
   },
   "id": "502492d920829821"
  },
  {
   "cell_type": "markdown",
   "source": [
    "#### Parameters"
   ],
   "metadata": {
    "collapsed": false
   },
   "id": "a9b6e0d012e49d21"
  },
  {
   "cell_type": "markdown",
   "source": [
    "|Parameter|Description|\n",
    "|---------|-----------|\n",
    "| SHAPE | input shape of the network (batch, channels, height, width) |\n",
    "| DISCOUNT | discount rate for rewards |\n",
    "| GAMMA | discount rate for Q-learning |\n",
    "| PUNISHMENT | punishment for losing |\n",
    "| INCENTIVE | incentive for rewards |\n",
    "| EXPLORATION_RATE | initial exploration rate |\n",
    "| EXPLORATION_MIN | minimum exploration rate |\n",
    "| EXPLORATION_STEPS | number of games to decay exploration rate from `RATE` to `MIN` |\n",
    "| MINIBATCH | size of the minibatch |\n",
    "| TRAIN_EVERY | train the network every `n` games |\n",
    "| START_TRAINING_AT | start training after n games |\n",
    "| REMEMBER | only remember games with reward, and this fraction of the games without |\n",
    "| MEMORY | size of the agents internal memory |\n",
    "| RESET_Q_EVERY | update target-network every `n` games |"
   ],
   "metadata": {
    "collapsed": false
   },
   "id": "8baf69f3865a7093"
  },
  {
   "cell_type": "code",
   "outputs": [],
   "source": [
    "GAMES = 100000 \n",
    "CHECKPOINT = 5000\n",
    "\n",
    "SHAPE = (1, 1, 210, 160)\n",
    "RESHAPE = (1, 4, 88, 21)\n",
    "\n",
    "DISCOUNT = 0.95\n",
    "GAMMA = 0.99\n",
    "\n",
    "PUNISHMENT = -10\n",
    "INCENTIVE = 10\n",
    "\n",
    "MINIBATCH = 16\n",
    "TRAIN_EVERY = 25\n",
    "START_TRAINING_AT = 2000\n",
    "\n",
    "EXPLORATION_RATE = 1.0\n",
    "EXPLORATION_MIN = 0.001\n",
    "EXPLORATION_STEPS = 30000 // TRAIN_EVERY\n",
    "\n",
    "REMEMBER = 0.005\n",
    "MEMORY = 100\n",
    "RESET_Q_EVERY = TRAIN_EVERY * 150\n",
    "\n",
    "NETWORK = {\n",
    "    \"input_channels\": 4, \"outputs\": 5,\n",
    "    \"channels\": [64, 32],\n",
    "    \"kernels\": [2, 3],\n",
    "    # \"strides\": [1, 2],\n",
    "    \"padding\": [\"valid\", \"same\"],\n",
    "    \"nodes\": [32],\n",
    "}\n",
    "OPTIMIZER = {\n",
    "    \"optimizer\": torch.optim.Adam,\n",
    "    \"lr\": 0.001,\n",
    "    \"hyperparameters\": {}\n",
    "}"
   ],
   "metadata": {
    "collapsed": false
   },
   "id": "2476ac8633268c19",
   "execution_count": null
  },
  {
   "cell_type": "markdown",
   "source": [
    "#### Initialisation"
   ],
   "metadata": {
    "collapsed": false
   },
   "id": "63982ba7ddfbf951"
  },
  {
   "cell_type": "code",
   "outputs": [],
   "source": [
    "value_agent = VisionDeepQ(\n",
    "    network=NETWORK, optimizer=OPTIMIZER,\n",
    "\n",
    "    batch_size=MINIBATCH, shape=RESHAPE,\n",
    "\n",
    "    memory=MEMORY,\n",
    "\n",
    "    discount=DISCOUNT, gamma=GAMMA,\n",
    "\n",
    "    punishment=PUNISHMENT, incentive=INCENTIVE,\n",
    "\n",
    "    exploration_rate=EXPLORATION_RATE,\n",
    "    exploration_steps=EXPLORATION_STEPS,\n",
    "    exploration_min=EXPLORATION_MIN,\n",
    ")\n",
    "\n",
    "_value_agent = copy.deepcopy(value_agent)"
   ],
   "metadata": {
    "collapsed": false
   },
   "id": "4efdbf0dbc4e327f",
   "execution_count": null
  },
  {
   "cell_type": "markdown",
   "source": [
    "#### Training"
   ],
   "metadata": {
    "collapsed": false
   },
   "id": "ae53ad294423428a"
  },
  {
   "cell_type": "code",
   "outputs": [],
   "source": [
    "start = time.time()\n",
    "for game in tqdm(range(1, GAMES + 1), \n",
    "                 desc=\"Game\", ncols=50, bar_format='%s{l_bar}{bar}|' % '\\033[30m'):\n",
    "    \n",
    "    initial = value_agent.preprocess(environment.reset()[0], SHAPE)\n",
    "    states = torch.cat([initial] * RESHAPE[1], dim=1)\n",
    "\n",
    "    DONE = False\n",
    "    STEPS = REWARDS = 0\n",
    "    while not DONE:\n",
    "        action, new_states, rewards, DONE = value_agent.observe(environment, states, SHAPE)\n",
    "        value_agent.remember(states, action, rewards)\n",
    "\n",
    "        states = new_states\n",
    "        REWARDS += rewards.item()\n",
    "        STEPS += 1\n",
    "\n",
    "    value_agent.memorize(states, STEPS) if REWARDS > 0 else None\n",
    "    value_agent.memory[\"game\"].clear()\n",
    "\n",
    "    loss = value_agent.learn(network=_value_agent) \\\n",
    "        if (game % TRAIN_EVERY == 0 and len(value_agent.memory[\"memory\"]) > 0) \\\n",
    "        else None\n",
    "\n",
    "    _value_agent.load_state_dict(value_agent.state_dict()) if game % RESET_Q_EVERY == 0 else None\n",
    "\n",
    "print(f\"Total training time: {round(time.time() - start, 2)} seconds\")"
   ],
   "metadata": {
    "collapsed": false
   },
   "id": "b4abfe2d67240d1f",
   "execution_count": null
  },
  {
   "cell_type": "markdown",
   "source": [
    "#### Visualisation"
   ],
   "metadata": {
    "collapsed": false
   },
   "id": "4e6dd43949968ed9"
  },
  {
   "cell_type": "markdown",
   "source": [
    "##### In action"
   ],
   "metadata": {
    "collapsed": false
   },
   "id": "96a3a9859771c84"
  },
  {
   "cell_type": "code",
   "outputs": [],
   "source": [
    "gif_stack(environment, value_agent, './output/value-image-tetris.gif')"
   ],
   "metadata": {
    "collapsed": false
   },
   "id": "4183f64c47eb5090",
   "execution_count": null
  },
  {
   "cell_type": "markdown",
   "source": [
    "<img src=\"./output/value-image-tetris.gif\" width=\"1000\" height=\"1000\" />"
   ],
   "metadata": {
    "collapsed": false
   },
   "id": "a9f592c07276b7f2"
  },
  {
   "cell_type": "code",
   "outputs": [],
   "source": [
    "environment.close()"
   ],
   "metadata": {
    "collapsed": false
   },
   "id": "2f63ff4b67fe2c7",
   "execution_count": null
  }
 ],
 "metadata": {
  "kernelspec": {
   "display_name": "Python 3",
   "language": "python",
   "name": "python3"
  },
  "language_info": {
   "codemirror_mode": {
    "name": "ipython",
    "version": 2
   },
   "file_extension": ".py",
   "mimetype": "text/x-python",
   "name": "python",
   "nbconvert_exporter": "python",
   "pygments_lexer": "ipython2",
   "version": "2.7.6"
  }
 },
 "nbformat": 4,
 "nbformat_minor": 5
}
