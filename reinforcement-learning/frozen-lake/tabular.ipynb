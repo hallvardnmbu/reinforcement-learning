{
 "cells": [
  {
   "cell_type": "code",
   "execution_count": 1,
   "metadata": {},
   "outputs": [
    {
     "name": "stderr",
     "output_type": "stream",
     "text": [
      "/Users/leoquentin/opt/anaconda3/envs/INF202-Project/lib/python3.10/site-packages/pandas/core/arrays/masked.py:60: UserWarning: Pandas requires version '1.3.6' or newer of 'bottleneck' (version '1.3.5' currently installed).\n",
      "  from pandas.core import (\n"
     ]
    }
   ],
   "source": [
    "import gymnasium as gym\n",
    "import matplotlib.pyplot as plt\n",
    "\n",
    "from tabular import TabularQAgent"
   ]
  },
  {
   "cell_type": "code",
   "execution_count": 2,
   "metadata": {},
   "outputs": [],
   "source": [
    "def create_environment(map_name=\"4x4\", is_slippery=False):\n",
    "    env = gym.make(\"FrozenLake-v1\", map_name=map_name, is_slippery=is_slippery)\n",
    "    return env"
   ]
  },
  {
   "cell_type": "code",
   "execution_count": 3,
   "metadata": {},
   "outputs": [],
   "source": [
    "def run_episodes(agent, env, episodes, render=False):\n",
    "    reward_list = []\n",
    "    for episode in range(episodes):\n",
    "        state = env.reset()[0]\n",
    "        terminated = False\n",
    "        truncated = False\n",
    "        acc_reward = 0\n",
    "\n",
    "        while not terminated and not truncated:\n",
    "            if render:\n",
    "                env.render()\n",
    "\n",
    "            action = agent.action(state)\n",
    "            new_state, reward, terminated, truncated, _ = env.step(action)\n",
    "\n",
    "            agent.learn(state, action, reward, new_state)\n",
    "\n",
    "            acc_reward += reward\n",
    "            state = new_state\n",
    "\n",
    "        reward_list.append(acc_reward)\n",
    "\n",
    "    env.close()\n",
    "    return reward_list"
   ]
  },
  {
   "cell_type": "code",
   "execution_count": 4,
   "metadata": {},
   "outputs": [],
   "source": [
    "def train_agent(agent, map_name=\"4x4\", is_slippery=False, episodes=1000):\n",
    "    env = create_environment(map_name, is_slippery)\n",
    "    rewards = run_episodes(agent, env, episodes, render=False)\n",
    "    plt.plot(rewards)\n",
    "    plt.xlabel(\"Episode\")\n",
    "    plt.ylabel(\"Accumulated Reward\")\n",
    "    plt.show()"
   ]
  },
  {
   "cell_type": "code",
   "execution_count": 5,
   "metadata": {},
   "outputs": [],
   "source": [
    "def test_agent(agent, map_name=\"4x4\", is_slippery=False, episodes=100):\n",
    "    env = gym.make(\"FrozenLake-v1\", map_name=map_name, is_slippery=is_slippery, render_mode=\"human\")\n",
    "    run_episodes(agent, env, episodes, render=True)"
   ]
  },
  {
   "cell_type": "code",
   "execution_count": 6,
   "metadata": {},
   "outputs": [
    {
     "data": {
      "image/png": "[encoded data removed]",
      "text/plain": [
       "<Figure size 640x480 with 1 Axes>"
      ]
     },
     "metadata": {},
     "output_type": "display_data"
    }
   ],
   "source": [
    "agent = TabularQAgent(\n",
    "    state_space=16,  # Assuming a 4x4 map for simplicity\n",
    "    action_space=4,        # Number of actions in FrozenLake\n",
    "    lr=0.8, \n",
    "    gamma=0.9, \n",
    "    epsilon=0.99, \n",
    "    epsilon_decay=0.0001, \n",
    "    epsilon_minimum=0.01\n",
    ")\n",
    "\n",
    "train_agent(agent, map_name=\"4x4\", is_slippery=True, episodes=4000)"
   ]
  },
  {
   "cell_type": "code",
   "execution_count": 7,
   "metadata": {},
   "outputs": [
    {
     "ename": "",
     "evalue": "",
     "output_type": "error",
     "traceback": [
      "\u001B[1;31mThe Kernel crashed while executing code in the current cell or a previous cell. \n",
      "\u001B[1;31mPlease review the code in the cell(s) to identify a possible cause of the failure. \n",
      "\u001B[1;31mClick <a href='https://aka.ms/vscodeJupyterKernelCrash'>here</a> for more info. \n",
      "\u001B[1;31mView Jupyter <a href='command:jupyter.viewOutput'>log</a> for further details."
     ]
    }
   ],
   "source": [
    "test_agent(agent, map_name=\"4x4\", is_slippery=True, episodes=5)"
   ]
  }
 ],
 "metadata": {
  "kernelspec": {
   "display_name": "INF202-Project",
   "language": "python",
   "name": "python3"
  },
  "language_info": {
   "codemirror_mode": {
    "name": "ipython",
    "version": 3
   },
   "file_extension": ".py",
   "mimetype": "text/x-python",
   "name": "python",
   "nbconvert_exporter": "python",
   "pygments_lexer": "ipython3",
   "version": "3.10.4"
  }
 },
 "nbformat": 4,
 "nbformat_minor": 2
}
