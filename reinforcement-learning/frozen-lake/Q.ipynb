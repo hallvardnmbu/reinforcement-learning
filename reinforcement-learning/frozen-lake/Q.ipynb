{
 "cells": [
  {
   "cell_type": "code",
   "execution_count": null,
   "metadata": {},
   "outputs": [],
   "source": [
    "import gymnasium as gym\n",
    "import matplotlib.pyplot as plt\n",
    "\n",
    "from Q import TabularQAgent"
   ]
  },
  {
   "cell_type": "code",
   "execution_count": null,
   "metadata": {},
   "outputs": [],
   "source": [
    "environment = gym.make(\"FrozenLake-v1\", map_name=\"4x4\", is_slippery=True, render_mode=\"human\")"
   ]
  },
  {
   "cell_type": "code",
   "outputs": [],
   "source": [
    "AGENT = TabularQAgent(\n",
    "    space={\n",
    "        \"states\": environment.observation_space.n,\n",
    "        \"actions\": environment.action_space.n\n",
    "    },\n",
    "    lr=0.8, \n",
    "    gamma=0.9, \n",
    "    exploration={\n",
    "        \"rate\": 0.99,\n",
    "        \"decay\": 0.0001,\n",
    "        \"min\": 0.01\n",
    "    }\n",
    ")\n",
    "EPISODES = 4000\n",
    "RENDER = False"
   ],
   "metadata": {
    "collapsed": false
   }
  },
  {
   "cell_type": "code",
   "execution_count": null,
   "metadata": {},
   "outputs": [],
   "source": [
    "def run(episodes, render):\n",
    "    global AGENT, environment\n",
    "    \n",
    "    rewards = []\n",
    "    for episode in range(episodes):\n",
    "        state = environment.reset()[0]\n",
    "        \n",
    "        reward = 0\n",
    "        terminated = truncated = False\n",
    "        while not (terminated or truncated):\n",
    "            environment.render() if render else None\n",
    "    \n",
    "            action = AGENT.action(state)\n",
    "            new_state, _reward, terminated, truncated, _ = environment.step(action)\n",
    "    \n",
    "            AGENT.learn(state, action, _reward, new_state)\n",
    "    \n",
    "            reward += _reward\n",
    "            state = new_state\n",
    "    \n",
    "        rewards.append(reward)\n",
    "    return rewards"
   ]
  },
  {
   "cell_type": "code",
   "execution_count": null,
   "metadata": {},
   "outputs": [],
   "source": [
    "rewards = run(EPISODES, RENDER)\n",
    "\n",
    "plt.plot(rewards)\n",
    "plt.xlabel(\"Episode\")\n",
    "plt.ylabel(\"Accumulated Reward\")\n",
    "plt.show()"
   ]
  },
  {
   "cell_type": "code",
   "outputs": [],
   "source": [
    "environment.close()"
   ],
   "metadata": {
    "collapsed": false
   }
  }
 ],
 "metadata": {
  "kernelspec": {
   "display_name": "INF202-Project",
   "language": "python",
   "name": "python3"
  },
  "language_info": {
   "codemirror_mode": {
    "name": "ipython",
    "version": 3
   },
   "file_extension": ".py",
   "mimetype": "text/x-python",
   "name": "python",
   "nbconvert_exporter": "python",
   "pygments_lexer": "ipython3",
   "version": "3.10.4"
  }
 },
 "nbformat": 4,
 "nbformat_minor": 2
}
