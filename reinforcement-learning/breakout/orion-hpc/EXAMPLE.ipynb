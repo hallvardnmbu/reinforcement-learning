{
 "cells": [
  {
   "cell_type": "markdown",
   "source": [
    "# Visualise the pre-trained agent in action\n",
    "\n",
    "Modify the path to the weights and run the notebook."
   ],
   "metadata": {
    "collapsed": false
   },
   "id": "b3d8465ecb86eca7"
  },
  {
   "cell_type": "code",
   "outputs": [],
   "source": [
    "WEIGHTS = './weights-5000'  # NB: without '.pth'\n",
    "METRICS = './metrics.csv'"
   ],
   "metadata": {
    "collapsed": false
   },
   "id": "fea8e7d9fca9baa8",
   "execution_count": null
  },
  {
   "cell_type": "code",
   "outputs": [],
   "source": [
    "import sys\n",
    "import torch\n",
    "import gymnasium as gym\n",
    "import matplotlib.pyplot as plt\n",
    "\n",
    "from upload.agent import VisionDeepQ\n",
    "\n",
    "sys.path.append('../')\n",
    "from utilities import visualisation  # noqa"
   ],
   "metadata": {
    "collapsed": false
   },
   "id": "7fb6036582d6bcba",
   "execution_count": null
  },
  {
   "cell_type": "markdown",
   "source": [
    "## Parameters"
   ],
   "metadata": {
    "collapsed": false
   },
   "id": "4dddd56883444fab"
  },
  {
   "cell_type": "code",
   "outputs": [],
   "source": [
    "network = {\n",
    "    \"input_channels\": 4, \"outputs\": 4,\n",
    "    \"channels\": [32, 64, 64],\n",
    "    \"kernels\": [8, 4, 3],\n",
    "    \"padding\": [\"valid\", \"valid\", \"valid\"],\n",
    "    \"strides\": [4, 2, 1],\n",
    "    \"nodes\": [512],\n",
    "}\n",
    "optimizer = {\n",
    "    \"optimizer\": torch.optim.Adam,\n",
    "    \"lr\": 0.0000625,\n",
    "    \"hyperparameters\": {\"eps\": 1.5e-4}\n",
    "}\n",
    "shape = {\n",
    "    \"original\": (1, 1, 210, 160),\n",
    "    \"max_pooling\": 2,\n",
    "}\n",
    "skip = 4"
   ],
   "metadata": {
    "collapsed": false
   },
   "id": "16867687f37ddbca",
   "execution_count": null
  },
  {
   "cell_type": "markdown",
   "source": [
    "## Setup"
   ],
   "metadata": {
    "collapsed": false
   },
   "id": "f4ceef526245f794"
  },
  {
   "cell_type": "code",
   "outputs": [],
   "source": [
    "value_agent = VisionDeepQ(\n",
    "    network=network, optimizer=optimizer, shape=shape,\n",
    "    exploration_rate=1.0,\n",
    ")\n",
    "\n",
    "# weights = torch.load(f'{WEIGHTS}.pth', map_location=torch.device('cpu'))\n",
    "# value_agent.load_state_dict(weights)\n",
    "\n",
    "environment = gym.make('ALE/Breakout-v5', render_mode=\"rgb_array\",\n",
    "                       obs_type=\"grayscale\", frameskip=1, repeat_action_probability=0.0)\n",
    "environment.metadata[\"render_fps\"] = 30"
   ],
   "metadata": {
    "collapsed": false
   },
   "id": "545e1bc3efb30329",
   "execution_count": null
  },
  {
   "cell_type": "markdown",
   "source": [
    "## Visualise"
   ],
   "metadata": {
    "collapsed": false
   },
   "id": "e0865980f2160f3d"
  },
  {
   "cell_type": "markdown",
   "source": [
    "### Plotting the metrics from the csv-file created during training."
   ],
   "metadata": {
    "collapsed": false
   },
   "id": "e16710b451bb52bf"
  },
  {
   "cell_type": "code",
   "outputs": [],
   "source": [
    "visualisation.graph(METRICS, title=\"Training history\", window=50) if METRICS else None\n",
    "plt.show() if METRICS else None"
   ],
   "metadata": {
    "collapsed": false
   },
   "id": "22ce7a0155a13a58",
   "execution_count": null
  },
  {
   "cell_type": "markdown",
   "source": [
    "### Creating and saving a gif of the agent in action. The gif will be saved to the given path."
   ],
   "metadata": {
    "collapsed": false
   },
   "id": "7cfa651d1ac64461"
  },
  {
   "cell_type": "code",
   "outputs": [],
   "source": [
    "visualisation.gif(environment, value_agent, f'./{WEIGHTS}.gif', skip)"
   ],
   "metadata": {
    "collapsed": false
   },
   "id": "b2ba42f6d9ca3e92",
   "execution_count": null
  }
 ],
 "metadata": {
  "kernelspec": {
   "display_name": "Python 3",
   "language": "python",
   "name": "python3"
  },
  "language_info": {
   "codemirror_mode": {
    "name": "ipython",
    "version": 2
   },
   "file_extension": ".py",
   "mimetype": "text/x-python",
   "name": "python",
   "nbconvert_exporter": "python",
   "pygments_lexer": "ipython2",
   "version": "2.7.6"
  }
 },
 "nbformat": 4,
 "nbformat_minor": 5
}
