{
 "cells": [
  {
   "cell_type": "markdown",
   "source": [
    "# Value-based vision agent in the tetris environment using PyTorch"
   ],
   "metadata": {
    "collapsed": false
   },
   "id": "53c89e80d06ac9e1"
  },
  {
   "cell_type": "markdown",
   "source": [
    "|        | TYPE                   | VALUES          | DESCRIPTION                                                                                                |\n",
    "|--------|------------------------|-----------------|------------------------------------------------------------------------------------------------------------|\n",
    "| Action Space | ndarray<br/>(1,) | {0, 1, 2, 3, 4} | Action to manipulate the current tile.<br/>0: No action<br/>1: Rotate<br/>2: Right<br/>3: Left<br/>4: Down |\n",
    "| Observation Space | ndarray<br/>(210,160) | <0, 255> | The game screen. |\n",
    "| Reward |  | float | Reward given when a row is filled.<br/>Single: 1<br/>Double: 3<br/>Triple: 8<br/>Quadruple: 18       |\n",
    "| Termination |  | boolean | The game ends when the pieces stack up to the top of the playing field.                                    |"
   ],
   "metadata": {
    "collapsed": false
   },
   "id": "a6703acaf6e4cdb1"
  },
  {
   "cell_type": "code",
   "execution_count": 1,
   "id": "initial_id",
   "metadata": {
    "collapsed": true,
    "ExecuteTime": {
     "end_time": "2024-02-29T09:35:45.697804Z",
     "start_time": "2024-02-29T09:35:44.278123Z"
    }
   },
   "outputs": [],
   "source": [
    "import copy\n",
    "import time\n",
    "import torch\n",
    "import imageio\n",
    "import gymnasium as gym\n",
    "import matplotlib.pyplot as plt\n",
    "\n",
    "from agents.value_vision import VisionDeepQ"
   ]
  },
  {
   "cell_type": "code",
   "outputs": [
    {
     "name": "stderr",
     "output_type": "stream",
     "text": [
      "A.L.E: Arcade Learning Environment (version 0.8.1+53f58b7)\n",
      "[Powered by Stella]\n"
     ]
    }
   ],
   "source": [
    "environment = gym.make('ALE/Tetris-v5', render_mode=\"rgb_array\", \n",
    "                       obs_type=\"grayscale\", frameskip=4, repeat_action_probability=0.25)"
   ],
   "metadata": {
    "collapsed": false,
    "ExecuteTime": {
     "end_time": "2024-02-29T09:35:45.754410Z",
     "start_time": "2024-02-29T09:35:45.698921Z"
    }
   },
   "id": "82fb48c186edca6",
   "execution_count": 2
  },
  {
   "cell_type": "markdown",
   "source": [
    "### Training"
   ],
   "metadata": {
    "collapsed": false
   },
   "id": "502492d920829821"
  },
  {
   "cell_type": "markdown",
   "source": [
    "#### Parameters"
   ],
   "metadata": {
    "collapsed": false
   },
   "id": "a9b6e0d012e49d21"
  },
  {
   "cell_type": "code",
   "outputs": [],
   "source": [
    "GAMES = 500\n",
    "\n",
    "DISCOUNT = 0.99                                             # Discount rate for rewards\n",
    "GAMMA = 0.95                                                # Discount rate for Q-learning\n",
    "\n",
    "EXPLORATION_RATE = 1.0                                      # Initial exploration rate\n",
    "EXPLORATION_DECAY = 0.9995                                  # Decay rate every game (rate *= decay)\n",
    "EXPLORATION_MIN = 0.01                                      # Minimum exploration rate\n",
    "\n",
    "MINIBATCH = 32                                              # Size of the minibatch\n",
    "TRAIN_EVERY = 25                                            # Train the network every n games\n",
    "START_TRAINING_AT = 400                                     # Start training after n games\n",
    "\n",
    "REMEMBER_ALL = False                                        # Only remember games with rewards\n",
    "MEMORY = 1500                                               # Size of the agents internal memory\n",
    "RESET_Q_EVERY = 250                                         # Update target-network every n games\n",
    "\n",
    "NETWORK = {\n",
    "    \"input_channels\": 1, \"outputs\": 5, \n",
    "    \"channels\": [32, 64, 64],\n",
    "    \"kernels\": [8, 4, 3],\n",
    "    \"strides\": [4, 2, 1],\n",
    "    \"nodes\": [64]\n",
    "}\n",
    "OPTIMIZER = {\n",
    "    \"optimizer\": torch.optim.RMSprop, \n",
    "    \"lr\": 0.0025, \n",
    "    \"hyperparameters\": {}\n",
    "}"
   ],
   "metadata": {
    "collapsed": false,
    "ExecuteTime": {
     "end_time": "2024-02-29T09:35:45.758078Z",
     "start_time": "2024-02-29T09:35:45.753509Z"
    }
   },
   "id": "2476ac8633268c19",
   "execution_count": 3
  },
  {
   "cell_type": "markdown",
   "source": [
    "#### Initialisation"
   ],
   "metadata": {
    "collapsed": false
   },
   "id": "63982ba7ddfbf951"
  },
  {
   "cell_type": "code",
   "outputs": [],
   "source": [
    "value_agent = VisionDeepQ(\n",
    "    network=NETWORK, optimizer=OPTIMIZER,\n",
    "    \n",
    "    discount=DISCOUNT, gamma=GAMMA, \n",
    "    \n",
    "    batch_size=MINIBATCH, memory=MEMORY,\n",
    "    \n",
    "    exploration_rate=EXPLORATION_RATE, exploration_decay=EXPLORATION_DECAY, \n",
    "    exploration_min=EXPLORATION_MIN\n",
    ")\n",
    "\n",
    "_value_agent = copy.deepcopy(value_agent)"
   ],
   "metadata": {
    "collapsed": false,
    "ExecuteTime": {
     "end_time": "2024-02-29T09:35:46.184257Z",
     "start_time": "2024-02-29T09:35:45.757044Z"
    }
   },
   "id": "4efdbf0dbc4e327f",
   "execution_count": 4
  },
  {
   "cell_type": "code",
   "outputs": [],
   "source": [
    "checkpoint = GAMES // 10\n",
    "metrics = {\n",
    "    \"steps\": torch.zeros(GAMES),\n",
    "    \"losses\": torch.zeros(GAMES // TRAIN_EVERY),\n",
    "    \"exploration\": torch.zeros(GAMES),\n",
    "    \"rewards\": torch.zeros(GAMES)\n",
    "}"
   ],
   "metadata": {
    "collapsed": false,
    "ExecuteTime": {
     "end_time": "2024-02-29T09:35:46.188549Z",
     "start_time": "2024-02-29T09:35:46.185409Z"
    }
   },
   "id": "3e9591009b6a7d65",
   "execution_count": 5
  },
  {
   "cell_type": "markdown",
   "source": [
    "#### Training"
   ],
   "metadata": {
    "collapsed": false
   },
   "id": "ae53ad294423428a"
  },
  {
   "cell_type": "code",
   "outputs": [
    {
     "name": "stdout",
     "output_type": "stream",
     "text": [
      "Game     50               10 % \n",
      "------------------------------ \n",
      " > Average steps:          539 \n",
      " > Average loss:             - \n",
      " > Rewards:                  0 \n",
      " \n",
      "Game    100               20 % \n",
      "------------------------------ \n",
      " > Average steps:          545 \n",
      " > Average loss:             - \n",
      " > Rewards:                  1 \n",
      " \n",
      "Game    150               30 % \n",
      "------------------------------ \n",
      " > Average steps:          512 \n",
      " > Average loss:             - \n",
      " > Rewards:                  0 \n",
      " \n",
      "Game    200               40 % \n",
      "------------------------------ \n",
      " > Average steps:          509 \n",
      " > Average loss:             - \n",
      " > Rewards:                  1 \n",
      " \n",
      "Game    250               50 % \n",
      "------------------------------ \n",
      " > Average steps:          530 \n",
      " > Average loss:             - \n",
      " > Rewards:                  0 \n",
      " \n",
      "Game    300               60 % \n",
      "------------------------------ \n",
      " > Average steps:          531 \n",
      " > Average loss:             - \n",
      " > Rewards:                  0 \n",
      " \n",
      "Game    350               70 % \n",
      "------------------------------ \n",
      " > Average steps:          515 \n",
      " > Average loss:             - \n",
      " > Rewards:                  0 \n",
      " \n",
      "Game    400               80 % \n",
      "------------------------------ \n",
      " > Average steps:          561 \n",
      " > Average loss:        0.6094 \n",
      " > Rewards:                  1 \n",
      " \n",
      "Game    450               90 % \n",
      "------------------------------ \n",
      " > Average steps:          537 \n",
      " > Average loss:      135.0953 \n",
      " > Rewards:                  3 \n",
      " \n",
      "Game    500              100 % \n",
      "------------------------------ \n",
      " > Average steps:          555 \n",
      " > Average loss:        1.1301 \n",
      " > Rewards:                  1 \n",
      " \n",
      "Total training time: 196.83 seconds\n"
     ]
    }
   ],
   "source": [
    "start = time.time()\n",
    "for game in range(1, GAMES + 1):\n",
    "    \n",
    "    state = torch.tensor(environment.reset()[0], dtype=torch.float32).view((1, 1, 210, 160))  # noqa\n",
    "    terminated = truncated = False\n",
    "    \n",
    "    # LEARNING FROM GAME\n",
    "    # ----------------------------------------------------------------------------------------------\n",
    "    \n",
    "    steps = 0\n",
    "    rewards = 0\n",
    "    while not (terminated or truncated):\n",
    "        action = value_agent.action(state)\n",
    "            \n",
    "        new_state, reward, terminated, truncated, _ = environment.step(action.item())         # noqa\n",
    "        new_state = torch.tensor(new_state, dtype=torch.float32).view((1, 1, 210, 160))\n",
    "        \n",
    "        value_agent.remember(state, action, new_state, torch.tensor([reward]))\n",
    "        state = new_state\n",
    "        \n",
    "        steps += 1\n",
    "        rewards += reward\n",
    "        \n",
    "    if REMEMBER_ALL or rewards > 0:\n",
    "        value_agent.memorize(steps)\n",
    "    else:\n",
    "        value_agent.memory[\"game\"].clear()\n",
    "\n",
    "    if (game % TRAIN_EVERY == 0 \n",
    "            and len(value_agent.memory[\"memory\"]) > 0 \n",
    "            and game >= START_TRAINING_AT):\n",
    "        loss = value_agent.learn(network=_value_agent)\n",
    "        metrics[\"losses\"][game // TRAIN_EVERY - 1] = loss\n",
    "    \n",
    "    if game % RESET_Q_EVERY == 0 and game > START_TRAINING_AT:\n",
    "        _value_agent.load_state_dict(value_agent.state_dict())\n",
    "\n",
    "    # METRICS\n",
    "    # ----------------------------------------------------------------------------------------------\n",
    "    \n",
    "    metrics[\"steps\"][game-1] = steps\n",
    "    metrics[\"exploration\"][game-1] = value_agent.parameter[\"rate\"]\n",
    "    metrics[\"rewards\"][game-1] = rewards\n",
    "    \n",
    "    if game % checkpoint == 0 or game == GAMES:\n",
    "        _mean_steps = metrics[\"steps\"][max(0, game-checkpoint-1):game-1].mean()\n",
    "        _total_rewards = metrics[\"rewards\"][max(0, game-checkpoint-1):game-1].sum()\n",
    "        \n",
    "        if game >= START_TRAINING_AT:\n",
    "            _mean_loss = metrics[\"losses\"][max(0, (game-checkpoint-1) \n",
    "                                       // TRAIN_EVERY):game // TRAIN_EVERY].mean()\n",
    "            _mean_loss = f\"{_mean_loss:.4f}\"\n",
    "        else:\n",
    "            _mean_loss = \"-\"\n",
    "        \n",
    "        print(f\"Game {game:>6} {int(game/GAMES * 100):>16} % \\n\"\n",
    "              f\"{'-'*30} \\n\"\n",
    "              f\" > Average steps: {int(_mean_steps):>12} \\n\"\n",
    "              f\" > Average loss: {_mean_loss:>13} \\n\"\n",
    "              f\" > Rewards: {int(_total_rewards):>18} \\n \")\n",
    "        \n",
    "print(f\"Total training time: {time.time()-start:.2f} seconds\")"
   ],
   "metadata": {
    "collapsed": false,
    "ExecuteTime": {
     "end_time": "2024-02-29T09:39:03.030334Z",
     "start_time": "2024-02-29T09:35:46.199251Z"
    }
   },
   "id": "b4abfe2d67240d1f",
   "execution_count": 6
  },
  {
   "cell_type": "markdown",
   "source": [
    "#### Visualisation"
   ],
   "metadata": {
    "collapsed": false
   },
   "id": "4e6dd43949968ed9"
  },
  {
   "cell_type": "markdown",
   "source": [
    "##### Metrics"
   ],
   "metadata": {
    "collapsed": false
   },
   "id": "24bf08f31372cdc3"
  },
  {
   "cell_type": "code",
   "outputs": [
    {
     "data": {
      "text/plain": "<Figure size 1200x800 with 4 Axes>",
      "image/png": "[encoded data removed]"
     },
     "metadata": {},
     "output_type": "display_data"
    }
   ],
   "source": [
    "def moving_average(data, window_size=50):\n",
    "    \"\"\"Compute moving average with given window size of the data.\"\"\"\n",
    "    half_window = window_size // 2\n",
    "    return [(data[max(0, i-half_window):min(len(data), i+half_window)]).mean() \n",
    "            for i in range(len(data))]\n",
    "\n",
    "steps = moving_average(metrics[\"steps\"])\n",
    "losses = moving_average(metrics[\"losses\"])\n",
    "rewards = [val.item() if val > 0 else torch.nan for val in metrics[\"rewards\"]]\n",
    "\n",
    "fig, ax = plt.subplots(3, 1, figsize=(12, 8))\n",
    "fig.suptitle(\"Value-based: vision deep Q-learning agent\")\n",
    "\n",
    "ax[0].plot(steps, color=\"black\", linewidth=1)\n",
    "ax[0].set_xticks([])\n",
    "ax[0].set_title(\"Average steps per game\")\n",
    "\n",
    "ax[1].plot(torch.linspace(0, GAMES, len(losses)), losses, color=\"black\", linewidth=1)\n",
    "ax[1].set_yscale(\"log\") if any(loss > 0 for loss in losses) else None\n",
    "ax[1].set_xticks([])\n",
    "ax[1].set_title(\"Average loss\")\n",
    "\n",
    "ax_2 = ax[1].twinx()\n",
    "ax_2.plot(metrics[\"exploration\"], color=\"gray\", linewidth=0.5)\n",
    "ax_2.set_ylabel(\"Exploration rate\")\n",
    "ax_2.yaxis.label.set_color('gray')\n",
    "ax_2.set_ylim(-0.1, 1.1)\n",
    "ax_2.tick_params(axis='y', colors='gray')\n",
    "\n",
    "ax[2].scatter(range(len(rewards)), rewards, color=\"black\", s=15, marker=\"*\")\n",
    "ticks = list(set(reward for reward in rewards if not torch.isnan(torch.tensor(reward))))\n",
    "ax[2].set_yticks(ticks) if ticks else None\n",
    "ax[2].set_xlim(ax[1].get_xlim())\n",
    "ax[2].set_xlabel(\"Game nr.\")\n",
    "ax[2].set_title(\"Rewards per game\")\n",
    "\n",
    "for i in range(0, GAMES, GAMES // 10):\n",
    "    ax[0].axvline(x=i, color='gray', linewidth=0.5)\n",
    "    ax[1].axvline(x=i, color='gray', linewidth=0.5)\n",
    "    ax[2].axvline(x=i, color='gray', linewidth=0.5)\n",
    "    \n",
    "ax[0].axvline(x=START_TRAINING_AT, color='black', linewidth=1)\n",
    "ax[1].axvline(x=START_TRAINING_AT, color='black', linewidth=1)\n",
    "ax[2].axvline(x=START_TRAINING_AT, color='black', linewidth=1)\n",
    "ax[2].text(START_TRAINING_AT, 1, 'Training starts', \n",
    "           rotation=90, verticalalignment='center', horizontalalignment='center',\n",
    "           bbox=dict(facecolor='white', alpha=1.0))\n",
    "\n",
    "plt.savefig(\"./output/value-vision-tetris.png\")\n",
    "plt.show()"
   ],
   "metadata": {
    "collapsed": false,
    "ExecuteTime": {
     "end_time": "2024-02-29T09:39:03.491559Z",
     "start_time": "2024-02-29T09:39:03.037394Z"
    }
   },
   "id": "510380cc5f3c5685",
   "execution_count": 7
  },
  {
   "cell_type": "markdown",
   "source": [
    "##### In action"
   ],
   "metadata": {
    "collapsed": false
   },
   "id": "96a3a9859771c84"
  },
  {
   "cell_type": "code",
   "outputs": [
    {
     "name": "stderr",
     "output_type": "stream",
     "text": [
      "/Users/Mac/anaconda3/envs/spesialpensum/lib/python3.10/site-packages/gymnasium/utils/passive_env_checker.py:335: UserWarning: \u001B[33mWARN: No render fps was declared in the environment (env.metadata['render_fps'] is None or not defined), rendering may occur at inconsistent fps.\u001B[0m\n",
      "  logger.warn(\n"
     ]
    }
   ],
   "source": [
    "state = torch.tensor(environment.reset()[0], dtype=torch.float32).view((1, 1, 210, 160))\n",
    "\n",
    "images = []\n",
    "terminated = truncated = False\n",
    "while not (terminated or truncated):\n",
    "    action = value_agent(state).argmax(1).item()\n",
    "    \n",
    "    state, reward, terminated, truncated, _ = environment.step(action)\n",
    "    state = torch.tensor(state, dtype=torch.float32).view((1, 1, 210, 160))\n",
    "\n",
    "    images.append(environment.render())\n",
    "_ = imageio.mimsave('./output/value-vision-tetris.gif', images, duration=50)"
   ],
   "metadata": {
    "collapsed": false,
    "ExecuteTime": {
     "end_time": "2024-02-29T09:39:04.580441Z",
     "start_time": "2024-02-29T09:39:03.494964Z"
    }
   },
   "id": "4183f64c47eb5090",
   "execution_count": 8
  },
  {
   "cell_type": "markdown",
   "source": [
    "<img src=\"./output/value-vision-tetris.gif\" width=\"1000\" height=\"1000\" />"
   ],
   "metadata": {
    "collapsed": false
   },
   "id": "a9f592c07276b7f2"
  },
  {
   "cell_type": "code",
   "outputs": [],
   "source": [
    "environment.close()"
   ],
   "metadata": {
    "collapsed": false,
    "ExecuteTime": {
     "end_time": "2024-02-29T09:39:04.585518Z",
     "start_time": "2024-02-29T09:39:04.581051Z"
    }
   },
   "id": "2f63ff4b67fe2c7",
   "execution_count": 9
  }
 ],
 "metadata": {
  "kernelspec": {
   "display_name": "Python 3",
   "language": "python",
   "name": "python3"
  },
  "language_info": {
   "codemirror_mode": {
    "name": "ipython",
    "version": 2
   },
   "file_extension": ".py",
   "mimetype": "text/x-python",
   "name": "python",
   "nbconvert_exporter": "python",
   "pygments_lexer": "ipython2",
   "version": "2.7.6"
  }
 },
 "nbformat": 4,
 "nbformat_minor": 5
}
