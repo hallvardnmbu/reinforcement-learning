{
 "cells": [
  {
   "cell_type": "markdown",
   "source": [
    "# Value-based vision agent in the tetris environment using PyTorch"
   ],
   "metadata": {
    "collapsed": false
   },
   "id": "53c89e80d06ac9e1"
  },
  {
   "cell_type": "markdown",
   "source": [
    "|        | TYPE                   | VALUES          | DESCRIPTION                                                                                                |\n",
    "|--------|------------------------|-----------------|------------------------------------------------------------------------------------------------------------|\n",
    "| Action Space | ndarray<br/>(1,) | {0, 1, 2, 3, 4} | Action to manipulate the current tile.<br/>0: No action<br/>1: Rotate<br/>2: Right<br/>3: Left<br/>4: Down |\n",
    "| Observation Space | ndarray<br/>(210,160) | <0, 255> | The game screen. |\n",
    "| Reward |  | float | Reward given when a row is filled.<br/>Single: 1<br/>Double: 3<br/>Triple: 8<br/>Quadruple: 18       |\n",
    "| Termination |  | boolean | The game ends when the pieces stack up to the top of the playing field.                                    |"
   ],
   "metadata": {
    "collapsed": false
   },
   "id": "a6703acaf6e4cdb1"
  },
  {
   "cell_type": "code",
   "execution_count": null,
   "id": "initial_id",
   "metadata": {
    "collapsed": true
   },
   "outputs": [],
   "source": [
    "import copy\n",
    "import time\n",
    "import torch\n",
    "import imageio\n",
    "import gymnasium as gym\n",
    "import matplotlib.pyplot as plt\n",
    "\n",
    "from agents.value_vision import VisionDeepQ"
   ]
  },
  {
   "cell_type": "code",
   "outputs": [],
   "source": [
    "environment = gym.make('ALE/Tetris-v5', render_mode=\"rgb_array\", \n",
    "                       obs_type=\"grayscale\", frameskip=4, repeat_action_probability=0.25)\n",
    "environment.metadata[\"render_fps\"] = 30"
   ],
   "metadata": {
    "collapsed": false
   },
   "id": "82fb48c186edca6",
   "execution_count": null
  },
  {
   "cell_type": "markdown",
   "source": [
    "### Training"
   ],
   "metadata": {
    "collapsed": false
   },
   "id": "502492d920829821"
  },
  {
   "cell_type": "markdown",
   "source": [
    "#### Parameters"
   ],
   "metadata": {
    "collapsed": false
   },
   "id": "a9b6e0d012e49d21"
  },
  {
   "cell_type": "markdown",
   "source": [
    "|Parameter|Description|\n",
    "|---------|-----------|\n",
    "| SHAPE | input shape of the network (batch, channels, height, width) |\n",
    "| DISCOUNT | discount rate for rewards |\n",
    "| GAMMA | discount rate for Q-learning |\n",
    "| EXPLORATION_RATE | initial exploration rate |\n",
    "| EXPLORATION_MIN | minimum exploration rate |\n",
    "| EXPLORATION_STEPS | number of games to decay exploration rate from `RATE` to `MIN` |\n",
    "| MINIBATCH | size of the minibatch |\n",
    "| TRAIN_EVERY | train the network every `n` games |\n",
    "| START_TRAINING_AT | start training after n games |\n",
    "| REMEMBER_ALL | only remember games with rewards |\n",
    "| MEMORY | size of the agents internal memory |\n",
    "| RESET_Q_EVERY | update target-network every `n` games |"
   ],
   "metadata": {
    "collapsed": false
   },
   "id": "8baf69f3865a7093"
  },
  {
   "cell_type": "code",
   "outputs": [],
   "source": [
    "GAMES = 50000\n",
    "SHAPE = (1, 1, 210, 160)\n",
    "\n",
    "DISCOUNT = 0.98\n",
    "GAMMA = 0.99\n",
    "\n",
    "EXPLORATION_RATE = 0.6\n",
    "EXPLORATION_MIN = 0.01\n",
    "EXPLORATION_STEPS = 1500\n",
    "\n",
    "MINIBATCH = 32\n",
    "TRAIN_EVERY = 5\n",
    "START_TRAINING_AT = 2500\n",
    "\n",
    "REMEMBER_ALL = False\n",
    "MEMORY = 100\n",
    "RESET_Q_EVERY = 100\n",
    "\n",
    "NETWORK = {\n",
    "    \"input_channels\": 1, \"outputs\": 5,\n",
    "    \"channels\": [32, 64, 64],\n",
    "    \"kernels\": [5, 3, 3],\n",
    "    \"strides\": [3, 2, 1],\n",
    "    \"nodes\": [64]\n",
    "}\n",
    "OPTIMIZER = {\n",
    "    \"optimizer\": torch.optim.Adam,\n",
    "    \"lr\": 0.001,\n",
    "    \"hyperparameters\": {}\n",
    "}"
   ],
   "metadata": {
    "collapsed": false
   },
   "id": "2476ac8633268c19",
   "execution_count": null
  },
  {
   "cell_type": "markdown",
   "source": [
    "#### Initialisation"
   ],
   "metadata": {
    "collapsed": false
   },
   "id": "63982ba7ddfbf951"
  },
  {
   "cell_type": "code",
   "outputs": [],
   "source": [
    "value_agent = VisionDeepQ(\n",
    "    network=NETWORK, optimizer=OPTIMIZER,\n",
    "\n",
    "    batch_size=MINIBATCH, shape=SHAPE,\n",
    "\n",
    "    other={\n",
    "        \"discount\": DISCOUNT, \"gamma\": GAMMA,\n",
    "\n",
    "        \"memory\": MEMORY,\n",
    "\n",
    "        \"exploration_rate\": EXPLORATION_RATE,\n",
    "        \"exploration_steps\": EXPLORATION_STEPS,\n",
    "        \"exploration_min\": EXPLORATION_MIN\n",
    "    }\n",
    ")\n",
    "\n",
    "_value_agent = copy.deepcopy(value_agent)"
   ],
   "metadata": {
    "collapsed": false
   },
   "id": "4efdbf0dbc4e327f",
   "execution_count": null
  },
  {
   "cell_type": "code",
   "outputs": [],
   "source": [
    "CHECKPOINT = GAMES // 10\n",
    "METRICS = {\n",
    "    \"steps\": torch.zeros(GAMES),\n",
    "    \"losses\": torch.zeros(GAMES // TRAIN_EVERY),\n",
    "    \"exploration\": torch.zeros(GAMES),\n",
    "    \"rewards\": torch.zeros(GAMES)\n",
    "}"
   ],
   "metadata": {
    "collapsed": false
   },
   "id": "3e9591009b6a7d65",
   "execution_count": null
  },
  {
   "cell_type": "markdown",
   "source": [
    "#### Training"
   ],
   "metadata": {
    "collapsed": false
   },
   "id": "ae53ad294423428a"
  },
  {
   "cell_type": "code",
   "outputs": [],
   "source": [
    "TRAINING = False\n",
    "\n",
    "start = time.time()\n",
    "for game in range(1, GAMES + 1):\n",
    "\n",
    "    if not TRAINING and game >= START_TRAINING_AT:\n",
    "        print(\"Starting training\")\n",
    "        TRAINING = True\n",
    "\n",
    "    state = torch.tensor(environment.reset()[0], dtype=torch.float32).view(SHAPE)\n",
    "    TERMINATED = TRUNCATED = False\n",
    "\n",
    "    # LEARNING FROM GAME\n",
    "    # ----------------------------------------------------------------------------------------------\n",
    "\n",
    "    STEPS = 0\n",
    "    REWARDS = 0\n",
    "    while not (TERMINATED or TRUNCATED):\n",
    "        action = value_agent.action(state)\n",
    "\n",
    "        new_state, reward, TERMINATED, TRUNCATED, _ = environment.step(action.item())\n",
    "\n",
    "        new_state = torch.tensor(new_state, dtype=torch.float32).view(SHAPE)\n",
    "\n",
    "        value_agent.remember(state, action, torch.tensor([reward]))\n",
    "\n",
    "        state = new_state\n",
    "\n",
    "        STEPS += 1\n",
    "        REWARDS += reward\n",
    "\n",
    "    if REMEMBER_ALL or REWARDS > 0:\n",
    "        value_agent.memorize(state, STEPS)\n",
    "        print(\" Memorized %s Memory: %s/%s Rewards: %s\",\n",
    "                    game, len(value_agent.memory[\"memory\"]), MEMORY, REWARDS)\n",
    "    else:\n",
    "        value_agent.memory[\"game\"].clear()\n",
    "\n",
    "    if (game % TRAIN_EVERY == 0\n",
    "            and len(value_agent.memory[\"memory\"]) > 0\n",
    "            and TRAINING):\n",
    "        loss = value_agent.learn(network=_value_agent)\n",
    "        METRICS[\"losses\"][game // TRAIN_EVERY - 1] = loss\n",
    "\n",
    "    if game % RESET_Q_EVERY == 0 and TRAINING:\n",
    "        print(\" Resetting target-network\")\n",
    "\n",
    "        _value_agent.load_state_dict(value_agent.state_dict())\n",
    "\n",
    "    # METRICS\n",
    "    # ----------------------------------------------------------------------------------------------\n",
    "\n",
    "    METRICS[\"steps\"][game - 1] = STEPS\n",
    "    METRICS[\"exploration\"][game - 1] = value_agent.parameter[\"rate\"]\n",
    "    METRICS[\"rewards\"][game - 1] = REWARDS\n",
    "\n",
    "    if game % CHECKPOINT == 0 or game == GAMES:\n",
    "        _MEAN_STEPS = METRICS[\"steps\"][max(0, game - CHECKPOINT - 1):game - 1].mean()\n",
    "        _TOTAL_REWARDS = METRICS[\"rewards\"][max(0, game - CHECKPOINT - 1):game - 1].sum()\n",
    "\n",
    "        if TRAINING:\n",
    "            _MEAN_LOSS = METRICS[\"losses\"][max(0, (game - CHECKPOINT - 1)\n",
    "                                               // TRAIN_EVERY):game // TRAIN_EVERY].mean()\n",
    "            _MEAN_LOSS = f\"{_MEAN_LOSS:.4f}\"\n",
    "        else:\n",
    "            _MEAN_LOSS = \"-\"\n",
    "\n",
    "        print(\"Game %s (%s %%)\", game, int(game * 100 / GAMES))\n",
    "        print(\" > Average steps: %s\", int(_MEAN_STEPS))\n",
    "        print(\" > Average loss:  %s\", _MEAN_LOSS)\n",
    "        print(\" > Rewards:       %s\", int(_TOTAL_REWARDS))\n",
    "\n",
    "print(\"Total training time: %s seconds\", round(time.time() - start, 2))"
   ],
   "metadata": {
    "collapsed": false
   },
   "id": "b4abfe2d67240d1f",
   "execution_count": null
  },
  {
   "cell_type": "markdown",
   "source": [
    "#### Visualisation"
   ],
   "metadata": {
    "collapsed": false
   },
   "id": "4e6dd43949968ed9"
  },
  {
   "cell_type": "markdown",
   "source": [
    "##### Metrics"
   ],
   "metadata": {
    "collapsed": false
   },
   "id": "24bf08f31372cdc3"
  },
  {
   "cell_type": "code",
   "outputs": [],
   "source": [
    "def moving_average(data, window_size=50):\n",
    "    \"\"\"Compute moving average with given window size of the data.\"\"\"\n",
    "    half_window = window_size // 2\n",
    "    return [(data[max(0, i - half_window):min(len(data), i + half_window)]).mean()\n",
    "            for i in range(len(data))]\n",
    "\n",
    "\n",
    "STEPS = moving_average(METRICS[\"steps\"])\n",
    "LOSSES = moving_average(METRICS[\"losses\"])\n",
    "REWARDS = [val.item() if val > 0 else torch.nan for val in METRICS[\"rewards\"]]\n",
    "\n",
    "fig, ax = plt.subplots(3, 1, figsize=(12, 8))\n",
    "fig.suptitle(\"Value-based: vision deep Q-learning agent\")\n",
    "\n",
    "ax[0].plot(STEPS, color=\"black\", linewidth=1)\n",
    "ax[0].set_xticks([])\n",
    "ax[0].set_title(\"Average steps per game\")\n",
    "\n",
    "ax[1].plot(torch.linspace(0, GAMES, len(LOSSES)), LOSSES, color=\"black\", linewidth=1)\n",
    "ax[1].set_yscale(\"log\") if any(loss > 0 for loss in LOSSES) else None\n",
    "ax[1].set_xticks([])\n",
    "ax[1].set_title(\"Average loss\")\n",
    "\n",
    "ax_2 = ax[1].twinx()\n",
    "ax_2.plot(METRICS[\"exploration\"], color=\"gray\", linewidth=0.5)\n",
    "ax_2.set_ylabel(\"Exploration rate\")\n",
    "ax_2.yaxis.label.set_color('gray')\n",
    "ax_2.set_ylim(-0.1, 1.1)\n",
    "ax_2.tick_params(axis='y', colors='gray')\n",
    "\n",
    "ax[2].scatter(range(len(REWARDS)), REWARDS, color=\"black\", s=15, marker=\"*\")\n",
    "ticks = list(set(reward for reward in REWARDS if not torch.isnan(torch.tensor(reward))))\n",
    "ax[2].set_yticks(ticks) if ticks else None\n",
    "ax[2].set_xlim(ax[1].get_xlim())\n",
    "ax[2].set_xlabel(\"Game nr.\")\n",
    "ax[2].set_title(\"Rewards per game\")\n",
    "\n",
    "for i in range(0, GAMES, GAMES // 10):\n",
    "    ax[0].axvline(x=i, color='gray', linewidth=0.5)\n",
    "    ax[1].axvline(x=i, color='gray', linewidth=0.5)\n",
    "    ax[2].axvline(x=i, color='gray', linewidth=0.5)\n",
    "\n",
    "ax[0].axvline(x=START_TRAINING_AT, color='black', linewidth=1)\n",
    "ax[1].axvline(x=START_TRAINING_AT, color='black', linewidth=1)\n",
    "ax[2].axvline(x=START_TRAINING_AT, color='black', linewidth=1)\n",
    "ax[2].text(START_TRAINING_AT, 1, 'Training starts',\n",
    "           rotation=90, verticalalignment='center', horizontalalignment='center',\n",
    "           bbox={\"facecolor\": 'white', \"alpha\": 1.0})"
   ],
   "metadata": {
    "collapsed": false
   },
   "id": "510380cc5f3c5685",
   "execution_count": null
  },
  {
   "cell_type": "markdown",
   "source": [
    "##### In action"
   ],
   "metadata": {
    "collapsed": false
   },
   "id": "96a3a9859771c84"
  },
  {
   "cell_type": "code",
   "outputs": [],
   "source": [
    "state = torch.tensor(environment.reset()[0], dtype=torch.float32).view(SHAPE)\n",
    "\n",
    "images = []\n",
    "TERMINATED = TRUNCATED = False\n",
    "while not (TERMINATED or TRUNCATED):\n",
    "    action = value_agent(state).argmax(1).item()\n",
    "\n",
    "    state, reward, TERMINATED, TRUNCATED, _ = environment.step(action)\n",
    "    state = torch.tensor(state, dtype=torch.float32).view(SHAPE)\n",
    "\n",
    "    images.append(environment.render())\n",
    "_ = imageio.mimsave('./output/value-vision-tetris.gif', images, duration=50)"
   ],
   "metadata": {
    "collapsed": false
   },
   "id": "4183f64c47eb5090",
   "execution_count": null
  },
  {
   "cell_type": "markdown",
   "source": [
    "<img src=\"./output/value-vision-tetris.gif\" width=\"1000\" height=\"1000\" />"
   ],
   "metadata": {
    "collapsed": false
   },
   "id": "a9f592c07276b7f2"
  },
  {
   "cell_type": "code",
   "outputs": [],
   "source": [
    "environment.close()"
   ],
   "metadata": {
    "collapsed": false
   },
   "id": "2f63ff4b67fe2c7",
   "execution_count": null
  }
 ],
 "metadata": {
  "kernelspec": {
   "display_name": "Python 3",
   "language": "python",
   "name": "python3"
  },
  "language_info": {
   "codemirror_mode": {
    "name": "ipython",
    "version": 2
   },
   "file_extension": ".py",
   "mimetype": "text/x-python",
   "name": "python",
   "nbconvert_exporter": "python",
   "pygments_lexer": "ipython2",
   "version": "2.7.6"
  }
 },
 "nbformat": 4,
 "nbformat_minor": 5
}
